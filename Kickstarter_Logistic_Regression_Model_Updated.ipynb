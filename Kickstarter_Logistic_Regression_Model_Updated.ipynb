{
 "cells": [
  {
   "cell_type": "code",
   "execution_count": 159,
   "metadata": {},
   "outputs": [],
   "source": [
    "import pandas as pd\n",
    "import numpy as np\n",
    "import matplotlib.pyplot as plt\n",
    "%matplotlib inline\n",
    "import seaborn as sns\n",
    "import os \n",
    "from datetime import datetime"
   ]
  },
  {
   "cell_type": "code",
   "execution_count": 160,
   "metadata": {},
   "outputs": [],
   "source": [
    "basedirectory = os.getcwd()\n",
    "os.chdir(r\"C:\\Users\\ivann\\OneDrive\\Documents\\~General Assembly Documents\")\n"
   ]
  },
  {
   "cell_type": "code",
   "execution_count": 161,
   "metadata": {},
   "outputs": [],
   "source": [
    "raw_data = pd.read_csv(\"DSI_kickstarterscrape_dataset.csv\", encoding =\"latin-1\")"
   ]
  },
  {
   "cell_type": "code",
   "execution_count": 162,
   "metadata": {},
   "outputs": [
    {
     "data": {
      "text/html": "<div>\n<style scoped>\n    .dataframe tbody tr th:only-of-type {\n        vertical-align: middle;\n    }\n\n    .dataframe tbody tr th {\n        vertical-align: top;\n    }\n\n    .dataframe thead th {\n        text-align: right;\n    }\n</style>\n<table border=\"1\" class=\"dataframe\">\n  <thead>\n    <tr style=\"text-align: right;\">\n      <th></th>\n      <th>project id</th>\n      <th>name</th>\n      <th>url</th>\n      <th>category</th>\n      <th>subcategory</th>\n      <th>location</th>\n      <th>status</th>\n      <th>goal</th>\n      <th>pledged</th>\n      <th>funded percentage</th>\n      <th>backers</th>\n      <th>funded date</th>\n      <th>levels</th>\n      <th>reward levels</th>\n      <th>updates</th>\n      <th>comments</th>\n      <th>duration</th>\n    </tr>\n  </thead>\n  <tbody>\n    <tr>\n      <th>0</th>\n      <td>39409</td>\n      <td>WHILE THE TREES SLEEP</td>\n      <td>http://www.kickstarter.com/projects/emiliesaba...</td>\n      <td>Film &amp; Video</td>\n      <td>Short Film</td>\n      <td>Columbia, MO</td>\n      <td>successful</td>\n      <td>10500.0</td>\n      <td>11545.0</td>\n      <td>1.099524</td>\n      <td>66</td>\n      <td>Fri, 19 Aug 2011 19:28:17 -0000</td>\n      <td>7</td>\n      <td>$25,$50,$100,$250,$500,$1,000,$2,500</td>\n      <td>10</td>\n      <td>2</td>\n      <td>30.00</td>\n    </tr>\n    <tr>\n      <th>1</th>\n      <td>126581</td>\n      <td>Educational Online Trading Card Game</td>\n      <td>http://www.kickstarter.com/projects/972789543/...</td>\n      <td>Games</td>\n      <td>Board &amp; Card Games</td>\n      <td>Maplewood, NJ</td>\n      <td>failed</td>\n      <td>4000.0</td>\n      <td>20.0</td>\n      <td>0.005000</td>\n      <td>2</td>\n      <td>Mon, 02 Aug 2010 03:59:00 -0000</td>\n      <td>5</td>\n      <td>$1,$5,$10,$25,$50</td>\n      <td>6</td>\n      <td>0</td>\n      <td>47.18</td>\n    </tr>\n    <tr>\n      <th>2</th>\n      <td>138119</td>\n      <td>STRUM</td>\n      <td>http://www.kickstarter.com/projects/185476022/...</td>\n      <td>Film &amp; Video</td>\n      <td>Animation</td>\n      <td>Los Angeles, CA</td>\n      <td>live</td>\n      <td>20000.0</td>\n      <td>56.0</td>\n      <td>0.002800</td>\n      <td>3</td>\n      <td>Fri, 08 Jun 2012 00:00:31 -0000</td>\n      <td>10</td>\n      <td>$1,$10,$25,$40,$50,$100,$250,$1,000,$1,337,$9,001</td>\n      <td>1</td>\n      <td>0</td>\n      <td>28.00</td>\n    </tr>\n    <tr>\n      <th>3</th>\n      <td>237090</td>\n      <td>GETTING OVER - One son's search to finally kno...</td>\n      <td>http://www.kickstarter.com/projects/charnick/g...</td>\n      <td>Film &amp; Video</td>\n      <td>Documentary</td>\n      <td>Los Angeles, CA</td>\n      <td>successful</td>\n      <td>6000.0</td>\n      <td>6535.0</td>\n      <td>1.089167</td>\n      <td>100</td>\n      <td>Sun, 08 Apr 2012 02:14:00 -0000</td>\n      <td>13</td>\n      <td>$1,$10,$25,$30,$50,$75,$85,$100,$110,$250,$500...</td>\n      <td>4</td>\n      <td>0</td>\n      <td>32.22</td>\n    </tr>\n    <tr>\n      <th>4</th>\n      <td>246101</td>\n      <td>The Launch of FlyeGrlRoyalty &amp;quot;The New Nam...</td>\n      <td>http://www.kickstarter.com/projects/flyegrlroy...</td>\n      <td>Fashion</td>\n      <td>Fashion</td>\n      <td>Novi, MI</td>\n      <td>failed</td>\n      <td>3500.0</td>\n      <td>0.0</td>\n      <td>0.000000</td>\n      <td>0</td>\n      <td>Wed, 01 Jun 2011 15:25:39 -0000</td>\n      <td>6</td>\n      <td>$10,$25,$50,$100,$150,$250</td>\n      <td>2</td>\n      <td>0</td>\n      <td>30.00</td>\n    </tr>\n  </tbody>\n</table>\n</div>",
      "text/plain": "   project id                                               name  \\\n0       39409                              WHILE THE TREES SLEEP   \n1      126581               Educational Online Trading Card Game   \n2      138119                                              STRUM   \n3      237090  GETTING OVER - One son's search to finally kno...   \n4      246101  The Launch of FlyeGrlRoyalty &quot;The New Nam...   \n\n                                                 url      category  \\\n0  http://www.kickstarter.com/projects/emiliesaba...  Film & Video   \n1  http://www.kickstarter.com/projects/972789543/...         Games   \n2  http://www.kickstarter.com/projects/185476022/...  Film & Video   \n3  http://www.kickstarter.com/projects/charnick/g...  Film & Video   \n4  http://www.kickstarter.com/projects/flyegrlroy...       Fashion   \n\n          subcategory         location      status     goal  pledged  \\\n0          Short Film     Columbia, MO  successful  10500.0  11545.0   \n1  Board & Card Games    Maplewood, NJ      failed   4000.0     20.0   \n2           Animation  Los Angeles, CA        live  20000.0     56.0   \n3         Documentary  Los Angeles, CA  successful   6000.0   6535.0   \n4             Fashion         Novi, MI      failed   3500.0      0.0   \n\n   funded percentage  backers                      funded date  levels  \\\n0           1.099524       66  Fri, 19 Aug 2011 19:28:17 -0000       7   \n1           0.005000        2  Mon, 02 Aug 2010 03:59:00 -0000       5   \n2           0.002800        3  Fri, 08 Jun 2012 00:00:31 -0000      10   \n3           1.089167      100  Sun, 08 Apr 2012 02:14:00 -0000      13   \n4           0.000000        0  Wed, 01 Jun 2011 15:25:39 -0000       6   \n\n                                       reward levels  updates  comments  \\\n0               $25,$50,$100,$250,$500,$1,000,$2,500       10         2   \n1                                  $1,$5,$10,$25,$50        6         0   \n2  $1,$10,$25,$40,$50,$100,$250,$1,000,$1,337,$9,001        1         0   \n3  $1,$10,$25,$30,$50,$75,$85,$100,$110,$250,$500...        4         0   \n4                         $10,$25,$50,$100,$150,$250        2         0   \n\n   duration  \n0     30.00  \n1     47.18  \n2     28.00  \n3     32.22  \n4     30.00  "
     },
     "execution_count": 162,
     "metadata": {},
     "output_type": "execute_result"
    }
   ],
   "source": [
    "raw_data.head()\n",
    "#two things you shoul always do, dataset.info() and dataset.describe()"
   ]
  },
  {
   "cell_type": "code",
   "execution_count": 163,
   "metadata": {},
   "outputs": [
    {
     "name": "stdout",
     "output_type": "stream",
     "text": [
      "<class 'pandas.core.frame.DataFrame'>\n",
      "RangeIndex: 45957 entries, 0 to 45956\n",
      "Data columns (total 17 columns):\n",
      " #   Column             Non-Null Count  Dtype  \n",
      "---  ------             --------------  -----  \n",
      " 0   project id         45957 non-null  int64  \n",
      " 1   name               45957 non-null  object \n",
      " 2   url                45957 non-null  object \n",
      " 3   category           45957 non-null  object \n",
      " 4   subcategory        45957 non-null  object \n",
      " 5   location           44635 non-null  object \n",
      " 6   status             45957 non-null  object \n",
      " 7   goal               45957 non-null  float64\n",
      " 8   pledged            45945 non-null  float64\n",
      " 9   funded percentage  45957 non-null  float64\n",
      " 10  backers            45957 non-null  int64  \n",
      " 11  funded date        45957 non-null  object \n",
      " 12  levels             45957 non-null  int64  \n",
      " 13  reward levels      45898 non-null  object \n",
      " 14  updates            45957 non-null  int64  \n",
      " 15  comments           45957 non-null  int64  \n",
      " 16  duration           45957 non-null  float64\n",
      "dtypes: float64(4), int64(5), object(8)\n",
      "memory usage: 6.0+ MB\n"
     ]
    },
    {
     "data": {
      "text/plain": "None"
     },
     "metadata": {},
     "output_type": "display_data"
    },
    {
     "data": {
      "text/html": "<div>\n<style scoped>\n    .dataframe tbody tr th:only-of-type {\n        vertical-align: middle;\n    }\n\n    .dataframe tbody tr th {\n        vertical-align: top;\n    }\n\n    .dataframe thead th {\n        text-align: right;\n    }\n</style>\n<table border=\"1\" class=\"dataframe\">\n  <thead>\n    <tr style=\"text-align: right;\">\n      <th></th>\n      <th>project id</th>\n      <th>goal</th>\n      <th>pledged</th>\n      <th>funded percentage</th>\n      <th>backers</th>\n      <th>levels</th>\n      <th>updates</th>\n      <th>comments</th>\n      <th>duration</th>\n    </tr>\n  </thead>\n  <tbody>\n    <tr>\n      <th>count</th>\n      <td>4.595700e+04</td>\n      <td>4.595700e+04</td>\n      <td>4.594500e+04</td>\n      <td>45957.000000</td>\n      <td>45957.000000</td>\n      <td>45957.000000</td>\n      <td>45957.00000</td>\n      <td>45957.000000</td>\n      <td>45957.000000</td>\n    </tr>\n    <tr>\n      <th>mean</th>\n      <td>1.080800e+09</td>\n      <td>1.194271e+04</td>\n      <td>4.980750e+03</td>\n      <td>1.850129</td>\n      <td>69.973192</td>\n      <td>8.004939</td>\n      <td>4.08508</td>\n      <td>8.379529</td>\n      <td>39.995547</td>\n    </tr>\n    <tr>\n      <th>std</th>\n      <td>6.218057e+08</td>\n      <td>1.887583e+05</td>\n      <td>5.674162e+04</td>\n      <td>88.492706</td>\n      <td>688.628479</td>\n      <td>4.233907</td>\n      <td>6.43922</td>\n      <td>174.015737</td>\n      <td>17.414458</td>\n    </tr>\n    <tr>\n      <th>min</th>\n      <td>3.940900e+04</td>\n      <td>1.000000e-02</td>\n      <td>0.000000e+00</td>\n      <td>0.000000</td>\n      <td>0.000000</td>\n      <td>0.000000</td>\n      <td>0.00000</td>\n      <td>0.000000</td>\n      <td>1.000000</td>\n    </tr>\n    <tr>\n      <th>25%</th>\n      <td>5.438962e+08</td>\n      <td>1.800000e+03</td>\n      <td>1.960000e+02</td>\n      <td>0.044000</td>\n      <td>5.000000</td>\n      <td>5.000000</td>\n      <td>0.00000</td>\n      <td>0.000000</td>\n      <td>30.000000</td>\n    </tr>\n    <tr>\n      <th>50%</th>\n      <td>1.078345e+09</td>\n      <td>4.000000e+03</td>\n      <td>1.310000e+03</td>\n      <td>1.000000</td>\n      <td>23.000000</td>\n      <td>7.000000</td>\n      <td>2.00000</td>\n      <td>0.000000</td>\n      <td>32.000000</td>\n    </tr>\n    <tr>\n      <th>75%</th>\n      <td>1.621596e+09</td>\n      <td>9.862000e+03</td>\n      <td>4.165000e+03</td>\n      <td>1.115640</td>\n      <td>59.000000</td>\n      <td>10.000000</td>\n      <td>6.00000</td>\n      <td>3.000000</td>\n      <td>48.390000</td>\n    </tr>\n    <tr>\n      <th>max</th>\n      <td>2.147460e+09</td>\n      <td>2.147484e+07</td>\n      <td>1.026684e+07</td>\n      <td>15066.000000</td>\n      <td>87142.000000</td>\n      <td>80.000000</td>\n      <td>149.00000</td>\n      <td>19311.000000</td>\n      <td>91.960000</td>\n    </tr>\n  </tbody>\n</table>\n</div>",
      "text/plain": "         project id          goal       pledged  funded percentage  \\\ncount  4.595700e+04  4.595700e+04  4.594500e+04       45957.000000   \nmean   1.080800e+09  1.194271e+04  4.980750e+03           1.850129   \nstd    6.218057e+08  1.887583e+05  5.674162e+04          88.492706   \nmin    3.940900e+04  1.000000e-02  0.000000e+00           0.000000   \n25%    5.438962e+08  1.800000e+03  1.960000e+02           0.044000   \n50%    1.078345e+09  4.000000e+03  1.310000e+03           1.000000   \n75%    1.621596e+09  9.862000e+03  4.165000e+03           1.115640   \nmax    2.147460e+09  2.147484e+07  1.026684e+07       15066.000000   \n\n            backers        levels      updates      comments      duration  \ncount  45957.000000  45957.000000  45957.00000  45957.000000  45957.000000  \nmean      69.973192      8.004939      4.08508      8.379529     39.995547  \nstd      688.628479      4.233907      6.43922    174.015737     17.414458  \nmin        0.000000      0.000000      0.00000      0.000000      1.000000  \n25%        5.000000      5.000000      0.00000      0.000000     30.000000  \n50%       23.000000      7.000000      2.00000      0.000000     32.000000  \n75%       59.000000     10.000000      6.00000      3.000000     48.390000  \nmax    87142.000000     80.000000    149.00000  19311.000000     91.960000  "
     },
     "metadata": {},
     "output_type": "display_data"
    }
   ],
   "source": [
    "display(raw_data.info())\n",
    "display(raw_data.describe())"
   ]
  },
  {
   "cell_type": "code",
   "execution_count": 164,
   "metadata": {},
   "outputs": [],
   "source": [
    "#Let's update the data types on our raw data\n",
    "data_updated_dtype = raw_data"
   ]
  },
  {
   "cell_type": "code",
   "execution_count": 165,
   "metadata": {},
   "outputs": [
    {
     "data": {
      "text/html": "<div>\n<style scoped>\n    .dataframe tbody tr th:only-of-type {\n        vertical-align: middle;\n    }\n\n    .dataframe tbody tr th {\n        vertical-align: top;\n    }\n\n    .dataframe thead th {\n        text-align: right;\n    }\n</style>\n<table border=\"1\" class=\"dataframe\">\n  <thead>\n    <tr style=\"text-align: right;\">\n      <th></th>\n      <th>project id</th>\n      <th>name</th>\n      <th>url</th>\n      <th>category</th>\n      <th>subcategory</th>\n      <th>location</th>\n      <th>status</th>\n      <th>goal</th>\n      <th>pledged</th>\n      <th>funded percentage</th>\n      <th>backers</th>\n      <th>funded date</th>\n      <th>levels</th>\n      <th>reward levels</th>\n      <th>updates</th>\n      <th>comments</th>\n      <th>duration</th>\n      <th>Day of Week</th>\n      <th>Funded Date</th>\n      <th>Funded Time</th>\n    </tr>\n  </thead>\n  <tbody>\n    <tr>\n      <th>0</th>\n      <td>39409</td>\n      <td>WHILE THE TREES SLEEP</td>\n      <td>http://www.kickstarter.com/projects/emiliesaba...</td>\n      <td>Film &amp; Video</td>\n      <td>Short Film</td>\n      <td>Columbia, MO</td>\n      <td>successful</td>\n      <td>10500.0</td>\n      <td>11545.0</td>\n      <td>1.099524</td>\n      <td>66</td>\n      <td>19 Aug 2011 19:28:17</td>\n      <td>7</td>\n      <td>$25,$50,$100,$250,$500,$1,000,$2,500</td>\n      <td>10</td>\n      <td>2</td>\n      <td>30.00</td>\n      <td>Fri</td>\n      <td>2011-08-19</td>\n      <td>19:28:17</td>\n    </tr>\n    <tr>\n      <th>1</th>\n      <td>126581</td>\n      <td>Educational Online Trading Card Game</td>\n      <td>http://www.kickstarter.com/projects/972789543/...</td>\n      <td>Games</td>\n      <td>Board &amp; Card Games</td>\n      <td>Maplewood, NJ</td>\n      <td>failed</td>\n      <td>4000.0</td>\n      <td>20.0</td>\n      <td>0.005000</td>\n      <td>2</td>\n      <td>02 Aug 2010 03:59:00</td>\n      <td>5</td>\n      <td>$1,$5,$10,$25,$50</td>\n      <td>6</td>\n      <td>0</td>\n      <td>47.18</td>\n      <td>Mon</td>\n      <td>2010-08-02</td>\n      <td>03:59:00</td>\n    </tr>\n    <tr>\n      <th>2</th>\n      <td>138119</td>\n      <td>STRUM</td>\n      <td>http://www.kickstarter.com/projects/185476022/...</td>\n      <td>Film &amp; Video</td>\n      <td>Animation</td>\n      <td>Los Angeles, CA</td>\n      <td>live</td>\n      <td>20000.0</td>\n      <td>56.0</td>\n      <td>0.002800</td>\n      <td>3</td>\n      <td>08 Jun 2012 00:00:31</td>\n      <td>10</td>\n      <td>$1,$10,$25,$40,$50,$100,$250,$1,000,$1,337,$9,001</td>\n      <td>1</td>\n      <td>0</td>\n      <td>28.00</td>\n      <td>Fri</td>\n      <td>2012-06-08</td>\n      <td>00:00:31</td>\n    </tr>\n    <tr>\n      <th>3</th>\n      <td>237090</td>\n      <td>GETTING OVER - One son's search to finally kno...</td>\n      <td>http://www.kickstarter.com/projects/charnick/g...</td>\n      <td>Film &amp; Video</td>\n      <td>Documentary</td>\n      <td>Los Angeles, CA</td>\n      <td>successful</td>\n      <td>6000.0</td>\n      <td>6535.0</td>\n      <td>1.089167</td>\n      <td>100</td>\n      <td>08 Apr 2012 02:14:00</td>\n      <td>13</td>\n      <td>$1,$10,$25,$30,$50,$75,$85,$100,$110,$250,$500...</td>\n      <td>4</td>\n      <td>0</td>\n      <td>32.22</td>\n      <td>Sun</td>\n      <td>2012-04-08</td>\n      <td>02:14:00</td>\n    </tr>\n    <tr>\n      <th>4</th>\n      <td>246101</td>\n      <td>The Launch of FlyeGrlRoyalty &amp;quot;The New Nam...</td>\n      <td>http://www.kickstarter.com/projects/flyegrlroy...</td>\n      <td>Fashion</td>\n      <td>Fashion</td>\n      <td>Novi, MI</td>\n      <td>failed</td>\n      <td>3500.0</td>\n      <td>0.0</td>\n      <td>0.000000</td>\n      <td>0</td>\n      <td>01 Jun 2011 15:25:39</td>\n      <td>6</td>\n      <td>$10,$25,$50,$100,$150,$250</td>\n      <td>2</td>\n      <td>0</td>\n      <td>30.00</td>\n      <td>Wed</td>\n      <td>2011-06-01</td>\n      <td>15:25:39</td>\n    </tr>\n  </tbody>\n</table>\n</div>",
      "text/plain": "  project id                                               name  \\\n0      39409                              WHILE THE TREES SLEEP   \n1     126581               Educational Online Trading Card Game   \n2     138119                                              STRUM   \n3     237090  GETTING OVER - One son's search to finally kno...   \n4     246101  The Launch of FlyeGrlRoyalty &quot;The New Nam...   \n\n                                                 url      category  \\\n0  http://www.kickstarter.com/projects/emiliesaba...  Film & Video   \n1  http://www.kickstarter.com/projects/972789543/...         Games   \n2  http://www.kickstarter.com/projects/185476022/...  Film & Video   \n3  http://www.kickstarter.com/projects/charnick/g...  Film & Video   \n4  http://www.kickstarter.com/projects/flyegrlroy...       Fashion   \n\n          subcategory         location      status     goal  pledged  \\\n0          Short Film     Columbia, MO  successful  10500.0  11545.0   \n1  Board & Card Games    Maplewood, NJ      failed   4000.0     20.0   \n2           Animation  Los Angeles, CA        live  20000.0     56.0   \n3         Documentary  Los Angeles, CA  successful   6000.0   6535.0   \n4             Fashion         Novi, MI      failed   3500.0      0.0   \n\n   funded percentage  backers             funded date  levels  \\\n0           1.099524       66   19 Aug 2011 19:28:17        7   \n1           0.005000        2   02 Aug 2010 03:59:00        5   \n2           0.002800        3   08 Jun 2012 00:00:31       10   \n3           1.089167      100   08 Apr 2012 02:14:00       13   \n4           0.000000        0   01 Jun 2011 15:25:39        6   \n\n                                       reward levels  updates  comments  \\\n0               $25,$50,$100,$250,$500,$1,000,$2,500       10         2   \n1                                  $1,$5,$10,$25,$50        6         0   \n2  $1,$10,$25,$40,$50,$100,$250,$1,000,$1,337,$9,001        1         0   \n3  $1,$10,$25,$30,$50,$75,$85,$100,$110,$250,$500...        4         0   \n4                         $10,$25,$50,$100,$150,$250        2         0   \n\n   duration Day of Week Funded Date Funded Time  \n0     30.00         Fri  2011-08-19    19:28:17  \n1     47.18         Mon  2010-08-02    03:59:00  \n2     28.00         Fri  2012-06-08    00:00:31  \n3     32.22         Sun  2012-04-08    02:14:00  \n4     30.00         Wed  2011-06-01    15:25:39  "
     },
     "execution_count": 165,
     "metadata": {},
     "output_type": "execute_result"
    }
   ],
   "source": [
    "#changing the project id from an integer to a string\n",
    "data_updated_dtype['project id'] = data_updated_dtype['project id'].astype('string')\n",
    "\n",
    "\n",
    "#let's put the day of the week into it's own column\n",
    "data_updated_dtype[['Day of Week','funded date']] = data_updated_dtype['funded date'].str.split(',',n=1,expand=True)\n",
    "#let's remove the annoying zeros at the end of the each entry\n",
    "data_updated_dtype['funded date']= data_updated_dtype['funded date'].str.rstrip('-0000')\n",
    "data_updated_dtype['Funded Date'] = pd.to_datetime(data_updated_dtype['funded date']).dt.date\n",
    "data_updated_dtype['Funded Time'] = pd.to_datetime(data_updated_dtype['funded date']).dt.time\n",
    "data_updated_dtype.head()"
   ]
  },
  {
   "cell_type": "code",
   "execution_count": 166,
   "metadata": {},
   "outputs": [
    {
     "data": {
      "text/html": "<div>\n<style scoped>\n    .dataframe tbody tr th:only-of-type {\n        vertical-align: middle;\n    }\n\n    .dataframe tbody tr th {\n        vertical-align: top;\n    }\n\n    .dataframe thead th {\n        text-align: right;\n    }\n</style>\n<table border=\"1\" class=\"dataframe\">\n  <thead>\n    <tr style=\"text-align: right;\">\n      <th></th>\n      <th>goal</th>\n      <th>pledged</th>\n      <th>funded percentage</th>\n      <th>backers</th>\n      <th>levels</th>\n      <th>updates</th>\n      <th>comments</th>\n      <th>duration</th>\n    </tr>\n  </thead>\n  <tbody>\n    <tr>\n      <th>count</th>\n      <td>4.595700e+04</td>\n      <td>4.594500e+04</td>\n      <td>45957.000000</td>\n      <td>45957.000000</td>\n      <td>45957.000000</td>\n      <td>45957.00000</td>\n      <td>45957.000000</td>\n      <td>45957.000000</td>\n    </tr>\n    <tr>\n      <th>mean</th>\n      <td>1.194271e+04</td>\n      <td>4.980750e+03</td>\n      <td>1.850129</td>\n      <td>69.973192</td>\n      <td>8.004939</td>\n      <td>4.08508</td>\n      <td>8.379529</td>\n      <td>39.995547</td>\n    </tr>\n    <tr>\n      <th>std</th>\n      <td>1.887583e+05</td>\n      <td>5.674162e+04</td>\n      <td>88.492706</td>\n      <td>688.628479</td>\n      <td>4.233907</td>\n      <td>6.43922</td>\n      <td>174.015737</td>\n      <td>17.414458</td>\n    </tr>\n    <tr>\n      <th>min</th>\n      <td>1.000000e-02</td>\n      <td>0.000000e+00</td>\n      <td>0.000000</td>\n      <td>0.000000</td>\n      <td>0.000000</td>\n      <td>0.00000</td>\n      <td>0.000000</td>\n      <td>1.000000</td>\n    </tr>\n    <tr>\n      <th>25%</th>\n      <td>1.800000e+03</td>\n      <td>1.960000e+02</td>\n      <td>0.044000</td>\n      <td>5.000000</td>\n      <td>5.000000</td>\n      <td>0.00000</td>\n      <td>0.000000</td>\n      <td>30.000000</td>\n    </tr>\n    <tr>\n      <th>50%</th>\n      <td>4.000000e+03</td>\n      <td>1.310000e+03</td>\n      <td>1.000000</td>\n      <td>23.000000</td>\n      <td>7.000000</td>\n      <td>2.00000</td>\n      <td>0.000000</td>\n      <td>32.000000</td>\n    </tr>\n    <tr>\n      <th>75%</th>\n      <td>9.862000e+03</td>\n      <td>4.165000e+03</td>\n      <td>1.115640</td>\n      <td>59.000000</td>\n      <td>10.000000</td>\n      <td>6.00000</td>\n      <td>3.000000</td>\n      <td>48.390000</td>\n    </tr>\n    <tr>\n      <th>max</th>\n      <td>2.147484e+07</td>\n      <td>1.026684e+07</td>\n      <td>15066.000000</td>\n      <td>87142.000000</td>\n      <td>80.000000</td>\n      <td>149.00000</td>\n      <td>19311.000000</td>\n      <td>91.960000</td>\n    </tr>\n  </tbody>\n</table>\n</div>",
      "text/plain": "               goal       pledged  funded percentage       backers  \\\ncount  4.595700e+04  4.594500e+04       45957.000000  45957.000000   \nmean   1.194271e+04  4.980750e+03           1.850129     69.973192   \nstd    1.887583e+05  5.674162e+04          88.492706    688.628479   \nmin    1.000000e-02  0.000000e+00           0.000000      0.000000   \n25%    1.800000e+03  1.960000e+02           0.044000      5.000000   \n50%    4.000000e+03  1.310000e+03           1.000000     23.000000   \n75%    9.862000e+03  4.165000e+03           1.115640     59.000000   \nmax    2.147484e+07  1.026684e+07       15066.000000  87142.000000   \n\n             levels      updates      comments      duration  \ncount  45957.000000  45957.00000  45957.000000  45957.000000  \nmean       8.004939      4.08508      8.379529     39.995547  \nstd        4.233907      6.43922    174.015737     17.414458  \nmin        0.000000      0.00000      0.000000      1.000000  \n25%        5.000000      0.00000      0.000000     30.000000  \n50%        7.000000      2.00000      0.000000     32.000000  \n75%       10.000000      6.00000      3.000000     48.390000  \nmax       80.000000    149.00000  19311.000000     91.960000  "
     },
     "execution_count": 166,
     "metadata": {},
     "output_type": "execute_result"
    }
   ],
   "source": [
    "data_updated_dtype.describe()"
   ]
  },
  {
   "cell_type": "code",
   "execution_count": 167,
   "metadata": {},
   "outputs": [
    {
     "data": {
      "text/html": "<div>\n<style scoped>\n    .dataframe tbody tr th:only-of-type {\n        vertical-align: middle;\n    }\n\n    .dataframe tbody tr th {\n        vertical-align: top;\n    }\n\n    .dataframe thead th {\n        text-align: right;\n    }\n</style>\n<table border=\"1\" class=\"dataframe\">\n  <thead>\n    <tr style=\"text-align: right;\">\n      <th></th>\n      <th>project id</th>\n      <th>name</th>\n      <th>url</th>\n      <th>category</th>\n      <th>subcategory</th>\n      <th>location</th>\n      <th>status</th>\n      <th>goal</th>\n      <th>pledged</th>\n      <th>funded percentage</th>\n      <th>backers</th>\n      <th>levels</th>\n      <th>reward levels</th>\n      <th>updates</th>\n      <th>comments</th>\n      <th>duration</th>\n      <th>Day of Week</th>\n      <th>Funded Date</th>\n      <th>Funded Time</th>\n    </tr>\n  </thead>\n  <tbody>\n    <tr>\n      <th>0</th>\n      <td>39409</td>\n      <td>WHILE THE TREES SLEEP</td>\n      <td>http://www.kickstarter.com/projects/emiliesaba...</td>\n      <td>Film &amp; Video</td>\n      <td>Short Film</td>\n      <td>Columbia, MO</td>\n      <td>successful</td>\n      <td>10500.0</td>\n      <td>11545.0</td>\n      <td>1.099524</td>\n      <td>66</td>\n      <td>7</td>\n      <td>$25,$50,$100,$250,$500,$1,000,$2,500</td>\n      <td>10</td>\n      <td>2</td>\n      <td>30.00</td>\n      <td>Fri</td>\n      <td>2011-08-19</td>\n      <td>19:28:17</td>\n    </tr>\n    <tr>\n      <th>1</th>\n      <td>126581</td>\n      <td>Educational Online Trading Card Game</td>\n      <td>http://www.kickstarter.com/projects/972789543/...</td>\n      <td>Games</td>\n      <td>Board &amp; Card Games</td>\n      <td>Maplewood, NJ</td>\n      <td>failed</td>\n      <td>4000.0</td>\n      <td>20.0</td>\n      <td>0.005000</td>\n      <td>2</td>\n      <td>5</td>\n      <td>$1,$5,$10,$25,$50</td>\n      <td>6</td>\n      <td>0</td>\n      <td>47.18</td>\n      <td>Mon</td>\n      <td>2010-08-02</td>\n      <td>03:59:00</td>\n    </tr>\n    <tr>\n      <th>2</th>\n      <td>138119</td>\n      <td>STRUM</td>\n      <td>http://www.kickstarter.com/projects/185476022/...</td>\n      <td>Film &amp; Video</td>\n      <td>Animation</td>\n      <td>Los Angeles, CA</td>\n      <td>live</td>\n      <td>20000.0</td>\n      <td>56.0</td>\n      <td>0.002800</td>\n      <td>3</td>\n      <td>10</td>\n      <td>$1,$10,$25,$40,$50,$100,$250,$1,000,$1,337,$9,001</td>\n      <td>1</td>\n      <td>0</td>\n      <td>28.00</td>\n      <td>Fri</td>\n      <td>2012-06-08</td>\n      <td>00:00:31</td>\n    </tr>\n    <tr>\n      <th>3</th>\n      <td>237090</td>\n      <td>GETTING OVER - One son's search to finally kno...</td>\n      <td>http://www.kickstarter.com/projects/charnick/g...</td>\n      <td>Film &amp; Video</td>\n      <td>Documentary</td>\n      <td>Los Angeles, CA</td>\n      <td>successful</td>\n      <td>6000.0</td>\n      <td>6535.0</td>\n      <td>1.089167</td>\n      <td>100</td>\n      <td>13</td>\n      <td>$1,$10,$25,$30,$50,$75,$85,$100,$110,$250,$500...</td>\n      <td>4</td>\n      <td>0</td>\n      <td>32.22</td>\n      <td>Sun</td>\n      <td>2012-04-08</td>\n      <td>02:14:00</td>\n    </tr>\n    <tr>\n      <th>4</th>\n      <td>246101</td>\n      <td>The Launch of FlyeGrlRoyalty &amp;quot;The New Nam...</td>\n      <td>http://www.kickstarter.com/projects/flyegrlroy...</td>\n      <td>Fashion</td>\n      <td>Fashion</td>\n      <td>Novi, MI</td>\n      <td>failed</td>\n      <td>3500.0</td>\n      <td>0.0</td>\n      <td>0.000000</td>\n      <td>0</td>\n      <td>6</td>\n      <td>$10,$25,$50,$100,$150,$250</td>\n      <td>2</td>\n      <td>0</td>\n      <td>30.00</td>\n      <td>Wed</td>\n      <td>2011-06-01</td>\n      <td>15:25:39</td>\n    </tr>\n  </tbody>\n</table>\n</div>",
      "text/plain": "  project id                                               name  \\\n0      39409                              WHILE THE TREES SLEEP   \n1     126581               Educational Online Trading Card Game   \n2     138119                                              STRUM   \n3     237090  GETTING OVER - One son's search to finally kno...   \n4     246101  The Launch of FlyeGrlRoyalty &quot;The New Nam...   \n\n                                                 url      category  \\\n0  http://www.kickstarter.com/projects/emiliesaba...  Film & Video   \n1  http://www.kickstarter.com/projects/972789543/...         Games   \n2  http://www.kickstarter.com/projects/185476022/...  Film & Video   \n3  http://www.kickstarter.com/projects/charnick/g...  Film & Video   \n4  http://www.kickstarter.com/projects/flyegrlroy...       Fashion   \n\n          subcategory         location      status     goal  pledged  \\\n0          Short Film     Columbia, MO  successful  10500.0  11545.0   \n1  Board & Card Games    Maplewood, NJ      failed   4000.0     20.0   \n2           Animation  Los Angeles, CA        live  20000.0     56.0   \n3         Documentary  Los Angeles, CA  successful   6000.0   6535.0   \n4             Fashion         Novi, MI      failed   3500.0      0.0   \n\n   funded percentage  backers  levels  \\\n0           1.099524       66       7   \n1           0.005000        2       5   \n2           0.002800        3      10   \n3           1.089167      100      13   \n4           0.000000        0       6   \n\n                                       reward levels  updates  comments  \\\n0               $25,$50,$100,$250,$500,$1,000,$2,500       10         2   \n1                                  $1,$5,$10,$25,$50        6         0   \n2  $1,$10,$25,$40,$50,$100,$250,$1,000,$1,337,$9,001        1         0   \n3  $1,$10,$25,$30,$50,$75,$85,$100,$110,$250,$500...        4         0   \n4                         $10,$25,$50,$100,$150,$250        2         0   \n\n   duration Day of Week Funded Date Funded Time  \n0     30.00         Fri  2011-08-19    19:28:17  \n1     47.18         Mon  2010-08-02    03:59:00  \n2     28.00         Fri  2012-06-08    00:00:31  \n3     32.22         Sun  2012-04-08    02:14:00  \n4     30.00         Wed  2011-06-01    15:25:39  "
     },
     "execution_count": 167,
     "metadata": {},
     "output_type": "execute_result"
    }
   ],
   "source": [
    "#Now let's drop the original date time column\n",
    "data_updated_dtype.drop(columns = ['funded date'], inplace = True)\n",
    "data_updated_dtype.head()"
   ]
  },
  {
   "cell_type": "code",
   "execution_count": 168,
   "metadata": {},
   "outputs": [
    {
     "data": {
      "text/html": "<div>\n<style scoped>\n    .dataframe tbody tr th:only-of-type {\n        vertical-align: middle;\n    }\n\n    .dataframe tbody tr th {\n        vertical-align: top;\n    }\n\n    .dataframe thead th {\n        text-align: right;\n    }\n</style>\n<table border=\"1\" class=\"dataframe\">\n  <thead>\n    <tr style=\"text-align: right;\">\n      <th></th>\n      <th>project id</th>\n      <th>name</th>\n      <th>url</th>\n      <th>category</th>\n      <th>subcategory</th>\n      <th>location</th>\n      <th>status</th>\n      <th>goal</th>\n      <th>pledged</th>\n      <th>funded percentage</th>\n      <th>backers</th>\n      <th>levels</th>\n      <th>reward levels</th>\n      <th>updates</th>\n      <th>comments</th>\n      <th>duration</th>\n      <th>Day of Week</th>\n      <th>Funded Date</th>\n      <th>Funded Time</th>\n    </tr>\n  </thead>\n  <tbody>\n    <tr>\n      <th>0</th>\n      <td>39409</td>\n      <td>WHILE THE TREES SLEEP</td>\n      <td>http://www.kickstarter.com/projects/emiliesaba...</td>\n      <td>Film &amp; Video</td>\n      <td>Short Film</td>\n      <td>Columbia, MO</td>\n      <td>successful</td>\n      <td>10500.0</td>\n      <td>11545.0</td>\n      <td>1.099524</td>\n      <td>66</td>\n      <td>7</td>\n      <td>$25,$50,$100,$250,$500,$1,000,$2,500</td>\n      <td>10</td>\n      <td>2</td>\n      <td>30.00</td>\n      <td>Fri</td>\n      <td>2011-08-19</td>\n      <td>19:28:17</td>\n    </tr>\n    <tr>\n      <th>1</th>\n      <td>126581</td>\n      <td>Educational Online Trading Card Game</td>\n      <td>http://www.kickstarter.com/projects/972789543/...</td>\n      <td>Games</td>\n      <td>Board &amp; Card Games</td>\n      <td>Maplewood, NJ</td>\n      <td>failed</td>\n      <td>4000.0</td>\n      <td>20.0</td>\n      <td>0.005000</td>\n      <td>2</td>\n      <td>5</td>\n      <td>$1,$5,$10,$25,$50</td>\n      <td>6</td>\n      <td>0</td>\n      <td>47.18</td>\n      <td>Mon</td>\n      <td>2010-08-02</td>\n      <td>03:59:00</td>\n    </tr>\n    <tr>\n      <th>2</th>\n      <td>138119</td>\n      <td>STRUM</td>\n      <td>http://www.kickstarter.com/projects/185476022/...</td>\n      <td>Film &amp; Video</td>\n      <td>Animation</td>\n      <td>Los Angeles, CA</td>\n      <td>live</td>\n      <td>20000.0</td>\n      <td>56.0</td>\n      <td>0.002800</td>\n      <td>3</td>\n      <td>10</td>\n      <td>$1,$10,$25,$40,$50,$100,$250,$1,000,$1,337,$9,001</td>\n      <td>1</td>\n      <td>0</td>\n      <td>28.00</td>\n      <td>Fri</td>\n      <td>2012-06-08</td>\n      <td>00:00:31</td>\n    </tr>\n    <tr>\n      <th>3</th>\n      <td>237090</td>\n      <td>GETTING OVER - One son's search to finally kno...</td>\n      <td>http://www.kickstarter.com/projects/charnick/g...</td>\n      <td>Film &amp; Video</td>\n      <td>Documentary</td>\n      <td>Los Angeles, CA</td>\n      <td>successful</td>\n      <td>6000.0</td>\n      <td>6535.0</td>\n      <td>1.089167</td>\n      <td>100</td>\n      <td>13</td>\n      <td>$1,$10,$25,$30,$50,$75,$85,$100,$110,$250,$500...</td>\n      <td>4</td>\n      <td>0</td>\n      <td>32.22</td>\n      <td>Sun</td>\n      <td>2012-04-08</td>\n      <td>02:14:00</td>\n    </tr>\n    <tr>\n      <th>4</th>\n      <td>246101</td>\n      <td>The Launch of FlyeGrlRoyalty &amp;quot;The New Nam...</td>\n      <td>http://www.kickstarter.com/projects/flyegrlroy...</td>\n      <td>Fashion</td>\n      <td>Fashion</td>\n      <td>Novi, MI</td>\n      <td>failed</td>\n      <td>3500.0</td>\n      <td>0.0</td>\n      <td>0.000000</td>\n      <td>0</td>\n      <td>6</td>\n      <td>$10,$25,$50,$100,$150,$250</td>\n      <td>2</td>\n      <td>0</td>\n      <td>30.00</td>\n      <td>Wed</td>\n      <td>2011-06-01</td>\n      <td>15:25:39</td>\n    </tr>\n  </tbody>\n</table>\n</div>",
      "text/plain": "  project id                                               name  \\\n0      39409                              WHILE THE TREES SLEEP   \n1     126581               Educational Online Trading Card Game   \n2     138119                                              STRUM   \n3     237090  GETTING OVER - One son's search to finally kno...   \n4     246101  The Launch of FlyeGrlRoyalty &quot;The New Nam...   \n\n                                                 url      category  \\\n0  http://www.kickstarter.com/projects/emiliesaba...  Film & Video   \n1  http://www.kickstarter.com/projects/972789543/...         Games   \n2  http://www.kickstarter.com/projects/185476022/...  Film & Video   \n3  http://www.kickstarter.com/projects/charnick/g...  Film & Video   \n4  http://www.kickstarter.com/projects/flyegrlroy...       Fashion   \n\n          subcategory         location      status     goal  pledged  \\\n0          Short Film     Columbia, MO  successful  10500.0  11545.0   \n1  Board & Card Games    Maplewood, NJ      failed   4000.0     20.0   \n2           Animation  Los Angeles, CA        live  20000.0     56.0   \n3         Documentary  Los Angeles, CA  successful   6000.0   6535.0   \n4             Fashion         Novi, MI      failed   3500.0      0.0   \n\n   funded percentage  backers  levels  \\\n0           1.099524       66       7   \n1           0.005000        2       5   \n2           0.002800        3      10   \n3           1.089167      100      13   \n4           0.000000        0       6   \n\n                                       reward levels  updates  comments  \\\n0               $25,$50,$100,$250,$500,$1,000,$2,500       10         2   \n1                                  $1,$5,$10,$25,$50        6         0   \n2  $1,$10,$25,$40,$50,$100,$250,$1,000,$1,337,$9,001        1         0   \n3  $1,$10,$25,$30,$50,$75,$85,$100,$110,$250,$500...        4         0   \n4                         $10,$25,$50,$100,$150,$250        2         0   \n\n   duration Day of Week Funded Date Funded Time  \n0     30.00         Fri  2011-08-19    19:28:17  \n1     47.18         Mon  2010-08-02    03:59:00  \n2     28.00         Fri  2012-06-08    00:00:31  \n3     32.22         Sun  2012-04-08    02:14:00  \n4     30.00         Wed  2011-06-01    15:25:39  "
     },
     "execution_count": 168,
     "metadata": {},
     "output_type": "execute_result"
    }
   ],
   "source": [
    "data_updated_dtype.head()"
   ]
  },
  {
   "cell_type": "code",
   "execution_count": 169,
   "metadata": {},
   "outputs": [
    {
     "name": "stdout",
     "output_type": "stream",
     "text": [
      "<class 'pandas.core.frame.DataFrame'>\n",
      "RangeIndex: 45957 entries, 0 to 45956\n",
      "Data columns (total 19 columns):\n",
      " #   Column             Non-Null Count  Dtype  \n",
      "---  ------             --------------  -----  \n",
      " 0   project id         45957 non-null  string \n",
      " 1   name               45957 non-null  object \n",
      " 2   url                45957 non-null  object \n",
      " 3   category           45957 non-null  object \n",
      " 4   subcategory        45957 non-null  object \n",
      " 5   location           44635 non-null  object \n",
      " 6   status             45957 non-null  object \n",
      " 7   goal               45957 non-null  float64\n",
      " 8   pledged            45945 non-null  float64\n",
      " 9   funded percentage  45957 non-null  float64\n",
      " 10  backers            45957 non-null  int64  \n",
      " 11  levels             45957 non-null  int64  \n",
      " 12  reward levels      45898 non-null  object \n",
      " 13  updates            45957 non-null  int64  \n",
      " 14  comments           45957 non-null  int64  \n",
      " 15  duration           45957 non-null  float64\n",
      " 16  Day of Week        45957 non-null  object \n",
      " 17  Funded Date        45957 non-null  object \n",
      " 18  Funded Time        45957 non-null  object \n",
      "dtypes: float64(4), int64(4), object(10), string(1)\n",
      "memory usage: 6.7+ MB\n"
     ]
    }
   ],
   "source": [
    "#Let's check to see what type of data we have\n",
    "data_updated_dtype.info()"
   ]
  },
  {
   "cell_type": "code",
   "execution_count": 170,
   "metadata": {},
   "outputs": [
    {
     "data": {
      "text/plain": "project id           False\nname                 False\nurl                  False\ncategory             False\nsubcategory          False\nlocation              True\nstatus               False\ngoal                 False\npledged               True\nfunded percentage    False\nbackers              False\nlevels               False\nreward levels         True\nupdates              False\ncomments             False\nduration             False\nDay of Week          False\nFunded Date          False\nFunded Time          False\ndtype: bool"
     },
     "execution_count": 170,
     "metadata": {},
     "output_type": "execute_result"
    }
   ],
   "source": [
    "data_updated_dtype.isna().any() #let's check for missing values in our updated dtype data set\n",
    "#Expected output: \n",
    "# project id           False\n",
    "# name                 False\n",
    "# url                  False\n",
    "# category             False\n",
    "# subcategory          False\n",
    "# location              True\n",
    "# status               False\n",
    "# goal                 False\n",
    "# pledged               True\n",
    "# funded percentage    False\n",
    "# backers              False\n",
    "# levels               False\n",
    "# reward levels         True\n",
    "# updates              False\n",
    "# comments             False\n",
    "# duration             False\n",
    "# Day of Week          False\n",
    "# Funded Date          False\n",
    "# Funded Time          False\n",
    "# dtype: bool"
   ]
  },
  {
   "cell_type": "code",
   "execution_count": 171,
   "metadata": {},
   "outputs": [],
   "source": [
    "#rename two word columns to be correct\n",
    "data_updated_dtype[\"reward_levels\"]=data_updated_dtype['reward levels']\n"
   ]
  },
  {
   "cell_type": "code",
   "execution_count": 172,
   "metadata": {},
   "outputs": [
    {
     "data": {
      "text/html": "<div>\n<style scoped>\n    .dataframe tbody tr th:only-of-type {\n        vertical-align: middle;\n    }\n\n    .dataframe tbody tr th {\n        vertical-align: top;\n    }\n\n    .dataframe thead th {\n        text-align: right;\n    }\n</style>\n<table border=\"1\" class=\"dataframe\">\n  <thead>\n    <tr style=\"text-align: right;\">\n      <th></th>\n      <th>project id</th>\n      <th>name</th>\n      <th>url</th>\n      <th>category</th>\n      <th>subcategory</th>\n      <th>location</th>\n      <th>status</th>\n      <th>goal</th>\n      <th>pledged</th>\n      <th>funded percentage</th>\n      <th>backers</th>\n      <th>levels</th>\n      <th>updates</th>\n      <th>comments</th>\n      <th>duration</th>\n      <th>Day of Week</th>\n      <th>Funded Date</th>\n      <th>Funded Time</th>\n      <th>reward_levels</th>\n    </tr>\n  </thead>\n  <tbody>\n    <tr>\n      <th>0</th>\n      <td>39409</td>\n      <td>WHILE THE TREES SLEEP</td>\n      <td>http://www.kickstarter.com/projects/emiliesaba...</td>\n      <td>Film &amp; Video</td>\n      <td>Short Film</td>\n      <td>Columbia, MO</td>\n      <td>successful</td>\n      <td>10500.0</td>\n      <td>11545.0</td>\n      <td>1.099524</td>\n      <td>66</td>\n      <td>7</td>\n      <td>10</td>\n      <td>2</td>\n      <td>30.00</td>\n      <td>Fri</td>\n      <td>2011-08-19</td>\n      <td>19:28:17</td>\n      <td>$25,$50,$100,$250,$500,$1,000,$2,500</td>\n    </tr>\n    <tr>\n      <th>1</th>\n      <td>126581</td>\n      <td>Educational Online Trading Card Game</td>\n      <td>http://www.kickstarter.com/projects/972789543/...</td>\n      <td>Games</td>\n      <td>Board &amp; Card Games</td>\n      <td>Maplewood, NJ</td>\n      <td>failed</td>\n      <td>4000.0</td>\n      <td>20.0</td>\n      <td>0.005000</td>\n      <td>2</td>\n      <td>5</td>\n      <td>6</td>\n      <td>0</td>\n      <td>47.18</td>\n      <td>Mon</td>\n      <td>2010-08-02</td>\n      <td>03:59:00</td>\n      <td>$1,$5,$10,$25,$50</td>\n    </tr>\n    <tr>\n      <th>2</th>\n      <td>138119</td>\n      <td>STRUM</td>\n      <td>http://www.kickstarter.com/projects/185476022/...</td>\n      <td>Film &amp; Video</td>\n      <td>Animation</td>\n      <td>Los Angeles, CA</td>\n      <td>live</td>\n      <td>20000.0</td>\n      <td>56.0</td>\n      <td>0.002800</td>\n      <td>3</td>\n      <td>10</td>\n      <td>1</td>\n      <td>0</td>\n      <td>28.00</td>\n      <td>Fri</td>\n      <td>2012-06-08</td>\n      <td>00:00:31</td>\n      <td>$1,$10,$25,$40,$50,$100,$250,$1,000,$1,337,$9,001</td>\n    </tr>\n    <tr>\n      <th>3</th>\n      <td>237090</td>\n      <td>GETTING OVER - One son's search to finally kno...</td>\n      <td>http://www.kickstarter.com/projects/charnick/g...</td>\n      <td>Film &amp; Video</td>\n      <td>Documentary</td>\n      <td>Los Angeles, CA</td>\n      <td>successful</td>\n      <td>6000.0</td>\n      <td>6535.0</td>\n      <td>1.089167</td>\n      <td>100</td>\n      <td>13</td>\n      <td>4</td>\n      <td>0</td>\n      <td>32.22</td>\n      <td>Sun</td>\n      <td>2012-04-08</td>\n      <td>02:14:00</td>\n      <td>$1,$10,$25,$30,$50,$75,$85,$100,$110,$250,$500...</td>\n    </tr>\n    <tr>\n      <th>4</th>\n      <td>246101</td>\n      <td>The Launch of FlyeGrlRoyalty &amp;quot;The New Nam...</td>\n      <td>http://www.kickstarter.com/projects/flyegrlroy...</td>\n      <td>Fashion</td>\n      <td>Fashion</td>\n      <td>Novi, MI</td>\n      <td>failed</td>\n      <td>3500.0</td>\n      <td>0.0</td>\n      <td>0.000000</td>\n      <td>0</td>\n      <td>6</td>\n      <td>2</td>\n      <td>0</td>\n      <td>30.00</td>\n      <td>Wed</td>\n      <td>2011-06-01</td>\n      <td>15:25:39</td>\n      <td>$10,$25,$50,$100,$150,$250</td>\n    </tr>\n  </tbody>\n</table>\n</div>",
      "text/plain": "  project id                                               name  \\\n0      39409                              WHILE THE TREES SLEEP   \n1     126581               Educational Online Trading Card Game   \n2     138119                                              STRUM   \n3     237090  GETTING OVER - One son's search to finally kno...   \n4     246101  The Launch of FlyeGrlRoyalty &quot;The New Nam...   \n\n                                                 url      category  \\\n0  http://www.kickstarter.com/projects/emiliesaba...  Film & Video   \n1  http://www.kickstarter.com/projects/972789543/...         Games   \n2  http://www.kickstarter.com/projects/185476022/...  Film & Video   \n3  http://www.kickstarter.com/projects/charnick/g...  Film & Video   \n4  http://www.kickstarter.com/projects/flyegrlroy...       Fashion   \n\n          subcategory         location      status     goal  pledged  \\\n0          Short Film     Columbia, MO  successful  10500.0  11545.0   \n1  Board & Card Games    Maplewood, NJ      failed   4000.0     20.0   \n2           Animation  Los Angeles, CA        live  20000.0     56.0   \n3         Documentary  Los Angeles, CA  successful   6000.0   6535.0   \n4             Fashion         Novi, MI      failed   3500.0      0.0   \n\n   funded percentage  backers  levels  updates  comments  duration  \\\n0           1.099524       66       7       10         2     30.00   \n1           0.005000        2       5        6         0     47.18   \n2           0.002800        3      10        1         0     28.00   \n3           1.089167      100      13        4         0     32.22   \n4           0.000000        0       6        2         0     30.00   \n\n  Day of Week Funded Date Funded Time  \\\n0         Fri  2011-08-19    19:28:17   \n1         Mon  2010-08-02    03:59:00   \n2         Fri  2012-06-08    00:00:31   \n3         Sun  2012-04-08    02:14:00   \n4         Wed  2011-06-01    15:25:39   \n\n                                       reward_levels  \n0               $25,$50,$100,$250,$500,$1,000,$2,500  \n1                                  $1,$5,$10,$25,$50  \n2  $1,$10,$25,$40,$50,$100,$250,$1,000,$1,337,$9,001  \n3  $1,$10,$25,$30,$50,$75,$85,$100,$110,$250,$500...  \n4                         $10,$25,$50,$100,$150,$250  "
     },
     "execution_count": 172,
     "metadata": {},
     "output_type": "execute_result"
    }
   ],
   "source": [
    "#remove old reward levels column\n",
    "data_updated_dtype.drop(columns=['reward levels'],inplace=True, axis=1)\n",
    "data_updated_dtype.head()"
   ]
  },
  {
   "cell_type": "code",
   "execution_count": 173,
   "metadata": {},
   "outputs": [
    {
     "name": "stdout",
     "output_type": "stream",
     "text": [
      "null location count 1322\n",
      "pledged null 12\n",
      "reward levels null 59\n"
     ]
    }
   ],
   "source": [
    "#calling the number of null values in a specific column\n",
    "pledged_null = data_updated_dtype.isnull().pledged.sum()\n",
    "location_null = data_updated_dtype.isnull().location.sum()\n",
    "reward_null = data_updated_dtype.isnull().reward_levels.sum()\n",
    "print(\"null location count\", location_null)\n",
    "print(\"pledged null\", pledged_null)  \n",
    "print (\"reward levels null\", reward_null)"
   ]
  },
  {
   "cell_type": "code",
   "execution_count": 174,
   "metadata": {},
   "outputs": [
    {
     "name": "stdout",
     "output_type": "stream",
     "text": [
      "null location count 0\n"
     ]
    }
   ],
   "source": [
    "#Let's drop any rows that are missing locations, since we have no way to determine what the Location should be from the data we have.\n",
    "data_updated_dtype.dropna(subset=['location'],inplace=True)\n",
    "\n",
    "#let's double check that we removed all the null values\n",
    "location_null = data_updated_dtype.isnull().location.sum()\n",
    "print(\"null location count\", location_null)"
   ]
  },
  {
   "cell_type": "code",
   "execution_count": 175,
   "metadata": {},
   "outputs": [
    {
     "name": "stdout",
     "output_type": "stream",
     "text": [
      "reward levels null 0\n"
     ]
    }
   ],
   "source": [
    "#let's drop the rows missing reward levels since we have no way to calculate this as well.\n",
    "data_updated_dtype.dropna(subset=['reward_levels'],inplace=True)\n",
    "\n",
    "#let's double check that we removed all the null values\n",
    "reward_null = data_updated_dtype.isnull().reward_levels.sum()\n",
    "print (\"reward levels null\", reward_null)"
   ]
  },
  {
   "cell_type": "code",
   "execution_count": 176,
   "metadata": {},
   "outputs": [
    {
     "data": {
      "text/html": "<div>\n<style scoped>\n    .dataframe tbody tr th:only-of-type {\n        vertical-align: middle;\n    }\n\n    .dataframe tbody tr th {\n        vertical-align: top;\n    }\n\n    .dataframe thead th {\n        text-align: right;\n    }\n</style>\n<table border=\"1\" class=\"dataframe\">\n  <thead>\n    <tr style=\"text-align: right;\">\n      <th></th>\n      <th>project id</th>\n      <th>name</th>\n      <th>url</th>\n      <th>category</th>\n      <th>subcategory</th>\n      <th>location</th>\n      <th>status</th>\n      <th>goal</th>\n      <th>pledged</th>\n      <th>funded percentage</th>\n      <th>...</th>\n      <th>levels</th>\n      <th>updates</th>\n      <th>comments</th>\n      <th>duration</th>\n      <th>Day of Week</th>\n      <th>Funded Date</th>\n      <th>Funded Time</th>\n      <th>reward_levels</th>\n      <th>Calculated_Pledged</th>\n      <th>pledgedMatch?</th>\n    </tr>\n  </thead>\n  <tbody>\n    <tr>\n      <th>7834</th>\n      <td>371296762</td>\n      <td>Say Cheese - The Movie (A Goosebumps Adaptation)</td>\n      <td>http://www.kickstarter.com/projects/150118399/...</td>\n      <td>Film &amp;amp; Video</td>\n      <td>Film &amp;amp; Video</td>\n      <td>Jacksonville, FL</td>\n      <td>failed</td>\n      <td>5000.0</td>\n      <td>670.0</td>\n      <td>0.134000</td>\n      <td>...</td>\n      <td>5</td>\n      <td>0</td>\n      <td>0</td>\n      <td>90.04</td>\n      <td>Sat</td>\n      <td>2011-01-22</td>\n      <td>07:08:01</td>\n      <td>$10,$25,$50,$100,$200</td>\n      <td>670.0</td>\n      <td>True</td>\n    </tr>\n    <tr>\n      <th>946</th>\n      <td>43860472</td>\n      <td>Farmageddon - The frenetic farming game</td>\n      <td>http://www.kickstarter.com/projects/5thstreetg...</td>\n      <td>Games</td>\n      <td>Board &amp; Card Games</td>\n      <td>Salt Lake City, UT</td>\n      <td>successful</td>\n      <td>5000.0</td>\n      <td>25275.0</td>\n      <td>5.054934</td>\n      <td>...</td>\n      <td>14</td>\n      <td>26</td>\n      <td>538</td>\n      <td>32.00</td>\n      <td>Sun</td>\n      <td>2012-03-04</td>\n      <td>15:01:08</td>\n      <td>$1,$5,$12,$19,$24,$25,$30,$30,$36,$42,$48,$75,...</td>\n      <td>25275.0</td>\n      <td>True</td>\n    </tr>\n    <tr>\n      <th>27235</th>\n      <td>1282422231</td>\n      <td>US English 3 EP Project</td>\n      <td>http://www.kickstarter.com/projects/620887012/...</td>\n      <td>Music</td>\n      <td>Music</td>\n      <td>St Louis, MO</td>\n      <td>successful</td>\n      <td>2500.0</td>\n      <td>2525.0</td>\n      <td>1.010000</td>\n      <td>...</td>\n      <td>8</td>\n      <td>2</td>\n      <td>1</td>\n      <td>68.44</td>\n      <td>Sun</td>\n      <td>2010-08-22</td>\n      <td>03:59:00</td>\n      <td>$5,$10,$15,$25,$50,$100,$500,$1,000</td>\n      <td>2525.0</td>\n      <td>True</td>\n    </tr>\n    <tr>\n      <th>9873</th>\n      <td>467169983</td>\n      <td>THE GHOSTS OF ARAGOS - An Original Sci-Fi Adve...</td>\n      <td>http://www.kickstarter.com/projects/1173212692...</td>\n      <td>Theater</td>\n      <td>Theater</td>\n      <td>Honolulu, HI</td>\n      <td>failed</td>\n      <td>3000.0</td>\n      <td>1215.0</td>\n      <td>0.405000</td>\n      <td>...</td>\n      <td>6</td>\n      <td>2</td>\n      <td>0</td>\n      <td>42.97</td>\n      <td>Thu</td>\n      <td>2010-07-15</td>\n      <td>10:00:00</td>\n      <td>$5,$10,$25,$50,$100,$500</td>\n      <td>1215.0</td>\n      <td>True</td>\n    </tr>\n    <tr>\n      <th>12400</th>\n      <td>587201894</td>\n      <td>Astronaut: Moon, Mars and Beyond, the NASA MMO...</td>\n      <td>http://www.kickstarter.com/projects/1763206385...</td>\n      <td>Games</td>\n      <td>Video Games</td>\n      <td>Sunnyvale, CA</td>\n      <td>failed</td>\n      <td>50000.0</td>\n      <td>2843.0</td>\n      <td>0.056860</td>\n      <td>...</td>\n      <td>9</td>\n      <td>16</td>\n      <td>18</td>\n      <td>90.00</td>\n      <td>Wed</td>\n      <td>2011-08-10</td>\n      <td>21:35:30</td>\n      <td>$5,$10,$24,$30,$50,$125,$200,$1,000,$2,000</td>\n      <td>2843.0</td>\n      <td>True</td>\n    </tr>\n    <tr>\n      <th>...</th>\n      <td>...</td>\n      <td>...</td>\n      <td>...</td>\n      <td>...</td>\n      <td>...</td>\n      <td>...</td>\n      <td>...</td>\n      <td>...</td>\n      <td>...</td>\n      <td>...</td>\n      <td>...</td>\n      <td>...</td>\n      <td>...</td>\n      <td>...</td>\n      <td>...</td>\n      <td>...</td>\n      <td>...</td>\n      <td>...</td>\n      <td>...</td>\n      <td>...</td>\n      <td>...</td>\n    </tr>\n    <tr>\n      <th>6757</th>\n      <td>318781127</td>\n      <td>The Understanding Campaign - starts with one word</td>\n      <td>http://www.kickstarter.com/projects/685283397/...</td>\n      <td>Publishing</td>\n      <td>Publishing</td>\n      <td>Baltimore, MD</td>\n      <td>successful</td>\n      <td>10000.0</td>\n      <td>10874.0</td>\n      <td>1.087400</td>\n      <td>...</td>\n      <td>12</td>\n      <td>43</td>\n      <td>15</td>\n      <td>48.36</td>\n      <td>Thu</td>\n      <td>2010-11-04</td>\n      <td>19:54:00</td>\n      <td>$5,$10,$15,$19,$25,$50,$75,$100,$250,$1,000,$2...</td>\n      <td>10874.0</td>\n      <td>True</td>\n    </tr>\n    <tr>\n      <th>8971</th>\n      <td>425928007</td>\n      <td>Help support the making of Rolling Deep in the...</td>\n      <td>http://www.kickstarter.com/projects/890587968/...</td>\n      <td>Film &amp;amp; Video</td>\n      <td>Film &amp;amp; Video</td>\n      <td>New York, NY</td>\n      <td>failed</td>\n      <td>6000.0</td>\n      <td>807.0</td>\n      <td>0.134500</td>\n      <td>...</td>\n      <td>4</td>\n      <td>2</td>\n      <td>0</td>\n      <td>34.99</td>\n      <td>Fri</td>\n      <td>2012-05-11</td>\n      <td>21:00:00</td>\n      <td>$10,$25,$75,$100</td>\n      <td>807.0</td>\n      <td>True</td>\n    </tr>\n    <tr>\n      <th>44579</th>\n      <td>2091490692</td>\n      <td>Nekro</td>\n      <td>http://www.kickstarter.com/projects/343838885/...</td>\n      <td>Games</td>\n      <td>Video Games</td>\n      <td>Los Angeles, CA</td>\n      <td>successful</td>\n      <td>100000.0</td>\n      <td>158733.0</td>\n      <td>1.587336</td>\n      <td>...</td>\n      <td>12</td>\n      <td>16</td>\n      <td>1550</td>\n      <td>30.00</td>\n      <td>Fri</td>\n      <td>2012-05-04</td>\n      <td>04:00:15</td>\n      <td>$15,$25,$40,$50,$60,$75,$99,$125,$250,$500,$1,...</td>\n      <td>158734.0</td>\n      <td>False</td>\n    </tr>\n    <tr>\n      <th>36335</th>\n      <td>1708656029</td>\n      <td>First Time Author fulfilling his Dreams</td>\n      <td>http://www.kickstarter.com/projects/1102999928...</td>\n      <td>Publishing</td>\n      <td>Fiction</td>\n      <td>Glendale, CA</td>\n      <td>failed</td>\n      <td>900.0</td>\n      <td>135.0</td>\n      <td>0.150000</td>\n      <td>...</td>\n      <td>3</td>\n      <td>0</td>\n      <td>0</td>\n      <td>30.00</td>\n      <td>Thu</td>\n      <td>2010-12-16</td>\n      <td>06:33:33</td>\n      <td>$25,$50,$100</td>\n      <td>135.0</td>\n      <td>True</td>\n    </tr>\n    <tr>\n      <th>13479</th>\n      <td>640725687</td>\n      <td>O, Morning Records First Record Pressing</td>\n      <td>http://www.kickstarter.com/projects/omorningre...</td>\n      <td>Music</td>\n      <td>Indie Rock</td>\n      <td>Syracuse, NY</td>\n      <td>successful</td>\n      <td>5000.0</td>\n      <td>5075.0</td>\n      <td>1.015000</td>\n      <td>...</td>\n      <td>7</td>\n      <td>2</td>\n      <td>12</td>\n      <td>71.96</td>\n      <td>Sat</td>\n      <td>2010-01-23</td>\n      <td>04:59:00</td>\n      <td>$5,$10,$25,$65,$100,$500,$1,000</td>\n      <td>5075.0</td>\n      <td>True</td>\n    </tr>\n  </tbody>\n</table>\n<p>100 rows × 21 columns</p>\n</div>",
      "text/plain": "       project id                                               name  \\\n7834    371296762   Say Cheese - The Movie (A Goosebumps Adaptation)   \n946      43860472            Farmageddon - The frenetic farming game   \n27235  1282422231                            US English 3 EP Project   \n9873    467169983  THE GHOSTS OF ARAGOS - An Original Sci-Fi Adve...   \n12400   587201894  Astronaut: Moon, Mars and Beyond, the NASA MMO...   \n...           ...                                                ...   \n6757    318781127  The Understanding Campaign - starts with one word   \n8971    425928007  Help support the making of Rolling Deep in the...   \n44579  2091490692                                              Nekro   \n36335  1708656029            First Time Author fulfilling his Dreams   \n13479   640725687           O, Morning Records First Record Pressing   \n\n                                                     url          category  \\\n7834   http://www.kickstarter.com/projects/150118399/...  Film &amp; Video   \n946    http://www.kickstarter.com/projects/5thstreetg...             Games   \n27235  http://www.kickstarter.com/projects/620887012/...             Music   \n9873   http://www.kickstarter.com/projects/1173212692...           Theater   \n12400  http://www.kickstarter.com/projects/1763206385...             Games   \n...                                                  ...               ...   \n6757   http://www.kickstarter.com/projects/685283397/...        Publishing   \n8971   http://www.kickstarter.com/projects/890587968/...  Film &amp; Video   \n44579  http://www.kickstarter.com/projects/343838885/...             Games   \n36335  http://www.kickstarter.com/projects/1102999928...        Publishing   \n13479  http://www.kickstarter.com/projects/omorningre...             Music   \n\n              subcategory            location      status      goal   pledged  \\\n7834     Film &amp; Video    Jacksonville, FL      failed    5000.0     670.0   \n946    Board & Card Games  Salt Lake City, UT  successful    5000.0   25275.0   \n27235               Music        St Louis, MO  successful    2500.0    2525.0   \n9873              Theater        Honolulu, HI      failed    3000.0    1215.0   \n12400         Video Games       Sunnyvale, CA      failed   50000.0    2843.0   \n...                   ...                 ...         ...       ...       ...   \n6757           Publishing       Baltimore, MD  successful   10000.0   10874.0   \n8971     Film &amp; Video        New York, NY      failed    6000.0     807.0   \n44579         Video Games     Los Angeles, CA  successful  100000.0  158733.0   \n36335             Fiction        Glendale, CA      failed     900.0     135.0   \n13479          Indie Rock        Syracuse, NY  successful    5000.0    5075.0   \n\n       funded percentage  ...  levels  updates  comments  duration  \\\n7834            0.134000  ...       5        0         0     90.04   \n946             5.054934  ...      14       26       538     32.00   \n27235           1.010000  ...       8        2         1     68.44   \n9873            0.405000  ...       6        2         0     42.97   \n12400           0.056860  ...       9       16        18     90.00   \n...                  ...  ...     ...      ...       ...       ...   \n6757            1.087400  ...      12       43        15     48.36   \n8971            0.134500  ...       4        2         0     34.99   \n44579           1.587336  ...      12       16      1550     30.00   \n36335           0.150000  ...       3        0         0     30.00   \n13479           1.015000  ...       7        2        12     71.96   \n\n       Day of Week Funded Date Funded Time  \\\n7834           Sat  2011-01-22    07:08:01   \n946            Sun  2012-03-04    15:01:08   \n27235          Sun  2010-08-22    03:59:00   \n9873           Thu  2010-07-15    10:00:00   \n12400          Wed  2011-08-10    21:35:30   \n...            ...         ...         ...   \n6757           Thu  2010-11-04    19:54:00   \n8971           Fri  2012-05-11    21:00:00   \n44579          Fri  2012-05-04    04:00:15   \n36335          Thu  2010-12-16    06:33:33   \n13479          Sat  2010-01-23    04:59:00   \n\n                                           reward_levels Calculated_Pledged  \\\n7834                               $10,$25,$50,$100,$200              670.0   \n946    $1,$5,$12,$19,$24,$25,$30,$30,$36,$42,$48,$75,...            25275.0   \n27235                $5,$10,$15,$25,$50,$100,$500,$1,000             2525.0   \n9873                            $5,$10,$25,$50,$100,$500             1215.0   \n12400         $5,$10,$24,$30,$50,$125,$200,$1,000,$2,000             2843.0   \n...                                                  ...                ...   \n6757   $5,$10,$15,$19,$25,$50,$75,$100,$250,$1,000,$2...            10874.0   \n8971                                    $10,$25,$75,$100              807.0   \n44579  $15,$25,$40,$50,$60,$75,$99,$125,$250,$500,$1,...           158734.0   \n36335                                       $25,$50,$100              135.0   \n13479                    $5,$10,$25,$65,$100,$500,$1,000             5075.0   \n\n       pledgedMatch?  \n7834            True  \n946             True  \n27235           True  \n9873            True  \n12400           True  \n...              ...  \n6757            True  \n8971            True  \n44579          False  \n36335           True  \n13479           True  \n\n[100 rows x 21 columns]"
     },
     "execution_count": 176,
     "metadata": {},
     "output_type": "execute_result"
    }
   ],
   "source": [
    "#We will now attempt to update the null pldeged values using Goal amount and funded percentage\n",
    "#call all rows that do not contain a pledged amount\n",
    "#Let's calculate a new column called \"Calculted_Pledged\" and compare that with the reported pldege amounts to see if they are \n",
    "#the same.\n",
    "data_updated_dtype['Calculated_Pledged']=round(data_updated_dtype['goal']*(data_updated_dtype['funded percentage']),0)\n",
    "data_updated_dtype['pledgedMatch?'] = np.where(data_updated_dtype['pledged'] == data_updated_dtype['Calculated_Pledged'], 'True', 'False')  \n",
    "#create new column in df1 to check if pledged amounts  match\n",
    "\n",
    "data_updated_dtype.sample(100)\n"
   ]
  },
  {
   "cell_type": "code",
   "execution_count": 177,
   "metadata": {},
   "outputs": [
    {
     "data": {
      "text/html": "<div>\n<style scoped>\n    .dataframe tbody tr th:only-of-type {\n        vertical-align: middle;\n    }\n\n    .dataframe tbody tr th {\n        vertical-align: top;\n    }\n\n    .dataframe thead th {\n        text-align: right;\n    }\n</style>\n<table border=\"1\" class=\"dataframe\">\n  <thead>\n    <tr style=\"text-align: right;\">\n      <th></th>\n      <th>project id</th>\n      <th>name</th>\n      <th>url</th>\n      <th>category</th>\n      <th>subcategory</th>\n      <th>location</th>\n      <th>status</th>\n      <th>goal</th>\n      <th>pledged</th>\n      <th>funded percentage</th>\n      <th>...</th>\n      <th>levels</th>\n      <th>updates</th>\n      <th>comments</th>\n      <th>duration</th>\n      <th>Day of Week</th>\n      <th>Funded Date</th>\n      <th>Funded Time</th>\n      <th>reward_levels</th>\n      <th>Calculated_Pledged</th>\n      <th>pledgedMatch?</th>\n    </tr>\n  </thead>\n  <tbody>\n    <tr>\n      <th>1187</th>\n      <td>55442017</td>\n      <td>Xenonauts</td>\n      <td>http://www.kickstarter.com/projects/69341191/x...</td>\n      <td>Games</td>\n      <td>Video Games</td>\n      <td>London, United Kingdom</td>\n      <td>live</td>\n      <td>50000.0</td>\n      <td>NaN</td>\n      <td>2.219487</td>\n      <td>...</td>\n      <td>17</td>\n      <td>8</td>\n      <td>562</td>\n      <td>33.00</td>\n      <td>Sun</td>\n      <td>2012-06-10</td>\n      <td>23:19:04</td>\n      <td>$20,$30,$50,$50,$50,$60,$75,$85,$100,$100,$125...</td>\n      <td>110974.0</td>\n      <td>False</td>\n    </tr>\n    <tr>\n      <th>4502</th>\n      <td>213683990</td>\n      <td>Twokinds Book Printing Drive</td>\n      <td>http://www.kickstarter.com/projects/twokinds/t...</td>\n      <td>Comics</td>\n      <td>Comics</td>\n      <td>Cincinnati, OH</td>\n      <td>live</td>\n      <td>25000.0</td>\n      <td>NaN</td>\n      <td>6.303783</td>\n      <td>...</td>\n      <td>34</td>\n      <td>6</td>\n      <td>1133</td>\n      <td>31.24</td>\n      <td>Sat</td>\n      <td>2012-06-09</td>\n      <td>20:00:00</td>\n      <td>$10,$12,$15,$20,$20,$20,$20,$25,$25,$35,$35,$4...</td>\n      <td>157595.0</td>\n      <td>False</td>\n    </tr>\n    <tr>\n      <th>13381</th>\n      <td>636029584</td>\n      <td>HICKIES - TURN YOUR KICKS INTO SLIP-ONS</td>\n      <td>http://www.kickstarter.com/projects/hickies/hi...</td>\n      <td>Design</td>\n      <td>Product Design</td>\n      <td>Brooklyn, NY</td>\n      <td>live</td>\n      <td>25000.0</td>\n      <td>NaN</td>\n      <td>4.907843</td>\n      <td>...</td>\n      <td>9</td>\n      <td>6</td>\n      <td>119</td>\n      <td>45.00</td>\n      <td>Thu</td>\n      <td>2012-06-14</td>\n      <td>15:44:14</td>\n      <td>$16,$30,$45,$59,$75,$90,$115,$300,$500</td>\n      <td>122696.0</td>\n      <td>False</td>\n    </tr>\n    <tr>\n      <th>13802</th>\n      <td>656206605</td>\n      <td>Genie - Motion control time lapse device</td>\n      <td>http://www.kickstarter.com/projects/syrp/genie...</td>\n      <td>Design</td>\n      <td>Product Design</td>\n      <td>Queenstown, New Zealand</td>\n      <td>live</td>\n      <td>150000.0</td>\n      <td>NaN</td>\n      <td>2.999618</td>\n      <td>...</td>\n      <td>13</td>\n      <td>10</td>\n      <td>89</td>\n      <td>60.00</td>\n      <td>Tue</td>\n      <td>2012-06-26</td>\n      <td>06:29:41</td>\n      <td>$1,$15,$30,$50,$100,$590,$690,$750,$790,$3,000...</td>\n      <td>449943.0</td>\n      <td>False</td>\n    </tr>\n    <tr>\n      <th>25239</th>\n      <td>1184761342</td>\n      <td>B9Creator - A High Resolution 3D Printer</td>\n      <td>http://www.kickstarter.com/projects/b9creation...</td>\n      <td>Technology</td>\n      <td>Open Hardware</td>\n      <td>Deadwood, SD</td>\n      <td>live</td>\n      <td>50000.0</td>\n      <td>NaN</td>\n      <td>4.761380</td>\n      <td>...</td>\n      <td>11</td>\n      <td>12</td>\n      <td>100</td>\n      <td>33.07</td>\n      <td>Tue</td>\n      <td>2012-06-12</td>\n      <td>07:00:00</td>\n      <td>$5,$25,$59,$99,$132,$183,$216,$2,375,$2,675,$3...</td>\n      <td>238069.0</td>\n      <td>False</td>\n    </tr>\n    <tr>\n      <th>29412</th>\n      <td>1382865280</td>\n      <td>Phil Tippett's &amp;quot;MAD GOD&amp;quot;</td>\n      <td>http://www.kickstarter.com/projects/madgod/phi...</td>\n      <td>Film &amp;amp; Video</td>\n      <td>Animation</td>\n      <td>Berkeley, CA</td>\n      <td>live</td>\n      <td>40000.0</td>\n      <td>NaN</td>\n      <td>2.532484</td>\n      <td>...</td>\n      <td>10</td>\n      <td>3</td>\n      <td>59</td>\n      <td>30.00</td>\n      <td>Sat</td>\n      <td>2012-06-16</td>\n      <td>22:36:31</td>\n      <td>$10,$25,$55,$75,$100,$115,$300,$1,800,$3,600,$...</td>\n      <td>101299.0</td>\n      <td>False</td>\n    </tr>\n    <tr>\n      <th>31164</th>\n      <td>1467412732</td>\n      <td>gTar: The First Guitar That Anybody Can Play</td>\n      <td>http://www.kickstarter.com/projects/incident/g...</td>\n      <td>Technology</td>\n      <td>Technology</td>\n      <td>Santa Clara, CA</td>\n      <td>live</td>\n      <td>100000.0</td>\n      <td>NaN</td>\n      <td>2.846420</td>\n      <td>...</td>\n      <td>11</td>\n      <td>4</td>\n      <td>44</td>\n      <td>35.00</td>\n      <td>Mon</td>\n      <td>2012-06-25</td>\n      <td>17:26:04</td>\n      <td>$1,$25,$350,$399,$450,$499,$599,$699,$799,$999...</td>\n      <td>284642.0</td>\n      <td>False</td>\n    </tr>\n    <tr>\n      <th>34274</th>\n      <td>1612550316</td>\n      <td>Space Command</td>\n      <td>http://www.kickstarter.com/projects/58936338/s...</td>\n      <td>Film &amp;amp; Video</td>\n      <td>Film &amp;amp; Video</td>\n      <td>Studio City, CA</td>\n      <td>live</td>\n      <td>75000.0</td>\n      <td>NaN</td>\n      <td>1.796187</td>\n      <td>...</td>\n      <td>22</td>\n      <td>24</td>\n      <td>279</td>\n      <td>60.00</td>\n      <td>Sun</td>\n      <td>2012-07-15</td>\n      <td>03:59:00</td>\n      <td>$5,$8,$12,$17,$27,$37,$50,$67,$107,$257,$357,$...</td>\n      <td>134714.0</td>\n      <td>False</td>\n    </tr>\n    <tr>\n      <th>35032</th>\n      <td>1648656751</td>\n      <td>BronyCon: The Documentary</td>\n      <td>http://www.kickstarter.com/projects/257527888/...</td>\n      <td>Film &amp;amp; Video</td>\n      <td>Documentary</td>\n      <td>Los Angeles, CA</td>\n      <td>live</td>\n      <td>60000.0</td>\n      <td>NaN</td>\n      <td>3.148185</td>\n      <td>...</td>\n      <td>15</td>\n      <td>5</td>\n      <td>525</td>\n      <td>26.97</td>\n      <td>Sun</td>\n      <td>2012-06-10</td>\n      <td>18:59:00</td>\n      <td>$10,$10,$30,$50,$75,$100,$150,$250,$500,$500,$...</td>\n      <td>188891.0</td>\n      <td>False</td>\n    </tr>\n    <tr>\n      <th>40759</th>\n      <td>1911111579</td>\n      <td>Two Guys SpaceVenture - by the creators of Spa...</td>\n      <td>http://www.kickstarter.com/projects/spaceventu...</td>\n      <td>Games</td>\n      <td>Video Games</td>\n      <td>Eugene, OR</td>\n      <td>live</td>\n      <td>500000.0</td>\n      <td>NaN</td>\n      <td>0.583738</td>\n      <td>...</td>\n      <td>33</td>\n      <td>30</td>\n      <td>6895</td>\n      <td>35.00</td>\n      <td>Tue</td>\n      <td>2012-06-12</td>\n      <td>17:27:38</td>\n      <td>$15,$30,$31,$45,$50,$60,$75,$100,$100,$101,$11...</td>\n      <td>291869.0</td>\n      <td>False</td>\n    </tr>\n    <tr>\n      <th>40872</th>\n      <td>1916534136</td>\n      <td>Une Bobine - For People Who Love iPhone... and...</td>\n      <td>http://www.kickstarter.com/projects/382469225/...</td>\n      <td>Design</td>\n      <td>Product Design</td>\n      <td>Akron, OH</td>\n      <td>live</td>\n      <td>9800.0</td>\n      <td>NaN</td>\n      <td>15.012808</td>\n      <td>...</td>\n      <td>14</td>\n      <td>10</td>\n      <td>212</td>\n      <td>39.62</td>\n      <td>Sat</td>\n      <td>2012-06-16</td>\n      <td>02:10:00</td>\n      <td>$1,$10,$25,$40,$50,$75,$100,$250,$500,$750,$1,...</td>\n      <td>147126.0</td>\n      <td>False</td>\n    </tr>\n    <tr>\n      <th>44132</th>\n      <td>2071039473</td>\n      <td>&amp;quot;Fallout: Nuka Break&amp;quot; Season 2</td>\n      <td>http://www.kickstarter.com/projects/waysidecre...</td>\n      <td>Film &amp;amp; Video</td>\n      <td>Webseries</td>\n      <td>Los Angeles, CA</td>\n      <td>live</td>\n      <td>60000.0</td>\n      <td>NaN</td>\n      <td>1.747994</td>\n      <td>...</td>\n      <td>13</td>\n      <td>6</td>\n      <td>165</td>\n      <td>60.00</td>\n      <td>Sun</td>\n      <td>2012-06-17</td>\n      <td>19:06:27</td>\n      <td>$10,$25,$30,$35,$50,$100,$150,$250,$300,$500,$...</td>\n      <td>104880.0</td>\n      <td>False</td>\n    </tr>\n  </tbody>\n</table>\n<p>12 rows × 21 columns</p>\n</div>",
      "text/plain": "       project id                                               name  \\\n1187     55442017                                          Xenonauts   \n4502    213683990                       Twokinds Book Printing Drive   \n13381   636029584            HICKIES - TURN YOUR KICKS INTO SLIP-ONS   \n13802   656206605           Genie - Motion control time lapse device   \n25239  1184761342           B9Creator - A High Resolution 3D Printer   \n29412  1382865280                 Phil Tippett's &quot;MAD GOD&quot;   \n31164  1467412732       gTar: The First Guitar That Anybody Can Play   \n34274  1612550316                                      Space Command   \n35032  1648656751                          BronyCon: The Documentary   \n40759  1911111579  Two Guys SpaceVenture - by the creators of Spa...   \n40872  1916534136  Une Bobine - For People Who Love iPhone... and...   \n44132  2071039473           &quot;Fallout: Nuka Break&quot; Season 2   \n\n                                                     url          category  \\\n1187   http://www.kickstarter.com/projects/69341191/x...             Games   \n4502   http://www.kickstarter.com/projects/twokinds/t...            Comics   \n13381  http://www.kickstarter.com/projects/hickies/hi...            Design   \n13802  http://www.kickstarter.com/projects/syrp/genie...            Design   \n25239  http://www.kickstarter.com/projects/b9creation...        Technology   \n29412  http://www.kickstarter.com/projects/madgod/phi...  Film &amp; Video   \n31164  http://www.kickstarter.com/projects/incident/g...        Technology   \n34274  http://www.kickstarter.com/projects/58936338/s...  Film &amp; Video   \n35032  http://www.kickstarter.com/projects/257527888/...  Film &amp; Video   \n40759  http://www.kickstarter.com/projects/spaceventu...             Games   \n40872  http://www.kickstarter.com/projects/382469225/...            Design   \n44132  http://www.kickstarter.com/projects/waysidecre...  Film &amp; Video   \n\n            subcategory                 location status      goal  pledged  \\\n1187        Video Games   London, United Kingdom   live   50000.0      NaN   \n4502             Comics           Cincinnati, OH   live   25000.0      NaN   \n13381    Product Design             Brooklyn, NY   live   25000.0      NaN   \n13802    Product Design  Queenstown, New Zealand   live  150000.0      NaN   \n25239     Open Hardware             Deadwood, SD   live   50000.0      NaN   \n29412         Animation             Berkeley, CA   live   40000.0      NaN   \n31164        Technology          Santa Clara, CA   live  100000.0      NaN   \n34274  Film &amp; Video          Studio City, CA   live   75000.0      NaN   \n35032       Documentary          Los Angeles, CA   live   60000.0      NaN   \n40759       Video Games               Eugene, OR   live  500000.0      NaN   \n40872    Product Design                Akron, OH   live    9800.0      NaN   \n44132         Webseries          Los Angeles, CA   live   60000.0      NaN   \n\n       funded percentage  ...  levels  updates  comments  duration  \\\n1187            2.219487  ...      17        8       562     33.00   \n4502            6.303783  ...      34        6      1133     31.24   \n13381           4.907843  ...       9        6       119     45.00   \n13802           2.999618  ...      13       10        89     60.00   \n25239           4.761380  ...      11       12       100     33.07   \n29412           2.532484  ...      10        3        59     30.00   \n31164           2.846420  ...      11        4        44     35.00   \n34274           1.796187  ...      22       24       279     60.00   \n35032           3.148185  ...      15        5       525     26.97   \n40759           0.583738  ...      33       30      6895     35.00   \n40872          15.012808  ...      14       10       212     39.62   \n44132           1.747994  ...      13        6       165     60.00   \n\n       Day of Week Funded Date Funded Time  \\\n1187           Sun  2012-06-10    23:19:04   \n4502           Sat  2012-06-09    20:00:00   \n13381          Thu  2012-06-14    15:44:14   \n13802          Tue  2012-06-26    06:29:41   \n25239          Tue  2012-06-12    07:00:00   \n29412          Sat  2012-06-16    22:36:31   \n31164          Mon  2012-06-25    17:26:04   \n34274          Sun  2012-07-15    03:59:00   \n35032          Sun  2012-06-10    18:59:00   \n40759          Tue  2012-06-12    17:27:38   \n40872          Sat  2012-06-16    02:10:00   \n44132          Sun  2012-06-17    19:06:27   \n\n                                           reward_levels Calculated_Pledged  \\\n1187   $20,$30,$50,$50,$50,$60,$75,$85,$100,$100,$125...           110974.0   \n4502   $10,$12,$15,$20,$20,$20,$20,$25,$25,$35,$35,$4...           157595.0   \n13381             $16,$30,$45,$59,$75,$90,$115,$300,$500           122696.0   \n13802  $1,$15,$30,$50,$100,$590,$690,$750,$790,$3,000...           449943.0   \n25239  $5,$25,$59,$99,$132,$183,$216,$2,375,$2,675,$3...           238069.0   \n29412  $10,$25,$55,$75,$100,$115,$300,$1,800,$3,600,$...           101299.0   \n31164  $1,$25,$350,$399,$450,$499,$599,$699,$799,$999...           284642.0   \n34274  $5,$8,$12,$17,$27,$37,$50,$67,$107,$257,$357,$...           134714.0   \n35032  $10,$10,$30,$50,$75,$100,$150,$250,$500,$500,$...           188891.0   \n40759  $15,$30,$31,$45,$50,$60,$75,$100,$100,$101,$11...           291869.0   \n40872  $1,$10,$25,$40,$50,$75,$100,$250,$500,$750,$1,...           147126.0   \n44132  $10,$25,$30,$35,$50,$100,$150,$250,$300,$500,$...           104880.0   \n\n       pledgedMatch?  \n1187           False  \n4502           False  \n13381          False  \n13802          False  \n25239          False  \n29412          False  \n31164          False  \n34274          False  \n35032          False  \n40759          False  \n40872          False  \n44132          False  \n\n[12 rows x 21 columns]"
     },
     "execution_count": 177,
     "metadata": {},
     "output_type": "execute_result"
    }
   ],
   "source": [
    "#Let's add in the pldged amount where appropiate in our dataset\n",
    "nullpledged_df = data_updated_dtype[data_updated_dtype.isnull().pledged]\n",
    "nullpledged_df.head(20) #there should only be 12 rows in the pledged null data frame\n",
    "# data_updated_dtype['pledged']=round(nullpledged_df['goal']*(nullpledged_df['funded percentage']),0)\n",
    "# pledged_null = data_updated_dtype.isnull().pledged.sum()\n",
    "# print(\"pledged null\", pledged_null)  \n",
    "\n"
   ]
  },
  {
   "cell_type": "code",
   "execution_count": 178,
   "metadata": {},
   "outputs": [],
   "source": [
    "#Let's attempt to fill in the values for this temporary data frame\n",
    "#the following code snippet was me testing how to use the np.where function, which essentialy acts like an if-then function.\n",
    "#The function worked the way that I hoped it would\n",
    "# nullpledged_df['pledged'] = np.where(nullpledged_df['pledged'].isnull(),round(nullpledged_df['goal']*(nullpledged_df['funded percentage']),0),nullpledged_df['pledged'])\n",
    "# nullpledged_df.head(12)\n"
   ]
  },
  {
   "cell_type": "code",
   "execution_count": 179,
   "metadata": {},
   "outputs": [
    {
     "name": "stdout",
     "output_type": "stream",
     "text": [
      "pledged null 0\n"
     ]
    }
   ],
   "source": [
    "#Use the numpy \"where\" function to replace NAN values in the data set with by calculating pledged amount from fundraising goal * pledged percentage.\n",
    "data_updated_dtype['pledged'] = np.where(data_updated_dtype['pledged'].isnull(),round(data_updated_dtype['goal']*(data_updated_dtype['funded percentage']),0),data_updated_dtype['pledged'])\n",
    "pledged_null = data_updated_dtype.isnull().pledged.sum()\n",
    "#the expected output is 0. \n",
    "print(\"pledged null\", pledged_null) "
   ]
  },
  {
   "cell_type": "code",
   "execution_count": 180,
   "metadata": {},
   "outputs": [
    {
     "data": {
      "text/html": "<div>\n<style scoped>\n    .dataframe tbody tr th:only-of-type {\n        vertical-align: middle;\n    }\n\n    .dataframe tbody tr th {\n        vertical-align: top;\n    }\n\n    .dataframe thead th {\n        text-align: right;\n    }\n</style>\n<table border=\"1\" class=\"dataframe\">\n  <thead>\n    <tr style=\"text-align: right;\">\n      <th></th>\n      <th>project id</th>\n      <th>name</th>\n      <th>url</th>\n      <th>category</th>\n      <th>subcategory</th>\n      <th>location</th>\n      <th>status</th>\n      <th>goal</th>\n      <th>pledged</th>\n      <th>funded percentage</th>\n      <th>backers</th>\n      <th>levels</th>\n      <th>updates</th>\n      <th>comments</th>\n      <th>duration</th>\n      <th>Day of Week</th>\n      <th>Funded Date</th>\n      <th>Funded Time</th>\n      <th>reward_levels</th>\n    </tr>\n  </thead>\n  <tbody>\n    <tr>\n      <th>0</th>\n      <td>39409</td>\n      <td>WHILE THE TREES SLEEP</td>\n      <td>http://www.kickstarter.com/projects/emiliesaba...</td>\n      <td>Film &amp; Video</td>\n      <td>Short Film</td>\n      <td>Columbia, MO</td>\n      <td>successful</td>\n      <td>10500.0</td>\n      <td>11545.0</td>\n      <td>1.099524</td>\n      <td>66</td>\n      <td>7</td>\n      <td>10</td>\n      <td>2</td>\n      <td>30.00</td>\n      <td>Fri</td>\n      <td>2011-08-19</td>\n      <td>19:28:17</td>\n      <td>$25,$50,$100,$250,$500,$1,000,$2,500</td>\n    </tr>\n    <tr>\n      <th>1</th>\n      <td>126581</td>\n      <td>Educational Online Trading Card Game</td>\n      <td>http://www.kickstarter.com/projects/972789543/...</td>\n      <td>Games</td>\n      <td>Board &amp; Card Games</td>\n      <td>Maplewood, NJ</td>\n      <td>failed</td>\n      <td>4000.0</td>\n      <td>20.0</td>\n      <td>0.005000</td>\n      <td>2</td>\n      <td>5</td>\n      <td>6</td>\n      <td>0</td>\n      <td>47.18</td>\n      <td>Mon</td>\n      <td>2010-08-02</td>\n      <td>03:59:00</td>\n      <td>$1,$5,$10,$25,$50</td>\n    </tr>\n    <tr>\n      <th>2</th>\n      <td>138119</td>\n      <td>STRUM</td>\n      <td>http://www.kickstarter.com/projects/185476022/...</td>\n      <td>Film &amp; Video</td>\n      <td>Animation</td>\n      <td>Los Angeles, CA</td>\n      <td>live</td>\n      <td>20000.0</td>\n      <td>56.0</td>\n      <td>0.002800</td>\n      <td>3</td>\n      <td>10</td>\n      <td>1</td>\n      <td>0</td>\n      <td>28.00</td>\n      <td>Fri</td>\n      <td>2012-06-08</td>\n      <td>00:00:31</td>\n      <td>$1,$10,$25,$40,$50,$100,$250,$1,000,$1,337,$9,001</td>\n    </tr>\n    <tr>\n      <th>3</th>\n      <td>237090</td>\n      <td>GETTING OVER - One son's search to finally kno...</td>\n      <td>http://www.kickstarter.com/projects/charnick/g...</td>\n      <td>Film &amp; Video</td>\n      <td>Documentary</td>\n      <td>Los Angeles, CA</td>\n      <td>successful</td>\n      <td>6000.0</td>\n      <td>6535.0</td>\n      <td>1.089167</td>\n      <td>100</td>\n      <td>13</td>\n      <td>4</td>\n      <td>0</td>\n      <td>32.22</td>\n      <td>Sun</td>\n      <td>2012-04-08</td>\n      <td>02:14:00</td>\n      <td>$1,$10,$25,$30,$50,$75,$85,$100,$110,$250,$500...</td>\n    </tr>\n    <tr>\n      <th>4</th>\n      <td>246101</td>\n      <td>The Launch of FlyeGrlRoyalty &amp;quot;The New Nam...</td>\n      <td>http://www.kickstarter.com/projects/flyegrlroy...</td>\n      <td>Fashion</td>\n      <td>Fashion</td>\n      <td>Novi, MI</td>\n      <td>failed</td>\n      <td>3500.0</td>\n      <td>0.0</td>\n      <td>0.000000</td>\n      <td>0</td>\n      <td>6</td>\n      <td>2</td>\n      <td>0</td>\n      <td>30.00</td>\n      <td>Wed</td>\n      <td>2011-06-01</td>\n      <td>15:25:39</td>\n      <td>$10,$25,$50,$100,$150,$250</td>\n    </tr>\n  </tbody>\n</table>\n</div>",
      "text/plain": "  project id                                               name  \\\n0      39409                              WHILE THE TREES SLEEP   \n1     126581               Educational Online Trading Card Game   \n2     138119                                              STRUM   \n3     237090  GETTING OVER - One son's search to finally kno...   \n4     246101  The Launch of FlyeGrlRoyalty &quot;The New Nam...   \n\n                                                 url      category  \\\n0  http://www.kickstarter.com/projects/emiliesaba...  Film & Video   \n1  http://www.kickstarter.com/projects/972789543/...         Games   \n2  http://www.kickstarter.com/projects/185476022/...  Film & Video   \n3  http://www.kickstarter.com/projects/charnick/g...  Film & Video   \n4  http://www.kickstarter.com/projects/flyegrlroy...       Fashion   \n\n          subcategory         location      status     goal  pledged  \\\n0          Short Film     Columbia, MO  successful  10500.0  11545.0   \n1  Board & Card Games    Maplewood, NJ      failed   4000.0     20.0   \n2           Animation  Los Angeles, CA        live  20000.0     56.0   \n3         Documentary  Los Angeles, CA  successful   6000.0   6535.0   \n4             Fashion         Novi, MI      failed   3500.0      0.0   \n\n   funded percentage  backers  levels  updates  comments  duration  \\\n0           1.099524       66       7       10         2     30.00   \n1           0.005000        2       5        6         0     47.18   \n2           0.002800        3      10        1         0     28.00   \n3           1.089167      100      13        4         0     32.22   \n4           0.000000        0       6        2         0     30.00   \n\n  Day of Week Funded Date Funded Time  \\\n0         Fri  2011-08-19    19:28:17   \n1         Mon  2010-08-02    03:59:00   \n2         Fri  2012-06-08    00:00:31   \n3         Sun  2012-04-08    02:14:00   \n4         Wed  2011-06-01    15:25:39   \n\n                                       reward_levels  \n0               $25,$50,$100,$250,$500,$1,000,$2,500  \n1                                  $1,$5,$10,$25,$50  \n2  $1,$10,$25,$40,$50,$100,$250,$1,000,$1,337,$9,001  \n3  $1,$10,$25,$30,$50,$75,$85,$100,$110,$250,$500...  \n4                         $10,$25,$50,$100,$150,$250  "
     },
     "execution_count": 180,
     "metadata": {},
     "output_type": "execute_result"
    }
   ],
   "source": [
    "#create a new dataset to be used for further data cleaning\n",
    "#We need to drop the extra columns we created, i.e. pledgedmatch? and calculated pledge\n",
    "data_updated_dtype.drop(columns= ['Calculated_Pledged','pledgedMatch?'], inplace=True)\n",
    "no_nulls_data= data_updated_dtype\n",
    "no_nulls_data.head()\n",
    "\n"
   ]
  },
  {
   "cell_type": "code",
   "execution_count": 181,
   "metadata": {},
   "outputs": [
    {
     "name": "stdout",
     "output_type": "stream",
     "text": [
      "['Film & Video' 'Games' 'Fashion' 'Music' 'Art' 'Dance' 'Publishing'\n",
      " 'Theater' 'Comics' 'Technology' 'Design' 'Photography' 'Food'\n",
      " 'Film &amp; Video']\n",
      "category\n",
      "Art                  3872\n",
      "Comics               1034\n",
      "Dance                 744\n",
      "Design               1738\n",
      "Fashion              1117\n",
      "Film & Video          482\n",
      "Film &amp; Video    12600\n",
      "Food                 1411\n",
      "Games                1689\n",
      "Music               10671\n",
      "Photography          1424\n",
      "Publishing           4585\n",
      "Technology            774\n",
      "Theater              2451\n",
      "Name: category, dtype: int64\n"
     ]
    }
   ],
   "source": [
    "#Next Step: Let's make sure all categories are unique and consistent\n",
    "print(no_nulls_data.category.unique())\n",
    "print(no_nulls_data.groupby(['category'])['category'].count())\n",
    "#From our output, we see that Film & Video is written two ways, Film & Video + Film &amp; Video\n",
    "#The total expected amount of listings that fall in the Film & video category is 13,082\n",
    "#Expected output\n",
    "# category\n",
    "    # Art                  3872\n",
    "    # Comics               1034\n",
    "    # Dance                 744\n",
    "    # Design               1738\n",
    "    # Fashion              1117\n",
    "    # Film & Video          482\n",
    "    # Film &amp; Video    12600\n",
    "    # Food                 1411\n",
    "    # Games                1689\n",
    "    # Music               10671\n",
    "    # Photography          1424\n",
    "    # Publishing           4585\n",
    "    # Technology            774\n",
    "    # Theater              2451"
   ]
  },
  {
   "cell_type": "code",
   "execution_count": 182,
   "metadata": {},
   "outputs": [
    {
     "name": "stdout",
     "output_type": "stream",
     "text": [
      "<pandas.core.groupby.generic.SeriesGroupBy object at 0x000002373EE14B80>\n"
     ]
    }
   ],
   "source": [
    "#Relace all instances of Film &amp; Video with Film & Video\n",
    "no_nulls_data['category'] = np.where(no_nulls_data['category'] =='Film &amp; Video','Film & Video',no_nulls_data['category'])\n",
    "print(no_nulls_data.groupby(['category'])['category'])\n"
   ]
  },
  {
   "cell_type": "code",
   "execution_count": 183,
   "metadata": {},
   "outputs": [
    {
     "name": "stdout",
     "output_type": "stream",
     "text": [
      "subcategory\n",
      "Animation                  407\n",
      "Art                       1037\n",
      "Art Book                   333\n",
      "Board & Card Games         110\n",
      "Board &amp; Card Games     432\n",
      "Children's Book            640\n",
      "Classical Music            470\n",
      "Comics                    1034\n",
      "Conceptual Art             168\n",
      "Country & Folk             249\n",
      "Country &amp; Folk         777\n",
      "Crafts                     247\n",
      "Dance                      744\n",
      "Design                     281\n",
      "Digital Art                139\n",
      "Documentary               3798\n",
      "Electronic Music           298\n",
      "Fashion                   1117\n",
      "Fiction                   1057\n",
      "Film &amp; Video          2432\n",
      "Food                      1411\n",
      "Games                      267\n",
      "Graphic Design             171\n",
      "Hip-Hop                    467\n",
      "Illustration               195\n",
      "Indie Rock                1880\n",
      "Jazz                       431\n",
      "Journalism                 381\n",
      "Mixed Media                443\n",
      "Music                     3187\n",
      "Narrative Film            1510\n",
      "Nonfiction                1019\n",
      "Open Hardware              176\n",
      "Open Software              232\n",
      "Painting                   492\n",
      "Performance Art            492\n",
      "Periodical                 288\n",
      "Photography               1424\n",
      "Poetry                     215\n",
      "Pop                        730\n",
      "Product Design            1039\n",
      "Public Art                 563\n",
      "Publishing                 652\n",
      "Rock                      1770\n",
      "Sculpture                  343\n",
      "Short Film                3838\n",
      "Technology                 366\n",
      "Theater                   2451\n",
      "Video Games                880\n",
      "Webseries                 1097\n",
      "World Music                412\n",
      "Name: subcategory, dtype: int64\n"
     ]
    }
   ],
   "source": [
    "#let's identify the unique values of our subcategories\n",
    "# print(no_nulls_data.subcategory.unique())\n",
    "print(no_nulls_data.groupby(['subcategory'])['subcategory'].count())\n",
    "# print(no_nulls_data.loc[no_nulls_data['subcategory'] == 'Board & Card Games'].count())\n"
   ]
  },
  {
   "cell_type": "code",
   "execution_count": 184,
   "metadata": {},
   "outputs": [
    {
     "data": {
      "text/html": "<div>\n<style scoped>\n    .dataframe tbody tr th:only-of-type {\n        vertical-align: middle;\n    }\n\n    .dataframe tbody tr th {\n        vertical-align: top;\n    }\n\n    .dataframe thead th {\n        text-align: right;\n    }\n</style>\n<table border=\"1\" class=\"dataframe\">\n  <thead>\n    <tr style=\"text-align: right;\">\n      <th></th>\n      <th>project id</th>\n      <th>name</th>\n      <th>url</th>\n      <th>category</th>\n      <th>subcategory</th>\n      <th>location</th>\n      <th>status</th>\n      <th>goal</th>\n      <th>pledged</th>\n      <th>funded percentage</th>\n      <th>backers</th>\n      <th>levels</th>\n      <th>updates</th>\n      <th>comments</th>\n      <th>duration</th>\n      <th>Day of Week</th>\n      <th>Funded Date</th>\n      <th>Funded Time</th>\n      <th>reward_levels</th>\n    </tr>\n  </thead>\n  <tbody>\n    <tr>\n      <th>0</th>\n      <td>39409</td>\n      <td>WHILE THE TREES SLEEP</td>\n      <td>http://www.kickstarter.com/projects/emiliesaba...</td>\n      <td>Film &amp; Video</td>\n      <td>Short Film</td>\n      <td>Columbia, MO</td>\n      <td>successful</td>\n      <td>10500.0</td>\n      <td>11545.0</td>\n      <td>1.099524</td>\n      <td>66</td>\n      <td>7</td>\n      <td>10</td>\n      <td>2</td>\n      <td>30.00</td>\n      <td>Fri</td>\n      <td>2011-08-19</td>\n      <td>19:28:17</td>\n      <td>$25,$50,$100,$250,$500,$1,000,$2,500</td>\n    </tr>\n    <tr>\n      <th>1</th>\n      <td>126581</td>\n      <td>Educational Online Trading Card Game</td>\n      <td>http://www.kickstarter.com/projects/972789543/...</td>\n      <td>Games</td>\n      <td>Board &amp; Card Games</td>\n      <td>Maplewood, NJ</td>\n      <td>failed</td>\n      <td>4000.0</td>\n      <td>20.0</td>\n      <td>0.005000</td>\n      <td>2</td>\n      <td>5</td>\n      <td>6</td>\n      <td>0</td>\n      <td>47.18</td>\n      <td>Mon</td>\n      <td>2010-08-02</td>\n      <td>03:59:00</td>\n      <td>$1,$5,$10,$25,$50</td>\n    </tr>\n    <tr>\n      <th>2</th>\n      <td>138119</td>\n      <td>STRUM</td>\n      <td>http://www.kickstarter.com/projects/185476022/...</td>\n      <td>Film &amp; Video</td>\n      <td>Animation</td>\n      <td>Los Angeles, CA</td>\n      <td>live</td>\n      <td>20000.0</td>\n      <td>56.0</td>\n      <td>0.002800</td>\n      <td>3</td>\n      <td>10</td>\n      <td>1</td>\n      <td>0</td>\n      <td>28.00</td>\n      <td>Fri</td>\n      <td>2012-06-08</td>\n      <td>00:00:31</td>\n      <td>$1,$10,$25,$40,$50,$100,$250,$1,000,$1,337,$9,001</td>\n    </tr>\n    <tr>\n      <th>3</th>\n      <td>237090</td>\n      <td>GETTING OVER - One son's search to finally kno...</td>\n      <td>http://www.kickstarter.com/projects/charnick/g...</td>\n      <td>Film &amp; Video</td>\n      <td>Documentary</td>\n      <td>Los Angeles, CA</td>\n      <td>successful</td>\n      <td>6000.0</td>\n      <td>6535.0</td>\n      <td>1.089167</td>\n      <td>100</td>\n      <td>13</td>\n      <td>4</td>\n      <td>0</td>\n      <td>32.22</td>\n      <td>Sun</td>\n      <td>2012-04-08</td>\n      <td>02:14:00</td>\n      <td>$1,$10,$25,$30,$50,$75,$85,$100,$110,$250,$500...</td>\n    </tr>\n    <tr>\n      <th>4</th>\n      <td>246101</td>\n      <td>The Launch of FlyeGrlRoyalty &amp;quot;The New Nam...</td>\n      <td>http://www.kickstarter.com/projects/flyegrlroy...</td>\n      <td>Fashion</td>\n      <td>Fashion</td>\n      <td>Novi, MI</td>\n      <td>failed</td>\n      <td>3500.0</td>\n      <td>0.0</td>\n      <td>0.000000</td>\n      <td>0</td>\n      <td>6</td>\n      <td>2</td>\n      <td>0</td>\n      <td>30.00</td>\n      <td>Wed</td>\n      <td>2011-06-01</td>\n      <td>15:25:39</td>\n      <td>$10,$25,$50,$100,$150,$250</td>\n    </tr>\n  </tbody>\n</table>\n</div>",
      "text/plain": "  project id                                               name  \\\n0      39409                              WHILE THE TREES SLEEP   \n1     126581               Educational Online Trading Card Game   \n2     138119                                              STRUM   \n3     237090  GETTING OVER - One son's search to finally kno...   \n4     246101  The Launch of FlyeGrlRoyalty &quot;The New Nam...   \n\n                                                 url      category  \\\n0  http://www.kickstarter.com/projects/emiliesaba...  Film & Video   \n1  http://www.kickstarter.com/projects/972789543/...         Games   \n2  http://www.kickstarter.com/projects/185476022/...  Film & Video   \n3  http://www.kickstarter.com/projects/charnick/g...  Film & Video   \n4  http://www.kickstarter.com/projects/flyegrlroy...       Fashion   \n\n          subcategory         location      status     goal  pledged  \\\n0          Short Film     Columbia, MO  successful  10500.0  11545.0   \n1  Board & Card Games    Maplewood, NJ      failed   4000.0     20.0   \n2           Animation  Los Angeles, CA        live  20000.0     56.0   \n3         Documentary  Los Angeles, CA  successful   6000.0   6535.0   \n4             Fashion         Novi, MI      failed   3500.0      0.0   \n\n   funded percentage  backers  levels  updates  comments  duration  \\\n0           1.099524       66       7       10         2     30.00   \n1           0.005000        2       5        6         0     47.18   \n2           0.002800        3      10        1         0     28.00   \n3           1.089167      100      13        4         0     32.22   \n4           0.000000        0       6        2         0     30.00   \n\n  Day of Week Funded Date Funded Time  \\\n0         Fri  2011-08-19    19:28:17   \n1         Mon  2010-08-02    03:59:00   \n2         Fri  2012-06-08    00:00:31   \n3         Sun  2012-04-08    02:14:00   \n4         Wed  2011-06-01    15:25:39   \n\n                                       reward_levels  \n0               $25,$50,$100,$250,$500,$1,000,$2,500  \n1                                  $1,$5,$10,$25,$50  \n2  $1,$10,$25,$40,$50,$100,$250,$1,000,$1,337,$9,001  \n3  $1,$10,$25,$30,$50,$75,$85,$100,$110,$250,$500...  \n4                         $10,$25,$50,$100,$150,$250  "
     },
     "execution_count": 184,
     "metadata": {},
     "output_type": "execute_result"
    }
   ],
   "source": [
    "#Let's redefine Board &amp; Card Games,  Country &amp; Folk  ,  Film &amp; Video\n",
    "no_nulls_data['subcategory'] = np.where(no_nulls_data['subcategory'] =='Film &amp; Video','Film & Video',no_nulls_data['subcategory'])\n",
    "no_nulls_data['subcategory'] = np.where(no_nulls_data['subcategory'] =='Country &amp; Folk','Country & Folk',no_nulls_data['subcategory'])\n",
    "no_nulls_data['subcategory'] = np.where(no_nulls_data['subcategory'] =='Board &amp; Card Games','Board & Card Games',no_nulls_data['subcategory'])\n",
    "\n",
    "# for item  in no_nulls_data['subcategory']:\n",
    "#     if (item == 'Film &amp; Video'):\n",
    "#         no_nulls_data['subcategory'][item]= ('Film & Video')\n",
    "#     else:\n",
    "#         item = item\n",
    "    \n",
    "# no_nulls_data.shape\n",
    "#In order to iterate over an index I need to reindex my code.\n",
    "no_nulls_data.reset_index(drop=True, inplace= True)\n",
    "no_nulls_data.head(20)\n",
    "# print(no_nulls_data['subcategory'][0]);\n",
    "# print(no_nulls_data['subcategory'][11]);\n",
    "# i = 0;\n",
    "# for i in range(len(no_nulls_data['subcategory'])):\n",
    "# #     print(no_nulls_data['category'][i])\n",
    "#     if no_nulls_data['subcategory'][i] == 'Film &amp; Video':\n",
    "#         no_nulls_data['subcategory'][i] =\"Film & Video\"\n",
    "#     elif no_nulls_data['subcategory'][i] == 'Board &amp; Card Games':\n",
    "#         no_nulls_data['subcategory'][i] = \"Board & Card Games\"\n",
    "#     elif no_nulls_data['subcategory'][i] == 'Country &amp; Folk':\n",
    "#         no_nulls_data['subcategory'][i] =\"Country & Folk\"\n",
    "# no_nulls_data.column = df.column.apply(<urstuff>)\n",
    "    \n",
    "        \n",
    "        \n",
    "#     if no_nulls_data['subcategory'][i] == 'Film &amp; Video':\n",
    "#         no_nulls_data['subcategory'][i] = \"Film & video\"\n",
    "#     else:\n",
    "#         no_nulls_data['subcategory'][i] = no_nulls_data['subcategory'][i]\n",
    "# no_nulls_data.head(20)\n",
    "#Print statement to make sure everything was renamed properly\n",
    "#print(no_nulls_data.subcategory.unique())\n",
    "no_nulls_data.head()\n",
    "\n",
    "\n"
   ]
  },
  {
   "cell_type": "code",
   "execution_count": 185,
   "metadata": {},
   "outputs": [],
   "source": [
    "#Let's remove extra columns if possible\n",
    "# print(no_nulls_data['pledgedMatch?'].is())\n",
    "# print(no_nulls_data['goal'].count())"
   ]
  },
  {
   "cell_type": "code",
   "execution_count": 186,
   "metadata": {},
   "outputs": [],
   "source": [
    "#Rename no_null_data to the final dataset since everything is finally cleaned\n",
    "#Convert the the decimal repesentation of funded percentage to actually correspond with the percentage\n",
    "no_nulls_data['funded percentage']= no_nulls_data['funded percentage'].apply(lambda x: x*100)\n",
    "final_data=no_nulls_data"
   ]
  },
  {
   "cell_type": "code",
   "execution_count": 187,
   "metadata": {},
   "outputs": [
    {
     "data": {
      "text/html": "<div>\n<style scoped>\n    .dataframe tbody tr th:only-of-type {\n        vertical-align: middle;\n    }\n\n    .dataframe tbody tr th {\n        vertical-align: top;\n    }\n\n    .dataframe thead th {\n        text-align: right;\n    }\n</style>\n<table border=\"1\" class=\"dataframe\">\n  <thead>\n    <tr style=\"text-align: right;\">\n      <th></th>\n      <th>goal</th>\n      <th>pledged</th>\n      <th>funded percentage</th>\n      <th>backers</th>\n      <th>levels</th>\n      <th>updates</th>\n      <th>comments</th>\n      <th>duration</th>\n    </tr>\n  </thead>\n  <tbody>\n    <tr>\n      <th>count</th>\n      <td>44592.00</td>\n      <td>44592.00</td>\n      <td>44592.00</td>\n      <td>44592.00</td>\n      <td>44592.00</td>\n      <td>44592.00</td>\n      <td>44592.00</td>\n      <td>44592.00</td>\n    </tr>\n    <tr>\n      <th>mean</th>\n      <td>12108.94</td>\n      <td>5104.14</td>\n      <td>165.89</td>\n      <td>71.04</td>\n      <td>8.05</td>\n      <td>4.07</td>\n      <td>8.53</td>\n      <td>39.63</td>\n    </tr>\n    <tr>\n      <th>std</th>\n      <td>191606.24</td>\n      <td>57696.23</td>\n      <td>7634.55</td>\n      <td>699.00</td>\n      <td>4.25</td>\n      <td>6.40</td>\n      <td>176.65</td>\n      <td>17.09</td>\n    </tr>\n    <tr>\n      <th>min</th>\n      <td>0.50</td>\n      <td>0.00</td>\n      <td>0.00</td>\n      <td>0.00</td>\n      <td>1.00</td>\n      <td>0.00</td>\n      <td>0.00</td>\n      <td>1.00</td>\n    </tr>\n    <tr>\n      <th>25%</th>\n      <td>1800.00</td>\n      <td>200.00</td>\n      <td>4.50</td>\n      <td>5.00</td>\n      <td>5.00</td>\n      <td>0.00</td>\n      <td>0.00</td>\n      <td>30.00</td>\n    </tr>\n    <tr>\n      <th>50%</th>\n      <td>4000.00</td>\n      <td>1326.00</td>\n      <td>100.00</td>\n      <td>23.00</td>\n      <td>8.00</td>\n      <td>2.00</td>\n      <td>0.00</td>\n      <td>31.60</td>\n    </tr>\n    <tr>\n      <th>75%</th>\n      <td>10000.00</td>\n      <td>4205.00</td>\n      <td>111.67</td>\n      <td>60.00</td>\n      <td>10.00</td>\n      <td>6.00</td>\n      <td>3.00</td>\n      <td>47.02</td>\n    </tr>\n    <tr>\n      <th>max</th>\n      <td>21474836.47</td>\n      <td>10266845.00</td>\n      <td>1506600.00</td>\n      <td>87142.00</td>\n      <td>80.00</td>\n      <td>149.00</td>\n      <td>19311.00</td>\n      <td>91.96</td>\n    </tr>\n  </tbody>\n</table>\n</div>",
      "text/plain": "              goal      pledged  funded percentage   backers    levels  \\\ncount     44592.00     44592.00           44592.00  44592.00  44592.00   \nmean      12108.94      5104.14             165.89     71.04      8.05   \nstd      191606.24     57696.23            7634.55    699.00      4.25   \nmin           0.50         0.00               0.00      0.00      1.00   \n25%        1800.00       200.00               4.50      5.00      5.00   \n50%        4000.00      1326.00             100.00     23.00      8.00   \n75%       10000.00      4205.00             111.67     60.00     10.00   \nmax    21474836.47  10266845.00         1506600.00  87142.00     80.00   \n\n        updates  comments  duration  \ncount  44592.00  44592.00  44592.00  \nmean       4.07      8.53     39.63  \nstd        6.40    176.65     17.09  \nmin        0.00      0.00      1.00  \n25%        0.00      0.00     30.00  \n50%        2.00      0.00     31.60  \n75%        6.00      3.00     47.02  \nmax      149.00  19311.00     91.96  "
     },
     "execution_count": 187,
     "metadata": {},
     "output_type": "execute_result"
    }
   ],
   "source": [
    "#Let's describe our data set \n",
    "round(final_data.describe(),2)\n",
    "#             goal   \tpledged  \tfunded percentage\tbackers \tlevels  \tupdates \tcomments\tduration\n",
    "# count\t4.459200e+04\t4.459200e+04\t44592.000\t44592.000  \t44592.000\t44592.000\t44592.000\t44592.000\n",
    "# mean\t1.210894e+04\t5.104144e+03\t165.889 \t71.038  \t8.047\t4.069\t8.526\t39.628\n",
    "# std\t1.916062e+05\t5.769624e+04\t7634.553\t698.999  \t4.247\t6.404\t176.651\t17.087\n",
    "# min\t5.000000e-01\t0.000000e+00\t0.000   \t0.000   \t1.000\t0.000\t0.000\t1.000\n",
    "# 25%\t1.800000e+03\t2.000000e+02\t4.500   \t5.000   \t5.000\t0.000\t0.000\t30.000\n",
    "# 50%\t4.000000e+03\t1.326000e+03\t100.000 \t23.000  \t8.000\t2.000\t0.000\t31.605\n",
    "# 75%\t1.000000e+04\t4.205000e+03\t111.667 \t60.000  \t10.000\t6.000\t3.000\t47.020\n",
    "# max\t2.147484e+07\t1.026684e+07\t1506600.000\t87142.000\t80.000\t149.000\t19311.000\t91.960"
   ]
  },
  {
   "cell_type": "code",
   "execution_count": null,
   "metadata": {},
   "outputs": [],
   "source": []
  },
  {
   "cell_type": "code",
   "execution_count": 188,
   "metadata": {},
   "outputs": [],
   "source": [
    "from sklearn.linear_model import LogisticRegression\n",
    "from sklearn.model_selection import train_test_split\n",
    "from sklearn.model_selection import cross_val_predict\n",
    "\n",
    "from sklearn import metrics\n",
    "from sklearn.metrics import classification_report\n",
    "from sklearn.metrics import confusion_matrix\n",
    "from sklearn.metrics import precision_score, recall_score"
   ]
  },
  {
   "cell_type": "code",
   "execution_count": 189,
   "metadata": {},
   "outputs": [
    {
     "data": {
      "text/html": "<div>\n<style scoped>\n    .dataframe tbody tr th:only-of-type {\n        vertical-align: middle;\n    }\n\n    .dataframe tbody tr th {\n        vertical-align: top;\n    }\n\n    .dataframe thead th {\n        text-align: right;\n    }\n</style>\n<table border=\"1\" class=\"dataframe\">\n  <thead>\n    <tr style=\"text-align: right;\">\n      <th></th>\n      <th>project id</th>\n      <th>name</th>\n      <th>url</th>\n      <th>category</th>\n      <th>subcategory</th>\n      <th>location</th>\n      <th>status</th>\n      <th>goal</th>\n      <th>pledged</th>\n      <th>funded percentage</th>\n      <th>backers</th>\n      <th>levels</th>\n      <th>updates</th>\n      <th>comments</th>\n      <th>duration</th>\n      <th>Day of Week</th>\n      <th>Funded Date</th>\n      <th>Funded Time</th>\n      <th>reward_levels</th>\n    </tr>\n  </thead>\n  <tbody>\n    <tr>\n      <th>0</th>\n      <td>39409</td>\n      <td>WHILE THE TREES SLEEP</td>\n      <td>http://www.kickstarter.com/projects/emiliesaba...</td>\n      <td>Film &amp; Video</td>\n      <td>Short Film</td>\n      <td>Columbia, MO</td>\n      <td>successful</td>\n      <td>10500.0</td>\n      <td>11545.0</td>\n      <td>109.952381</td>\n      <td>66</td>\n      <td>7</td>\n      <td>10</td>\n      <td>2</td>\n      <td>30.00</td>\n      <td>Fri</td>\n      <td>2011-08-19</td>\n      <td>19:28:17</td>\n      <td>$25,$50,$100,$250,$500,$1,000,$2,500</td>\n    </tr>\n    <tr>\n      <th>1</th>\n      <td>126581</td>\n      <td>Educational Online Trading Card Game</td>\n      <td>http://www.kickstarter.com/projects/972789543/...</td>\n      <td>Games</td>\n      <td>Board &amp; Card Games</td>\n      <td>Maplewood, NJ</td>\n      <td>failed</td>\n      <td>4000.0</td>\n      <td>20.0</td>\n      <td>0.500000</td>\n      <td>2</td>\n      <td>5</td>\n      <td>6</td>\n      <td>0</td>\n      <td>47.18</td>\n      <td>Mon</td>\n      <td>2010-08-02</td>\n      <td>03:59:00</td>\n      <td>$1,$5,$10,$25,$50</td>\n    </tr>\n    <tr>\n      <th>2</th>\n      <td>138119</td>\n      <td>STRUM</td>\n      <td>http://www.kickstarter.com/projects/185476022/...</td>\n      <td>Film &amp; Video</td>\n      <td>Animation</td>\n      <td>Los Angeles, CA</td>\n      <td>live</td>\n      <td>20000.0</td>\n      <td>56.0</td>\n      <td>0.280000</td>\n      <td>3</td>\n      <td>10</td>\n      <td>1</td>\n      <td>0</td>\n      <td>28.00</td>\n      <td>Fri</td>\n      <td>2012-06-08</td>\n      <td>00:00:31</td>\n      <td>$1,$10,$25,$40,$50,$100,$250,$1,000,$1,337,$9,001</td>\n    </tr>\n    <tr>\n      <th>3</th>\n      <td>237090</td>\n      <td>GETTING OVER - One son's search to finally kno...</td>\n      <td>http://www.kickstarter.com/projects/charnick/g...</td>\n      <td>Film &amp; Video</td>\n      <td>Documentary</td>\n      <td>Los Angeles, CA</td>\n      <td>successful</td>\n      <td>6000.0</td>\n      <td>6535.0</td>\n      <td>108.916667</td>\n      <td>100</td>\n      <td>13</td>\n      <td>4</td>\n      <td>0</td>\n      <td>32.22</td>\n      <td>Sun</td>\n      <td>2012-04-08</td>\n      <td>02:14:00</td>\n      <td>$1,$10,$25,$30,$50,$75,$85,$100,$110,$250,$500...</td>\n    </tr>\n    <tr>\n      <th>4</th>\n      <td>246101</td>\n      <td>The Launch of FlyeGrlRoyalty &amp;quot;The New Nam...</td>\n      <td>http://www.kickstarter.com/projects/flyegrlroy...</td>\n      <td>Fashion</td>\n      <td>Fashion</td>\n      <td>Novi, MI</td>\n      <td>failed</td>\n      <td>3500.0</td>\n      <td>0.0</td>\n      <td>0.000000</td>\n      <td>0</td>\n      <td>6</td>\n      <td>2</td>\n      <td>0</td>\n      <td>30.00</td>\n      <td>Wed</td>\n      <td>2011-06-01</td>\n      <td>15:25:39</td>\n      <td>$10,$25,$50,$100,$150,$250</td>\n    </tr>\n    <tr>\n      <th>...</th>\n      <td>...</td>\n      <td>...</td>\n      <td>...</td>\n      <td>...</td>\n      <td>...</td>\n      <td>...</td>\n      <td>...</td>\n      <td>...</td>\n      <td>...</td>\n      <td>...</td>\n      <td>...</td>\n      <td>...</td>\n      <td>...</td>\n      <td>...</td>\n      <td>...</td>\n      <td>...</td>\n      <td>...</td>\n      <td>...</td>\n      <td>...</td>\n    </tr>\n    <tr>\n      <th>44587</th>\n      <td>2147336747</td>\n      <td>The Dance Project</td>\n      <td>http://www.kickstarter.com/projects/685772205/...</td>\n      <td>Dance</td>\n      <td>Dance</td>\n      <td>Austin, TX</td>\n      <td>successful</td>\n      <td>500.0</td>\n      <td>601.0</td>\n      <td>120.200000</td>\n      <td>13</td>\n      <td>3</td>\n      <td>2</td>\n      <td>0</td>\n      <td>37.83</td>\n      <td>Fri</td>\n      <td>2012-03-30</td>\n      <td>13:57:00</td>\n      <td>$20,$50,$100</td>\n    </tr>\n    <tr>\n      <th>44588</th>\n      <td>2147346811</td>\n      <td>new album from J-Sw!ft The Adventures of Negro...</td>\n      <td>http://www.kickstarter.com/projects/170926480/...</td>\n      <td>Music</td>\n      <td>Hip-Hop</td>\n      <td>Los Angeles, CA</td>\n      <td>failed</td>\n      <td>10000.0</td>\n      <td>75.0</td>\n      <td>0.750000</td>\n      <td>2</td>\n      <td>14</td>\n      <td>1</td>\n      <td>1</td>\n      <td>59.96</td>\n      <td>Sun</td>\n      <td>2012-04-22</td>\n      <td>02:12:10</td>\n      <td>$1,$5,$10,$25,$50,$50,$75,$100,$200,$250,$500,...</td>\n    </tr>\n    <tr>\n      <th>44589</th>\n      <td>2147367534</td>\n      <td>ELIZABETH REX</td>\n      <td>http://www.kickstarter.com/projects/elizabethr...</td>\n      <td>Music</td>\n      <td>Rock</td>\n      <td>Los Angeles, CA</td>\n      <td>successful</td>\n      <td>10000.0</td>\n      <td>10000.0</td>\n      <td>100.000000</td>\n      <td>58</td>\n      <td>4</td>\n      <td>2</td>\n      <td>0</td>\n      <td>27.32</td>\n      <td>Mon</td>\n      <td>2012-01-16</td>\n      <td>05:00:00</td>\n      <td>$10,$25,$100,$500</td>\n    </tr>\n    <tr>\n      <th>44590</th>\n      <td>2147369705</td>\n      <td>Dragon Keepers IV Book Project</td>\n      <td>http://www.kickstarter.com/projects/brucegoldw...</td>\n      <td>Publishing</td>\n      <td>Fiction</td>\n      <td>Vero Beach, FL</td>\n      <td>failed</td>\n      <td>2999.0</td>\n      <td>257.0</td>\n      <td>8.569523</td>\n      <td>11</td>\n      <td>7</td>\n      <td>17</td>\n      <td>0</td>\n      <td>30.00</td>\n      <td>Sat</td>\n      <td>2012-05-19</td>\n      <td>19:44:47</td>\n      <td>$15,$16,$19,$29,$29,$39,$75</td>\n    </tr>\n    <tr>\n      <th>44591</th>\n      <td>2147460119</td>\n      <td>Moments of Insight</td>\n      <td>http://www.kickstarter.com/projects/1743305220...</td>\n      <td>Art</td>\n      <td>Conceptual Art</td>\n      <td>Bozeman, MT</td>\n      <td>successful</td>\n      <td>18000.0</td>\n      <td>18758.0</td>\n      <td>104.211111</td>\n      <td>53</td>\n      <td>10</td>\n      <td>20</td>\n      <td>4</td>\n      <td>40.38</td>\n      <td>Thu</td>\n      <td>2011-08-04</td>\n      <td>04:30:00</td>\n      <td>$25,$25,$50,$100,$125,$250,$500,$1,250,$2,500,...</td>\n    </tr>\n  </tbody>\n</table>\n<p>44592 rows × 19 columns</p>\n</div>",
      "text/plain": "       project id                                               name  \\\n0           39409                              WHILE THE TREES SLEEP   \n1          126581               Educational Online Trading Card Game   \n2          138119                                              STRUM   \n3          237090  GETTING OVER - One son's search to finally kno...   \n4          246101  The Launch of FlyeGrlRoyalty &quot;The New Nam...   \n...           ...                                                ...   \n44587  2147336747                                  The Dance Project   \n44588  2147346811  new album from J-Sw!ft The Adventures of Negro...   \n44589  2147367534                                      ELIZABETH REX   \n44590  2147369705                     Dragon Keepers IV Book Project   \n44591  2147460119                                 Moments of Insight   \n\n                                                     url      category  \\\n0      http://www.kickstarter.com/projects/emiliesaba...  Film & Video   \n1      http://www.kickstarter.com/projects/972789543/...         Games   \n2      http://www.kickstarter.com/projects/185476022/...  Film & Video   \n3      http://www.kickstarter.com/projects/charnick/g...  Film & Video   \n4      http://www.kickstarter.com/projects/flyegrlroy...       Fashion   \n...                                                  ...           ...   \n44587  http://www.kickstarter.com/projects/685772205/...         Dance   \n44588  http://www.kickstarter.com/projects/170926480/...         Music   \n44589  http://www.kickstarter.com/projects/elizabethr...         Music   \n44590  http://www.kickstarter.com/projects/brucegoldw...    Publishing   \n44591  http://www.kickstarter.com/projects/1743305220...           Art   \n\n              subcategory         location      status     goal  pledged  \\\n0              Short Film     Columbia, MO  successful  10500.0  11545.0   \n1      Board & Card Games    Maplewood, NJ      failed   4000.0     20.0   \n2               Animation  Los Angeles, CA        live  20000.0     56.0   \n3             Documentary  Los Angeles, CA  successful   6000.0   6535.0   \n4                 Fashion         Novi, MI      failed   3500.0      0.0   \n...                   ...              ...         ...      ...      ...   \n44587               Dance       Austin, TX  successful    500.0    601.0   \n44588             Hip-Hop  Los Angeles, CA      failed  10000.0     75.0   \n44589                Rock  Los Angeles, CA  successful  10000.0  10000.0   \n44590             Fiction   Vero Beach, FL      failed   2999.0    257.0   \n44591      Conceptual Art      Bozeman, MT  successful  18000.0  18758.0   \n\n       funded percentage  backers  levels  updates  comments  duration  \\\n0             109.952381       66       7       10         2     30.00   \n1               0.500000        2       5        6         0     47.18   \n2               0.280000        3      10        1         0     28.00   \n3             108.916667      100      13        4         0     32.22   \n4               0.000000        0       6        2         0     30.00   \n...                  ...      ...     ...      ...       ...       ...   \n44587         120.200000       13       3        2         0     37.83   \n44588           0.750000        2      14        1         1     59.96   \n44589         100.000000       58       4        2         0     27.32   \n44590           8.569523       11       7       17         0     30.00   \n44591         104.211111       53      10       20         4     40.38   \n\n      Day of Week Funded Date Funded Time  \\\n0             Fri  2011-08-19    19:28:17   \n1             Mon  2010-08-02    03:59:00   \n2             Fri  2012-06-08    00:00:31   \n3             Sun  2012-04-08    02:14:00   \n4             Wed  2011-06-01    15:25:39   \n...           ...         ...         ...   \n44587         Fri  2012-03-30    13:57:00   \n44588         Sun  2012-04-22    02:12:10   \n44589         Mon  2012-01-16    05:00:00   \n44590         Sat  2012-05-19    19:44:47   \n44591         Thu  2011-08-04    04:30:00   \n\n                                           reward_levels  \n0                   $25,$50,$100,$250,$500,$1,000,$2,500  \n1                                      $1,$5,$10,$25,$50  \n2      $1,$10,$25,$40,$50,$100,$250,$1,000,$1,337,$9,001  \n3      $1,$10,$25,$30,$50,$75,$85,$100,$110,$250,$500...  \n4                             $10,$25,$50,$100,$150,$250  \n...                                                  ...  \n44587                                       $20,$50,$100  \n44588  $1,$5,$10,$25,$50,$50,$75,$100,$200,$250,$500,...  \n44589                                  $10,$25,$100,$500  \n44590                        $15,$16,$19,$29,$29,$39,$75  \n44591  $25,$25,$50,$100,$125,$250,$500,$1,250,$2,500,...  \n\n[44592 rows x 19 columns]"
     },
     "execution_count": 189,
     "metadata": {},
     "output_type": "execute_result"
    }
   ],
   "source": [
    "final_data['status'].unique()\n",
    "final_data\n",
    "#let's remove the rows that have live, cancelled, or suspended\n",
    "\n",
    "# get names of indexes for which \n",
    "\n"
   ]
  },
  {
   "cell_type": "code",
   "execution_count": 190,
   "metadata": {},
   "outputs": [
    {
     "data": {
      "text/html": "<div>\n<style scoped>\n    .dataframe tbody tr th:only-of-type {\n        vertical-align: middle;\n    }\n\n    .dataframe tbody tr th {\n        vertical-align: top;\n    }\n\n    .dataframe thead th {\n        text-align: right;\n    }\n</style>\n<table border=\"1\" class=\"dataframe\">\n  <thead>\n    <tr style=\"text-align: right;\">\n      <th></th>\n      <th>project id</th>\n      <th>name</th>\n      <th>url</th>\n      <th>category</th>\n      <th>subcategory</th>\n      <th>location</th>\n      <th>status</th>\n      <th>goal</th>\n      <th>pledged</th>\n      <th>funded percentage</th>\n      <th>backers</th>\n      <th>levels</th>\n      <th>updates</th>\n      <th>comments</th>\n      <th>duration</th>\n      <th>Day of Week</th>\n      <th>Funded Date</th>\n      <th>Funded Time</th>\n      <th>reward_levels</th>\n    </tr>\n  </thead>\n  <tbody>\n    <tr>\n      <th>0</th>\n      <td>39409</td>\n      <td>WHILE THE TREES SLEEP</td>\n      <td>http://www.kickstarter.com/projects/emiliesaba...</td>\n      <td>Film &amp; Video</td>\n      <td>Short Film</td>\n      <td>Columbia, MO</td>\n      <td>successful</td>\n      <td>10500.0</td>\n      <td>11545.0</td>\n      <td>109.952381</td>\n      <td>66</td>\n      <td>7</td>\n      <td>10</td>\n      <td>2</td>\n      <td>30.00</td>\n      <td>Fri</td>\n      <td>2011-08-19</td>\n      <td>19:28:17</td>\n      <td>$25,$50,$100,$250,$500,$1,000,$2,500</td>\n    </tr>\n    <tr>\n      <th>1</th>\n      <td>126581</td>\n      <td>Educational Online Trading Card Game</td>\n      <td>http://www.kickstarter.com/projects/972789543/...</td>\n      <td>Games</td>\n      <td>Board &amp; Card Games</td>\n      <td>Maplewood, NJ</td>\n      <td>failed</td>\n      <td>4000.0</td>\n      <td>20.0</td>\n      <td>0.500000</td>\n      <td>2</td>\n      <td>5</td>\n      <td>6</td>\n      <td>0</td>\n      <td>47.18</td>\n      <td>Mon</td>\n      <td>2010-08-02</td>\n      <td>03:59:00</td>\n      <td>$1,$5,$10,$25,$50</td>\n    </tr>\n    <tr>\n      <th>2</th>\n      <td>237090</td>\n      <td>GETTING OVER - One son's search to finally kno...</td>\n      <td>http://www.kickstarter.com/projects/charnick/g...</td>\n      <td>Film &amp; Video</td>\n      <td>Documentary</td>\n      <td>Los Angeles, CA</td>\n      <td>successful</td>\n      <td>6000.0</td>\n      <td>6535.0</td>\n      <td>108.916667</td>\n      <td>100</td>\n      <td>13</td>\n      <td>4</td>\n      <td>0</td>\n      <td>32.22</td>\n      <td>Sun</td>\n      <td>2012-04-08</td>\n      <td>02:14:00</td>\n      <td>$1,$10,$25,$30,$50,$75,$85,$100,$110,$250,$500...</td>\n    </tr>\n    <tr>\n      <th>3</th>\n      <td>246101</td>\n      <td>The Launch of FlyeGrlRoyalty &amp;quot;The New Nam...</td>\n      <td>http://www.kickstarter.com/projects/flyegrlroy...</td>\n      <td>Fashion</td>\n      <td>Fashion</td>\n      <td>Novi, MI</td>\n      <td>failed</td>\n      <td>3500.0</td>\n      <td>0.0</td>\n      <td>0.000000</td>\n      <td>0</td>\n      <td>6</td>\n      <td>2</td>\n      <td>0</td>\n      <td>30.00</td>\n      <td>Wed</td>\n      <td>2011-06-01</td>\n      <td>15:25:39</td>\n      <td>$10,$25,$50,$100,$150,$250</td>\n    </tr>\n    <tr>\n      <th>4</th>\n      <td>316217</td>\n      <td>Dinner Party - a short film about friendship.....</td>\n      <td>http://www.kickstarter.com/projects/249354515/...</td>\n      <td>Film &amp; Video</td>\n      <td>Short Film</td>\n      <td>Portland, OR</td>\n      <td>successful</td>\n      <td>3500.0</td>\n      <td>3582.0</td>\n      <td>102.333143</td>\n      <td>39</td>\n      <td>7</td>\n      <td>8</td>\n      <td>0</td>\n      <td>21.43</td>\n      <td>Wed</td>\n      <td>2011-06-22</td>\n      <td>13:33:00</td>\n      <td>$5,$25,$50,$100,$250,$500,$1,000</td>\n    </tr>\n    <tr>\n      <th>...</th>\n      <td>...</td>\n      <td>...</td>\n      <td>...</td>\n      <td>...</td>\n      <td>...</td>\n      <td>...</td>\n      <td>...</td>\n      <td>...</td>\n      <td>...</td>\n      <td>...</td>\n      <td>...</td>\n      <td>...</td>\n      <td>...</td>\n      <td>...</td>\n      <td>...</td>\n      <td>...</td>\n      <td>...</td>\n      <td>...</td>\n      <td>...</td>\n    </tr>\n    <tr>\n      <th>40595</th>\n      <td>2147336747</td>\n      <td>The Dance Project</td>\n      <td>http://www.kickstarter.com/projects/685772205/...</td>\n      <td>Dance</td>\n      <td>Dance</td>\n      <td>Austin, TX</td>\n      <td>successful</td>\n      <td>500.0</td>\n      <td>601.0</td>\n      <td>120.200000</td>\n      <td>13</td>\n      <td>3</td>\n      <td>2</td>\n      <td>0</td>\n      <td>37.83</td>\n      <td>Fri</td>\n      <td>2012-03-30</td>\n      <td>13:57:00</td>\n      <td>$20,$50,$100</td>\n    </tr>\n    <tr>\n      <th>40596</th>\n      <td>2147346811</td>\n      <td>new album from J-Sw!ft The Adventures of Negro...</td>\n      <td>http://www.kickstarter.com/projects/170926480/...</td>\n      <td>Music</td>\n      <td>Hip-Hop</td>\n      <td>Los Angeles, CA</td>\n      <td>failed</td>\n      <td>10000.0</td>\n      <td>75.0</td>\n      <td>0.750000</td>\n      <td>2</td>\n      <td>14</td>\n      <td>1</td>\n      <td>1</td>\n      <td>59.96</td>\n      <td>Sun</td>\n      <td>2012-04-22</td>\n      <td>02:12:10</td>\n      <td>$1,$5,$10,$25,$50,$50,$75,$100,$200,$250,$500,...</td>\n    </tr>\n    <tr>\n      <th>40597</th>\n      <td>2147367534</td>\n      <td>ELIZABETH REX</td>\n      <td>http://www.kickstarter.com/projects/elizabethr...</td>\n      <td>Music</td>\n      <td>Rock</td>\n      <td>Los Angeles, CA</td>\n      <td>successful</td>\n      <td>10000.0</td>\n      <td>10000.0</td>\n      <td>100.000000</td>\n      <td>58</td>\n      <td>4</td>\n      <td>2</td>\n      <td>0</td>\n      <td>27.32</td>\n      <td>Mon</td>\n      <td>2012-01-16</td>\n      <td>05:00:00</td>\n      <td>$10,$25,$100,$500</td>\n    </tr>\n    <tr>\n      <th>40598</th>\n      <td>2147369705</td>\n      <td>Dragon Keepers IV Book Project</td>\n      <td>http://www.kickstarter.com/projects/brucegoldw...</td>\n      <td>Publishing</td>\n      <td>Fiction</td>\n      <td>Vero Beach, FL</td>\n      <td>failed</td>\n      <td>2999.0</td>\n      <td>257.0</td>\n      <td>8.569523</td>\n      <td>11</td>\n      <td>7</td>\n      <td>17</td>\n      <td>0</td>\n      <td>30.00</td>\n      <td>Sat</td>\n      <td>2012-05-19</td>\n      <td>19:44:47</td>\n      <td>$15,$16,$19,$29,$29,$39,$75</td>\n    </tr>\n    <tr>\n      <th>40599</th>\n      <td>2147460119</td>\n      <td>Moments of Insight</td>\n      <td>http://www.kickstarter.com/projects/1743305220...</td>\n      <td>Art</td>\n      <td>Conceptual Art</td>\n      <td>Bozeman, MT</td>\n      <td>successful</td>\n      <td>18000.0</td>\n      <td>18758.0</td>\n      <td>104.211111</td>\n      <td>53</td>\n      <td>10</td>\n      <td>20</td>\n      <td>4</td>\n      <td>40.38</td>\n      <td>Thu</td>\n      <td>2011-08-04</td>\n      <td>04:30:00</td>\n      <td>$25,$25,$50,$100,$125,$250,$500,$1,250,$2,500,...</td>\n    </tr>\n  </tbody>\n</table>\n<p>40600 rows × 19 columns</p>\n</div>",
      "text/plain": "       project id                                               name  \\\n0           39409                              WHILE THE TREES SLEEP   \n1          126581               Educational Online Trading Card Game   \n2          237090  GETTING OVER - One son's search to finally kno...   \n3          246101  The Launch of FlyeGrlRoyalty &quot;The New Nam...   \n4          316217  Dinner Party - a short film about friendship.....   \n...           ...                                                ...   \n40595  2147336747                                  The Dance Project   \n40596  2147346811  new album from J-Sw!ft The Adventures of Negro...   \n40597  2147367534                                      ELIZABETH REX   \n40598  2147369705                     Dragon Keepers IV Book Project   \n40599  2147460119                                 Moments of Insight   \n\n                                                     url      category  \\\n0      http://www.kickstarter.com/projects/emiliesaba...  Film & Video   \n1      http://www.kickstarter.com/projects/972789543/...         Games   \n2      http://www.kickstarter.com/projects/charnick/g...  Film & Video   \n3      http://www.kickstarter.com/projects/flyegrlroy...       Fashion   \n4      http://www.kickstarter.com/projects/249354515/...  Film & Video   \n...                                                  ...           ...   \n40595  http://www.kickstarter.com/projects/685772205/...         Dance   \n40596  http://www.kickstarter.com/projects/170926480/...         Music   \n40597  http://www.kickstarter.com/projects/elizabethr...         Music   \n40598  http://www.kickstarter.com/projects/brucegoldw...    Publishing   \n40599  http://www.kickstarter.com/projects/1743305220...           Art   \n\n              subcategory         location      status     goal  pledged  \\\n0              Short Film     Columbia, MO  successful  10500.0  11545.0   \n1      Board & Card Games    Maplewood, NJ      failed   4000.0     20.0   \n2             Documentary  Los Angeles, CA  successful   6000.0   6535.0   \n3                 Fashion         Novi, MI      failed   3500.0      0.0   \n4              Short Film     Portland, OR  successful   3500.0   3582.0   \n...                   ...              ...         ...      ...      ...   \n40595               Dance       Austin, TX  successful    500.0    601.0   \n40596             Hip-Hop  Los Angeles, CA      failed  10000.0     75.0   \n40597                Rock  Los Angeles, CA  successful  10000.0  10000.0   \n40598             Fiction   Vero Beach, FL      failed   2999.0    257.0   \n40599      Conceptual Art      Bozeman, MT  successful  18000.0  18758.0   \n\n       funded percentage  backers  levels  updates  comments  duration  \\\n0             109.952381       66       7       10         2     30.00   \n1               0.500000        2       5        6         0     47.18   \n2             108.916667      100      13        4         0     32.22   \n3               0.000000        0       6        2         0     30.00   \n4             102.333143       39       7        8         0     21.43   \n...                  ...      ...     ...      ...       ...       ...   \n40595         120.200000       13       3        2         0     37.83   \n40596           0.750000        2      14        1         1     59.96   \n40597         100.000000       58       4        2         0     27.32   \n40598           8.569523       11       7       17         0     30.00   \n40599         104.211111       53      10       20         4     40.38   \n\n      Day of Week Funded Date Funded Time  \\\n0             Fri  2011-08-19    19:28:17   \n1             Mon  2010-08-02    03:59:00   \n2             Sun  2012-04-08    02:14:00   \n3             Wed  2011-06-01    15:25:39   \n4             Wed  2011-06-22    13:33:00   \n...           ...         ...         ...   \n40595         Fri  2012-03-30    13:57:00   \n40596         Sun  2012-04-22    02:12:10   \n40597         Mon  2012-01-16    05:00:00   \n40598         Sat  2012-05-19    19:44:47   \n40599         Thu  2011-08-04    04:30:00   \n\n                                           reward_levels  \n0                   $25,$50,$100,$250,$500,$1,000,$2,500  \n1                                      $1,$5,$10,$25,$50  \n2      $1,$10,$25,$30,$50,$75,$85,$100,$110,$250,$500...  \n3                             $10,$25,$50,$100,$150,$250  \n4                       $5,$25,$50,$100,$250,$500,$1,000  \n...                                                  ...  \n40595                                       $20,$50,$100  \n40596  $1,$5,$10,$25,$50,$50,$75,$100,$200,$250,$500,...  \n40597                                  $10,$25,$100,$500  \n40598                        $15,$16,$19,$29,$29,$39,$75  \n40599  $25,$25,$50,$100,$125,$250,$500,$1,250,$2,500,...  \n\n[40600 rows x 19 columns]"
     },
     "execution_count": 190,
     "metadata": {},
     "output_type": "execute_result"
    }
   ],
   "source": [
    "index_names = final_data[(final_data['status'] == \"live\") | (final_data['status'] == 'canceled') | (final_data['status'] == 'suspended')].index \n",
    "  \n",
    "# drop these given row \n",
    "# indexes from dataFrame \n",
    "final_data.drop(index_names, inplace = True) \n",
    "final_data.reset_index(inplace=True, drop=True)\n",
    "\n",
    "final_data\n",
    "# final_data['status'].unique()\n",
    "#Remove the rows that are not failed or successfull"
   ]
  },
  {
   "cell_type": "code",
   "execution_count": 191,
   "metadata": {},
   "outputs": [
    {
     "data": {
      "text/plain": "<AxesSubplot:xlabel='status', ylabel='count'>"
     },
     "execution_count": 191,
     "metadata": {},
     "output_type": "execute_result"
    },
    {
     "data": {
      "image/png": "[encoded data removed]",
      "text/plain": "<Figure size 432x288 with 1 Axes>"
     },
     "metadata": {
      "needs_background": "light"
     },
     "output_type": "display_data"
    }
   ],
   "source": [
    "#make sure the value we are trying to calculate is binary\n",
    "sns.countplot(x = 'status', data = final_data)\n",
    "#check, each item is either successful or failed\n"
   ]
  },
  {
   "cell_type": "code",
   "execution_count": null,
   "metadata": {},
   "outputs": [],
   "source": []
  },
  {
   "cell_type": "code",
   "execution_count": 192,
   "metadata": {},
   "outputs": [
    {
     "data": {
      "text/html": "<div>\n<style scoped>\n    .dataframe tbody tr th:only-of-type {\n        vertical-align: middle;\n    }\n\n    .dataframe tbody tr th {\n        vertical-align: top;\n    }\n\n    .dataframe thead th {\n        text-align: right;\n    }\n</style>\n<table border=\"1\" class=\"dataframe\">\n  <thead>\n    <tr style=\"text-align: right;\">\n      <th></th>\n      <th>category</th>\n      <th>subcategory</th>\n      <th>status</th>\n      <th>goal</th>\n      <th>pledged</th>\n      <th>funded percentage</th>\n      <th>backers</th>\n      <th>levels</th>\n      <th>updates</th>\n      <th>comments</th>\n      <th>duration</th>\n    </tr>\n  </thead>\n  <tbody>\n    <tr>\n      <th>0</th>\n      <td>Film &amp; Video</td>\n      <td>Short Film</td>\n      <td>successful</td>\n      <td>10500.0</td>\n      <td>11545.0</td>\n      <td>109.952381</td>\n      <td>66</td>\n      <td>7</td>\n      <td>10</td>\n      <td>2</td>\n      <td>30.00</td>\n    </tr>\n    <tr>\n      <th>1</th>\n      <td>Games</td>\n      <td>Board &amp; Card Games</td>\n      <td>failed</td>\n      <td>4000.0</td>\n      <td>20.0</td>\n      <td>0.500000</td>\n      <td>2</td>\n      <td>5</td>\n      <td>6</td>\n      <td>0</td>\n      <td>47.18</td>\n    </tr>\n    <tr>\n      <th>2</th>\n      <td>Film &amp; Video</td>\n      <td>Documentary</td>\n      <td>successful</td>\n      <td>6000.0</td>\n      <td>6535.0</td>\n      <td>108.916667</td>\n      <td>100</td>\n      <td>13</td>\n      <td>4</td>\n      <td>0</td>\n      <td>32.22</td>\n    </tr>\n    <tr>\n      <th>3</th>\n      <td>Fashion</td>\n      <td>Fashion</td>\n      <td>failed</td>\n      <td>3500.0</td>\n      <td>0.0</td>\n      <td>0.000000</td>\n      <td>0</td>\n      <td>6</td>\n      <td>2</td>\n      <td>0</td>\n      <td>30.00</td>\n    </tr>\n    <tr>\n      <th>4</th>\n      <td>Film &amp; Video</td>\n      <td>Short Film</td>\n      <td>successful</td>\n      <td>3500.0</td>\n      <td>3582.0</td>\n      <td>102.333143</td>\n      <td>39</td>\n      <td>7</td>\n      <td>8</td>\n      <td>0</td>\n      <td>21.43</td>\n    </tr>\n    <tr>\n      <th>...</th>\n      <td>...</td>\n      <td>...</td>\n      <td>...</td>\n      <td>...</td>\n      <td>...</td>\n      <td>...</td>\n      <td>...</td>\n      <td>...</td>\n      <td>...</td>\n      <td>...</td>\n      <td>...</td>\n    </tr>\n    <tr>\n      <th>40595</th>\n      <td>Dance</td>\n      <td>Dance</td>\n      <td>successful</td>\n      <td>500.0</td>\n      <td>601.0</td>\n      <td>120.200000</td>\n      <td>13</td>\n      <td>3</td>\n      <td>2</td>\n      <td>0</td>\n      <td>37.83</td>\n    </tr>\n    <tr>\n      <th>40596</th>\n      <td>Music</td>\n      <td>Hip-Hop</td>\n      <td>failed</td>\n      <td>10000.0</td>\n      <td>75.0</td>\n      <td>0.750000</td>\n      <td>2</td>\n      <td>14</td>\n      <td>1</td>\n      <td>1</td>\n      <td>59.96</td>\n    </tr>\n    <tr>\n      <th>40597</th>\n      <td>Music</td>\n      <td>Rock</td>\n      <td>successful</td>\n      <td>10000.0</td>\n      <td>10000.0</td>\n      <td>100.000000</td>\n      <td>58</td>\n      <td>4</td>\n      <td>2</td>\n      <td>0</td>\n      <td>27.32</td>\n    </tr>\n    <tr>\n      <th>40598</th>\n      <td>Publishing</td>\n      <td>Fiction</td>\n      <td>failed</td>\n      <td>2999.0</td>\n      <td>257.0</td>\n      <td>8.569523</td>\n      <td>11</td>\n      <td>7</td>\n      <td>17</td>\n      <td>0</td>\n      <td>30.00</td>\n    </tr>\n    <tr>\n      <th>40599</th>\n      <td>Art</td>\n      <td>Conceptual Art</td>\n      <td>successful</td>\n      <td>18000.0</td>\n      <td>18758.0</td>\n      <td>104.211111</td>\n      <td>53</td>\n      <td>10</td>\n      <td>20</td>\n      <td>4</td>\n      <td>40.38</td>\n    </tr>\n  </tbody>\n</table>\n<p>40600 rows × 11 columns</p>\n</div>",
      "text/plain": "           category         subcategory      status     goal  pledged  \\\n0      Film & Video          Short Film  successful  10500.0  11545.0   \n1             Games  Board & Card Games      failed   4000.0     20.0   \n2      Film & Video         Documentary  successful   6000.0   6535.0   \n3           Fashion             Fashion      failed   3500.0      0.0   \n4      Film & Video          Short Film  successful   3500.0   3582.0   \n...             ...                 ...         ...      ...      ...   \n40595         Dance               Dance  successful    500.0    601.0   \n40596         Music             Hip-Hop      failed  10000.0     75.0   \n40597         Music                Rock  successful  10000.0  10000.0   \n40598    Publishing             Fiction      failed   2999.0    257.0   \n40599           Art      Conceptual Art  successful  18000.0  18758.0   \n\n       funded percentage  backers  levels  updates  comments  duration  \n0             109.952381       66       7       10         2     30.00  \n1               0.500000        2       5        6         0     47.18  \n2             108.916667      100      13        4         0     32.22  \n3               0.000000        0       6        2         0     30.00  \n4             102.333143       39       7        8         0     21.43  \n...                  ...      ...     ...      ...       ...       ...  \n40595         120.200000       13       3        2         0     37.83  \n40596           0.750000        2      14        1         1     59.96  \n40597         100.000000       58       4        2         0     27.32  \n40598           8.569523       11       7       17         0     30.00  \n40599         104.211111       53      10       20         4     40.38  \n\n[40600 rows x 11 columns]"
     },
     "execution_count": 192,
     "metadata": {},
     "output_type": "execute_result"
    }
   ],
   "source": [
    "#let's drop the reward levels column and the location column to make things easier for us.\n",
    "#we are removing project name because I currently have no way to quanitify how good or bad a project name when read by the audience, therefore, making it impossible for me to currently estimate it's impact.\n",
    "logreg_data = final_data.drop(columns=['location','reward_levels','url','project id','name','Day of Week','Funded Date','Funded Time'])\n",
    "logreg_data"
   ]
  },
  {
   "cell_type": "code",
   "execution_count": 193,
   "metadata": {},
   "outputs": [
    {
     "data": {
      "text/html": "<div>\n<style scoped>\n    .dataframe tbody tr th:only-of-type {\n        vertical-align: middle;\n    }\n\n    .dataframe tbody tr th {\n        vertical-align: top;\n    }\n\n    .dataframe thead th {\n        text-align: right;\n    }\n</style>\n<table border=\"1\" class=\"dataframe\">\n  <thead>\n    <tr style=\"text-align: right;\">\n      <th></th>\n      <th>category</th>\n      <th>subcategory</th>\n      <th>status</th>\n      <th>goal</th>\n      <th>backers</th>\n      <th>levels</th>\n      <th>updates</th>\n      <th>comments</th>\n      <th>duration</th>\n    </tr>\n  </thead>\n  <tbody>\n    <tr>\n      <th>0</th>\n      <td>Film &amp; Video</td>\n      <td>Short Film</td>\n      <td>successful</td>\n      <td>10500.0</td>\n      <td>66</td>\n      <td>7</td>\n      <td>10</td>\n      <td>2</td>\n      <td>30.00</td>\n    </tr>\n    <tr>\n      <th>1</th>\n      <td>Games</td>\n      <td>Board &amp; Card Games</td>\n      <td>failed</td>\n      <td>4000.0</td>\n      <td>2</td>\n      <td>5</td>\n      <td>6</td>\n      <td>0</td>\n      <td>47.18</td>\n    </tr>\n    <tr>\n      <th>2</th>\n      <td>Film &amp; Video</td>\n      <td>Documentary</td>\n      <td>successful</td>\n      <td>6000.0</td>\n      <td>100</td>\n      <td>13</td>\n      <td>4</td>\n      <td>0</td>\n      <td>32.22</td>\n    </tr>\n    <tr>\n      <th>3</th>\n      <td>Fashion</td>\n      <td>Fashion</td>\n      <td>failed</td>\n      <td>3500.0</td>\n      <td>0</td>\n      <td>6</td>\n      <td>2</td>\n      <td>0</td>\n      <td>30.00</td>\n    </tr>\n    <tr>\n      <th>4</th>\n      <td>Film &amp; Video</td>\n      <td>Short Film</td>\n      <td>successful</td>\n      <td>3500.0</td>\n      <td>39</td>\n      <td>7</td>\n      <td>8</td>\n      <td>0</td>\n      <td>21.43</td>\n    </tr>\n    <tr>\n      <th>...</th>\n      <td>...</td>\n      <td>...</td>\n      <td>...</td>\n      <td>...</td>\n      <td>...</td>\n      <td>...</td>\n      <td>...</td>\n      <td>...</td>\n      <td>...</td>\n    </tr>\n    <tr>\n      <th>40595</th>\n      <td>Dance</td>\n      <td>Dance</td>\n      <td>successful</td>\n      <td>500.0</td>\n      <td>13</td>\n      <td>3</td>\n      <td>2</td>\n      <td>0</td>\n      <td>37.83</td>\n    </tr>\n    <tr>\n      <th>40596</th>\n      <td>Music</td>\n      <td>Hip-Hop</td>\n      <td>failed</td>\n      <td>10000.0</td>\n      <td>2</td>\n      <td>14</td>\n      <td>1</td>\n      <td>1</td>\n      <td>59.96</td>\n    </tr>\n    <tr>\n      <th>40597</th>\n      <td>Music</td>\n      <td>Rock</td>\n      <td>successful</td>\n      <td>10000.0</td>\n      <td>58</td>\n      <td>4</td>\n      <td>2</td>\n      <td>0</td>\n      <td>27.32</td>\n    </tr>\n    <tr>\n      <th>40598</th>\n      <td>Publishing</td>\n      <td>Fiction</td>\n      <td>failed</td>\n      <td>2999.0</td>\n      <td>11</td>\n      <td>7</td>\n      <td>17</td>\n      <td>0</td>\n      <td>30.00</td>\n    </tr>\n    <tr>\n      <th>40599</th>\n      <td>Art</td>\n      <td>Conceptual Art</td>\n      <td>successful</td>\n      <td>18000.0</td>\n      <td>53</td>\n      <td>10</td>\n      <td>20</td>\n      <td>4</td>\n      <td>40.38</td>\n    </tr>\n  </tbody>\n</table>\n<p>40600 rows × 9 columns</p>\n</div>",
      "text/plain": "           category         subcategory      status     goal  backers  levels  \\\n0      Film & Video          Short Film  successful  10500.0       66       7   \n1             Games  Board & Card Games      failed   4000.0        2       5   \n2      Film & Video         Documentary  successful   6000.0      100      13   \n3           Fashion             Fashion      failed   3500.0        0       6   \n4      Film & Video          Short Film  successful   3500.0       39       7   \n...             ...                 ...         ...      ...      ...     ...   \n40595         Dance               Dance  successful    500.0       13       3   \n40596         Music             Hip-Hop      failed  10000.0        2      14   \n40597         Music                Rock  successful  10000.0       58       4   \n40598    Publishing             Fiction      failed   2999.0       11       7   \n40599           Art      Conceptual Art  successful  18000.0       53      10   \n\n       updates  comments  duration  \n0           10         2     30.00  \n1            6         0     47.18  \n2            4         0     32.22  \n3            2         0     30.00  \n4            8         0     21.43  \n...        ...       ...       ...  \n40595        2         0     37.83  \n40596        1         1     59.96  \n40597        2         0     27.32  \n40598       17         0     30.00  \n40599       20         4     40.38  \n\n[40600 rows x 9 columns]"
     },
     "execution_count": 193,
     "metadata": {},
     "output_type": "execute_result"
    }
   ],
   "source": [
    "#I am also removing funding percentage and pledged ammounts because they highly correlate with whether or not something was successful\n",
    "logreg_data = logreg_data.drop(columns=['funded percentage', 'pledged'])\n",
    "logreg_data"
   ]
  },
  {
   "cell_type": "code",
   "execution_count": 194,
   "metadata": {},
   "outputs": [
    {
     "data": {
      "text/plain": "array([1, 0, 1, 0, 1])"
     },
     "execution_count": 194,
     "metadata": {},
     "output_type": "execute_result"
    }
   ],
   "source": [
    "#time to encode variables, let's start by encoding the status varaible\n",
    "from sklearn.preprocessing import LabelEncoder\n",
    "label_encoder = LabelEncoder()\n",
    "status_cat = logreg_data['status']\n",
    "status_encoded = label_encoder.fit_transform(status_cat)\n",
    "status_encoded[0:5]"
   ]
  },
  {
   "cell_type": "code",
   "execution_count": 195,
   "metadata": {},
   "outputs": [
    {
     "data": {
      "text/html": "<div>\n<style scoped>\n    .dataframe tbody tr th:only-of-type {\n        vertical-align: middle;\n    }\n\n    .dataframe tbody tr th {\n        vertical-align: top;\n    }\n\n    .dataframe thead th {\n        text-align: right;\n    }\n</style>\n<table border=\"1\" class=\"dataframe\">\n  <thead>\n    <tr style=\"text-align: right;\">\n      <th></th>\n      <th>status_successful</th>\n    </tr>\n  </thead>\n  <tbody>\n    <tr>\n      <th>0</th>\n      <td>1</td>\n    </tr>\n    <tr>\n      <th>1</th>\n      <td>0</td>\n    </tr>\n    <tr>\n      <th>2</th>\n      <td>1</td>\n    </tr>\n    <tr>\n      <th>3</th>\n      <td>0</td>\n    </tr>\n    <tr>\n      <th>4</th>\n      <td>1</td>\n    </tr>\n  </tbody>\n</table>\n</div>",
      "text/plain": "   status_successful\n0                  1\n1                  0\n2                  1\n3                  0\n4                  1"
     },
     "execution_count": 195,
     "metadata": {},
     "output_type": "execute_result"
    }
   ],
   "source": [
    "# 1 = successful / 0 = failed\n",
    "status_DF = pd.DataFrame(status_encoded, columns=['status_successful'])\n",
    "status_DF.head()"
   ]
  },
  {
   "cell_type": "code",
   "execution_count": 196,
   "metadata": {},
   "outputs": [
    {
     "data": {
      "text/plain": "array([ 5,  7,  5,  4,  5,  5,  4,  8,  0,  8,  2,  5, 10,  5, 10, 12,  8,\n        7,  7,  5, 10, 12,  5,  5,  5, 10,  8,  8,  1,  8,  2,  8,  8, 10,\n        5, 12, 11,  0,  5,  5,  5,  5,  7,  3,  0,  5,  9,  0,  8,  8,  3,\n        8, 12,  5,  1,  9,  8,  8,  4,  7,  4,  7,  6,  3,  7,  5,  4,  4,\n        6,  0,  5,  8,  9,  7,  5,  5,  5,  5, 12,  0,  8, 11,  5,  3, 10,\n        9,  5, 11,  8,  8,  2,  4,  7,  6,  7,  5,  5,  7, 10,  8])"
     },
     "execution_count": 196,
     "metadata": {},
     "output_type": "execute_result"
    }
   ],
   "source": [
    "category_cat = logreg_data['category']\n",
    "category_encoded = label_encoder.fit_transform(category_cat)\n",
    "category_encoded[0:100]\n",
    "\n"
   ]
  },
  {
   "cell_type": "code",
   "execution_count": 197,
   "metadata": {},
   "outputs": [
    {
     "name": "stdout",
     "output_type": "stream",
     "text": [
      "['Film & Video' 'Games' 'Fashion' 'Music' 'Art' 'Dance' 'Publishing'\n",
      " 'Theater' 'Comics' 'Technology' 'Design' 'Photography' 'Food']\n"
     ]
    }
   ],
   "source": [
    "print(logreg_data.category.unique())\n",
    "#13 unique categories\n",
    "\n",
    "# print(len(logreg_data.subcategory.unique()))\n",
    "#49 subcategories\n",
    "\n",
    "\n",
    "# print(logreg_data.subcategory.unique())\n",
    "\n",
    "# ['Short Film' 'Board & Card Games' 'Documentary' 'Fashion' 'Music'\n",
    "#  'Illustration' 'Indie Rock' 'Dance' 'Nonfiction' 'Film & Video' 'Fiction'\n",
    "#  'Theater' 'Games' 'Art Book' 'Animation' 'Country & Folk' 'Comics'\n",
    "#  'Webseries' 'Technology' 'Performance Art' 'Narrative Film' 'Video Games'\n",
    "#  'Product Design' 'Painting' 'Photography' 'Conceptual Art' 'Rock' 'Jazz'\n",
    "#  'Classical Music' 'Food' 'Art' 'Pop' 'Journalism' 'Poetry' 'World Music'\n",
    "#  'Sculpture' 'Publishing' 'Electronic Music' 'Open Software'\n",
    "#  \"Children's Book\" 'Open Hardware' 'Graphic Design' 'Hip-Hop' 'Public Art'\n",
    "#  'Mixed Media' 'Periodical' 'Crafts' 'Design' 'Digital Art']"
   ]
  },
  {
   "cell_type": "code",
   "execution_count": null,
   "metadata": {},
   "outputs": [],
   "source": []
  },
  {
   "cell_type": "code",
   "execution_count": null,
   "metadata": {},
   "outputs": [],
   "source": []
  },
  {
   "cell_type": "code",
   "execution_count": null,
   "metadata": {},
   "outputs": [],
   "source": []
  },
  {
   "cell_type": "code",
   "execution_count": null,
   "metadata": {},
   "outputs": [],
   "source": [
    "# colt = ColumnTransformer(transformers=[('encoder', OneHotEncoder(),[14])],remainder =\"passthrough\")\n",
    "# logreg_data = pd.DataFrame(colt.fit_transform(logreg_data))\n",
    "# logreg_data.head()\n",
    "target_variable = logreg_data['status']\n",
    "print(target_variable)"
   ]
  },
  {
   "cell_type": "code",
   "execution_count": null,
   "metadata": {},
   "outputs": [],
   "source": [
    "logreg_data.info()"
   ]
  },
  {
   "cell_type": "code",
   "execution_count": 200,
   "metadata": {},
   "outputs": [],
   "source": [
    "dummy_data = pd.get_dummies(logreg_data,columns=['category','subcategory','status'],drop_first = True)"
   ]
  },
  {
   "cell_type": "code",
   "execution_count": null,
   "metadata": {},
   "outputs": [],
   "source": [
    "# pd.set_option(\"max_columns\", 70) #Showing only two columns\n",
    "dummy_data"
   ]
  },
  {
   "cell_type": "code",
   "execution_count": 202,
   "metadata": {},
   "outputs": [
    {
     "data": {
      "text/plain": "<AxesSubplot:>"
     },
     "execution_count": 202,
     "metadata": {},
     "output_type": "execute_result"
    },
    {
     "data": {
      "image/png": "[encoded data removed]",
      "text/plain": "<Figure size 432x288 with 2 Axes>"
     },
     "metadata": {
      "needs_background": "light"
     },
     "output_type": "display_data"
    }
   ],
   "source": [
    "sns.heatmap(dummy_data.corr())\n",
    "#Should I look into mutual information score or PCA?\n"
   ]
  },
  {
   "cell_type": "code",
   "execution_count": 203,
   "metadata": {},
   "outputs": [
    {
     "data": {
      "text/html": "<div>\n<style scoped>\n    .dataframe tbody tr th:only-of-type {\n        vertical-align: middle;\n    }\n\n    .dataframe tbody tr th {\n        vertical-align: top;\n    }\n\n    .dataframe thead th {\n        text-align: right;\n    }\n</style>\n<table border=\"1\" class=\"dataframe\">\n  <thead>\n    <tr style=\"text-align: right;\">\n      <th></th>\n      <th>goal</th>\n      <th>backers</th>\n      <th>levels</th>\n      <th>updates</th>\n      <th>comments</th>\n      <th>duration</th>\n      <th>category_Comics</th>\n      <th>category_Dance</th>\n      <th>category_Design</th>\n      <th>category_Fashion</th>\n      <th>...</th>\n      <th>subcategory_Publishing</th>\n      <th>subcategory_Rock</th>\n      <th>subcategory_Sculpture</th>\n      <th>subcategory_Short Film</th>\n      <th>subcategory_Technology</th>\n      <th>subcategory_Theater</th>\n      <th>subcategory_Video Games</th>\n      <th>subcategory_Webseries</th>\n      <th>subcategory_World Music</th>\n      <th>status_successful</th>\n    </tr>\n  </thead>\n  <tbody>\n    <tr>\n      <th>goal</th>\n      <td>1.000000</td>\n      <td>0.035443</td>\n      <td>0.016345</td>\n      <td>-0.000637</td>\n      <td>0.033333</td>\n      <td>0.034539</td>\n      <td>-0.005176</td>\n      <td>-0.004807</td>\n      <td>0.004823</td>\n      <td>-0.003348</td>\n      <td>...</td>\n      <td>-0.002386</td>\n      <td>-0.008427</td>\n      <td>-0.002316</td>\n      <td>-0.007334</td>\n      <td>0.006356</td>\n      <td>-0.008272</td>\n      <td>0.014931</td>\n      <td>-0.000666</td>\n      <td>-0.002421</td>\n      <td>-0.036859</td>\n    </tr>\n    <tr>\n      <th>backers</th>\n      <td>0.035443</td>\n      <td>1.000000</td>\n      <td>0.074932</td>\n      <td>0.109898</td>\n      <td>0.705793</td>\n      <td>-0.006284</td>\n      <td>0.005939</td>\n      <td>-0.005786</td>\n      <td>0.045736</td>\n      <td>-0.007845</td>\n      <td>...</td>\n      <td>-0.005895</td>\n      <td>-0.005633</td>\n      <td>-0.002166</td>\n      <td>-0.016071</td>\n      <td>0.012293</td>\n      <td>-0.009664</td>\n      <td>0.083308</td>\n      <td>-0.002835</td>\n      <td>-0.002058</td>\n      <td>0.074310</td>\n    </tr>\n    <tr>\n      <th>levels</th>\n      <td>0.016345</td>\n      <td>0.074932</td>\n      <td>1.000000</td>\n      <td>0.261543</td>\n      <td>0.085806</td>\n      <td>0.040004</td>\n      <td>0.042204</td>\n      <td>-0.043217</td>\n      <td>-0.026505</td>\n      <td>-0.018517</td>\n      <td>...</td>\n      <td>-0.006190</td>\n      <td>0.049329</td>\n      <td>-0.012339</td>\n      <td>-0.049351</td>\n      <td>-0.006410</td>\n      <td>-0.060102</td>\n      <td>0.013807</td>\n      <td>0.007714</td>\n      <td>0.011629</td>\n      <td>0.142504</td>\n    </tr>\n    <tr>\n      <th>updates</th>\n      <td>-0.000637</td>\n      <td>0.109898</td>\n      <td>0.261543</td>\n      <td>1.000000</td>\n      <td>0.101306</td>\n      <td>0.053179</td>\n      <td>0.064854</td>\n      <td>-0.023186</td>\n      <td>0.046232</td>\n      <td>-0.036432</td>\n      <td>...</td>\n      <td>-0.015054</td>\n      <td>-0.022750</td>\n      <td>0.002832</td>\n      <td>-0.020886</td>\n      <td>0.006523</td>\n      <td>-0.042113</td>\n      <td>0.024197</td>\n      <td>-0.013047</td>\n      <td>-0.002708</td>\n      <td>0.388592</td>\n    </tr>\n    <tr>\n      <th>comments</th>\n      <td>0.033333</td>\n      <td>0.705793</td>\n      <td>0.085806</td>\n      <td>0.101306</td>\n      <td>1.000000</td>\n      <td>-0.006056</td>\n      <td>0.017557</td>\n      <td>-0.005237</td>\n      <td>0.026965</td>\n      <td>-0.004796</td>\n      <td>...</td>\n      <td>-0.004496</td>\n      <td>-0.004770</td>\n      <td>-0.002205</td>\n      <td>-0.011446</td>\n      <td>0.008692</td>\n      <td>-0.009526</td>\n      <td>0.089587</td>\n      <td>-0.003652</td>\n      <td>-0.002303</td>\n      <td>0.038145</td>\n    </tr>\n    <tr>\n      <th>...</th>\n      <td>...</td>\n      <td>...</td>\n      <td>...</td>\n      <td>...</td>\n      <td>...</td>\n      <td>...</td>\n      <td>...</td>\n      <td>...</td>\n      <td>...</td>\n      <td>...</td>\n      <td>...</td>\n      <td>...</td>\n      <td>...</td>\n      <td>...</td>\n      <td>...</td>\n      <td>...</td>\n      <td>...</td>\n      <td>...</td>\n      <td>...</td>\n      <td>...</td>\n      <td>...</td>\n    </tr>\n    <tr>\n      <th>subcategory_Theater</th>\n      <td>-0.008272</td>\n      <td>-0.009664</td>\n      <td>-0.060102</td>\n      <td>-0.042113</td>\n      <td>-0.009526</td>\n      <td>-0.026223</td>\n      <td>-0.037356</td>\n      <td>-0.032080</td>\n      <td>-0.048380</td>\n      <td>-0.038771</td>\n      <td>...</td>\n      <td>-0.029755</td>\n      <td>-0.049546</td>\n      <td>-0.021643</td>\n      <td>-0.076636</td>\n      <td>-0.021883</td>\n      <td>1.000000</td>\n      <td>-0.032852</td>\n      <td>-0.038771</td>\n      <td>-0.023302</td>\n      <td>0.078451</td>\n    </tr>\n    <tr>\n      <th>subcategory_Video Games</th>\n      <td>0.014931</td>\n      <td>0.083308</td>\n      <td>0.013807</td>\n      <td>0.024197</td>\n      <td>0.089587</td>\n      <td>-0.012653</td>\n      <td>-0.020617</td>\n      <td>-0.017705</td>\n      <td>-0.026700</td>\n      <td>-0.021397</td>\n      <td>...</td>\n      <td>-0.016421</td>\n      <td>-0.027344</td>\n      <td>-0.011945</td>\n      <td>-0.042295</td>\n      <td>-0.012077</td>\n      <td>-0.032852</td>\n      <td>1.000000</td>\n      <td>-0.021397</td>\n      <td>-0.012860</td>\n      <td>-0.064576</td>\n    </tr>\n    <tr>\n      <th>subcategory_Webseries</th>\n      <td>-0.000666</td>\n      <td>-0.002835</td>\n      <td>0.007714</td>\n      <td>-0.013047</td>\n      <td>-0.003652</td>\n      <td>-0.005034</td>\n      <td>-0.024331</td>\n      <td>-0.020895</td>\n      <td>-0.031511</td>\n      <td>-0.025253</td>\n      <td>...</td>\n      <td>-0.019380</td>\n      <td>-0.032271</td>\n      <td>-0.014097</td>\n      <td>-0.049915</td>\n      <td>-0.014253</td>\n      <td>-0.038771</td>\n      <td>-0.021397</td>\n      <td>1.000000</td>\n      <td>-0.015177</td>\n      <td>-0.040502</td>\n    </tr>\n    <tr>\n      <th>subcategory_World Music</th>\n      <td>-0.002421</td>\n      <td>-0.002058</td>\n      <td>0.011629</td>\n      <td>-0.002708</td>\n      <td>-0.002303</td>\n      <td>0.001691</td>\n      <td>-0.014624</td>\n      <td>-0.012558</td>\n      <td>-0.018939</td>\n      <td>-0.015177</td>\n      <td>...</td>\n      <td>-0.011648</td>\n      <td>-0.019395</td>\n      <td>-0.008472</td>\n      <td>-0.030000</td>\n      <td>-0.008566</td>\n      <td>-0.023302</td>\n      <td>-0.012860</td>\n      <td>-0.015177</td>\n      <td>1.000000</td>\n      <td>0.016855</td>\n    </tr>\n    <tr>\n      <th>status_successful</th>\n      <td>-0.036859</td>\n      <td>0.074310</td>\n      <td>0.142504</td>\n      <td>0.388592</td>\n      <td>0.038145</td>\n      <td>-0.139595</td>\n      <td>-0.001759</td>\n      <td>0.053484</td>\n      <td>-0.032565</td>\n      <td>-0.070527</td>\n      <td>...</td>\n      <td>-0.040017</td>\n      <td>0.056586</td>\n      <td>-0.000724</td>\n      <td>0.043017</td>\n      <td>-0.033461</td>\n      <td>0.078451</td>\n      <td>-0.064576</td>\n      <td>-0.040502</td>\n      <td>0.016855</td>\n      <td>1.000000</td>\n    </tr>\n  </tbody>\n</table>\n<p>67 rows × 67 columns</p>\n</div>",
      "text/plain": "                             goal   backers    levels   updates  comments  \\\ngoal                     1.000000  0.035443  0.016345 -0.000637  0.033333   \nbackers                  0.035443  1.000000  0.074932  0.109898  0.705793   \nlevels                   0.016345  0.074932  1.000000  0.261543  0.085806   \nupdates                 -0.000637  0.109898  0.261543  1.000000  0.101306   \ncomments                 0.033333  0.705793  0.085806  0.101306  1.000000   \n...                           ...       ...       ...       ...       ...   \nsubcategory_Theater     -0.008272 -0.009664 -0.060102 -0.042113 -0.009526   \nsubcategory_Video Games  0.014931  0.083308  0.013807  0.024197  0.089587   \nsubcategory_Webseries   -0.000666 -0.002835  0.007714 -0.013047 -0.003652   \nsubcategory_World Music -0.002421 -0.002058  0.011629 -0.002708 -0.002303   \nstatus_successful       -0.036859  0.074310  0.142504  0.388592  0.038145   \n\n                         duration  category_Comics  category_Dance  \\\ngoal                     0.034539        -0.005176       -0.004807   \nbackers                 -0.006284         0.005939       -0.005786   \nlevels                   0.040004         0.042204       -0.043217   \nupdates                  0.053179         0.064854       -0.023186   \ncomments                -0.006056         0.017557       -0.005237   \n...                           ...              ...             ...   \nsubcategory_Theater     -0.026223        -0.037356       -0.032080   \nsubcategory_Video Games -0.012653        -0.020617       -0.017705   \nsubcategory_Webseries   -0.005034        -0.024331       -0.020895   \nsubcategory_World Music  0.001691        -0.014624       -0.012558   \nstatus_successful       -0.139595        -0.001759        0.053484   \n\n                         category_Design  category_Fashion  ...  \\\ngoal                            0.004823         -0.003348  ...   \nbackers                         0.045736         -0.007845  ...   \nlevels                         -0.026505         -0.018517  ...   \nupdates                         0.046232         -0.036432  ...   \ncomments                        0.026965         -0.004796  ...   \n...                                  ...               ...  ...   \nsubcategory_Theater            -0.048380         -0.038771  ...   \nsubcategory_Video Games        -0.026700         -0.021397  ...   \nsubcategory_Webseries          -0.031511         -0.025253  ...   \nsubcategory_World Music        -0.018939         -0.015177  ...   \nstatus_successful              -0.032565         -0.070527  ...   \n\n                         subcategory_Publishing  subcategory_Rock  \\\ngoal                                  -0.002386         -0.008427   \nbackers                               -0.005895         -0.005633   \nlevels                                -0.006190          0.049329   \nupdates                               -0.015054         -0.022750   \ncomments                              -0.004496         -0.004770   \n...                                         ...               ...   \nsubcategory_Theater                   -0.029755         -0.049546   \nsubcategory_Video Games               -0.016421         -0.027344   \nsubcategory_Webseries                 -0.019380         -0.032271   \nsubcategory_World Music               -0.011648         -0.019395   \nstatus_successful                     -0.040017          0.056586   \n\n                         subcategory_Sculpture  subcategory_Short Film  \\\ngoal                                 -0.002316               -0.007334   \nbackers                              -0.002166               -0.016071   \nlevels                               -0.012339               -0.049351   \nupdates                               0.002832               -0.020886   \ncomments                             -0.002205               -0.011446   \n...                                        ...                     ...   \nsubcategory_Theater                  -0.021643               -0.076636   \nsubcategory_Video Games              -0.011945               -0.042295   \nsubcategory_Webseries                -0.014097               -0.049915   \nsubcategory_World Music              -0.008472               -0.030000   \nstatus_successful                    -0.000724                0.043017   \n\n                         subcategory_Technology  subcategory_Theater  \\\ngoal                                   0.006356            -0.008272   \nbackers                                0.012293            -0.009664   \nlevels                                -0.006410            -0.060102   \nupdates                                0.006523            -0.042113   \ncomments                               0.008692            -0.009526   \n...                                         ...                  ...   \nsubcategory_Theater                   -0.021883             1.000000   \nsubcategory_Video Games               -0.012077            -0.032852   \nsubcategory_Webseries                 -0.014253            -0.038771   \nsubcategory_World Music               -0.008566            -0.023302   \nstatus_successful                     -0.033461             0.078451   \n\n                         subcategory_Video Games  subcategory_Webseries  \\\ngoal                                    0.014931              -0.000666   \nbackers                                 0.083308              -0.002835   \nlevels                                  0.013807               0.007714   \nupdates                                 0.024197              -0.013047   \ncomments                                0.089587              -0.003652   \n...                                          ...                    ...   \nsubcategory_Theater                    -0.032852              -0.038771   \nsubcategory_Video Games                 1.000000              -0.021397   \nsubcategory_Webseries                  -0.021397               1.000000   \nsubcategory_World Music                -0.012860              -0.015177   \nstatus_successful                      -0.064576              -0.040502   \n\n                         subcategory_World Music  status_successful  \ngoal                                   -0.002421          -0.036859  \nbackers                                -0.002058           0.074310  \nlevels                                  0.011629           0.142504  \nupdates                                -0.002708           0.388592  \ncomments                               -0.002303           0.038145  \n...                                          ...                ...  \nsubcategory_Theater                    -0.023302           0.078451  \nsubcategory_Video Games                -0.012860          -0.064576  \nsubcategory_Webseries                  -0.015177          -0.040502  \nsubcategory_World Music                 1.000000           0.016855  \nstatus_successful                       0.016855           1.000000  \n\n[67 rows x 67 columns]"
     },
     "execution_count": 203,
     "metadata": {},
     "output_type": "execute_result"
    }
   ],
   "source": [
    "#Let's look at the numbers associated with correlation, the closer to 1 a pair is, the more statistically correlated they are.\n",
    "correlation_matrix=dummy_data.corr()\n",
    "correlation_matrix"
   ]
  },
  {
   "cell_type": "code",
   "execution_count": 204,
   "metadata": {},
   "outputs": [
    {
     "data": {
      "text/html": "<div>\n<style scoped>\n    .dataframe tbody tr th:only-of-type {\n        vertical-align: middle;\n    }\n\n    .dataframe tbody tr th {\n        vertical-align: top;\n    }\n\n    .dataframe thead th {\n        text-align: right;\n    }\n</style>\n<table border=\"1\" class=\"dataframe\">\n  <thead>\n    <tr style=\"text-align: right;\">\n      <th></th>\n      <th>category_Design</th>\n    </tr>\n  </thead>\n  <tbody>\n    <tr>\n      <th>category_Design</th>\n      <td>1.000000</td>\n    </tr>\n    <tr>\n      <th>subcategory_Crafts</th>\n      <td>0.373088</td>\n    </tr>\n    <tr>\n      <th>subcategory_Design</th>\n      <td>0.402509</td>\n    </tr>\n    <tr>\n      <th>subcategory_Graphic Design</th>\n      <td>0.316213</td>\n    </tr>\n    <tr>\n      <th>subcategory_Product Design</th>\n      <td>0.758878</td>\n    </tr>\n  </tbody>\n</table>\n</div>",
      "text/plain": "                            category_Design\ncategory_Design                    1.000000\nsubcategory_Crafts                 0.373088\nsubcategory_Design                 0.402509\nsubcategory_Graphic Design         0.316213\nsubcategory_Product Design         0.758878"
     },
     "execution_count": 204,
     "metadata": {},
     "output_type": "execute_result"
    }
   ],
   "source": [
    "correlation_matrix.loc[correlation_matrix['category_Design'] > 0.2,['category_Design']]\n",
    "#we see that design subcategories are highly correlated to their category of design, this makes sense a projects limits the what subcategories a project could fit into.\n",
    "#Therefore, I'm going to drop the category attribute while running my logistic regression\n",
    "\n"
   ]
  },
  {
   "cell_type": "code",
   "execution_count": 205,
   "metadata": {},
   "outputs": [],
   "source": [
    "#pull out the values that we need to remove from the dummy data\n",
    "category_list= correlation_matrix.filter(regex = '^category').iloc[0,:]"
   ]
  },
  {
   "cell_type": "code",
   "execution_count": 206,
   "metadata": {},
   "outputs": [
    {
     "data": {
      "text/plain": "['category_Comics',\n 'category_Dance',\n 'category_Design',\n 'category_Fashion',\n 'category_Film & Video',\n 'category_Food',\n 'category_Games',\n 'category_Music',\n 'category_Photography',\n 'category_Publishing',\n 'category_Technology',\n 'category_Theater']"
     },
     "execution_count": 206,
     "metadata": {},
     "output_type": "execute_result"
    }
   ],
   "source": [
    "#Take the category dataframe we created above and transform it into a list.\r\n",
    "category_columns_to_drop= list(category_list.index.values)\r\n",
    "category_columns_to_drop"
   ]
  },
  {
   "cell_type": "code",
   "execution_count": 207,
   "metadata": {},
   "outputs": [],
   "source": [
    "#Let's drop time of day and funded date because I don't know how to account for these things yet\n",
    "dummy_data= dummy_data.drop(columns= category_columns_to_drop)"
   ]
  },
  {
   "cell_type": "code",
   "execution_count": 208,
   "metadata": {},
   "outputs": [],
   "source": [
    "#dummy_data.columns\n",
    "#Double check to make sure category has been removed sucessfully, given our output we are given what we expect\n"
   ]
  },
  {
   "cell_type": "code",
   "execution_count": 209,
   "metadata": {},
   "outputs": [],
   "source": [
    "X_train, X_test, y_train, y_test = train_test_split(dummy_data.drop('status_successful', axis=1),\n",
    "                                                   dummy_data['status_successful'], test_size=0.2,\n",
    "                                                   random_state=200)"
   ]
  },
  {
   "cell_type": "code",
   "execution_count": 210,
   "metadata": {},
   "outputs": [
    {
     "name": "stdout",
     "output_type": "stream",
     "text": [
      "(32480, 54)\n",
      "          goal  backers  levels  updates  comments  duration  subcategory_Art  \\\n",
      "27082   2000.0       43      10        4         7     30.00                0   \n",
      "17216  11000.0       23      18        6         1     42.91                0   \n",
      "27629   8600.0        9       7        0         0     21.00                0   \n",
      "33528    400.0        0       4        0         0      6.96                0   \n",
      "16605    300.0       12       1        0         2     19.25                0   \n",
      "...        ...      ...     ...      ...       ...       ...              ...   \n",
      "30939   5000.0        3       2        0         0     60.04                0   \n",
      "11343   8000.0        1       7        0         0     28.00                0   \n",
      "784     2500.0       92       9        0         4     58.03                0   \n",
      "12905   1200.0       41       5        7         1     45.04                0   \n",
      "1818    1500.0       33       5        5         2     28.03                0   \n",
      "\n",
      "       subcategory_Art Book  subcategory_Board & Card Games  \\\n",
      "27082                     0                               0   \n",
      "17216                     0                               0   \n",
      "27629                     0                               0   \n",
      "33528                     0                               0   \n",
      "16605                     0                               0   \n",
      "...                     ...                             ...   \n",
      "30939                     0                               0   \n",
      "11343                     0                               0   \n",
      "784                       0                               0   \n",
      "12905                     0                               0   \n",
      "1818                      0                               0   \n",
      "\n",
      "       subcategory_Children's Book  ...  subcategory_Public Art  \\\n",
      "27082                            0  ...                       0   \n",
      "17216                            0  ...                       0   \n",
      "27629                            0  ...                       0   \n",
      "33528                            0  ...                       0   \n",
      "16605                            0  ...                       0   \n",
      "...                            ...  ...                     ...   \n",
      "30939                            0  ...                       0   \n",
      "11343                            0  ...                       0   \n",
      "784                              0  ...                       0   \n",
      "12905                            0  ...                       0   \n",
      "1818                             0  ...                       0   \n",
      "\n",
      "       subcategory_Publishing  subcategory_Rock  subcategory_Sculpture  \\\n",
      "27082                       0                 0                      0   \n",
      "17216                       0                 0                      0   \n",
      "27629                       0                 0                      0   \n",
      "33528                       0                 0                      0   \n",
      "16605                       0                 0                      0   \n",
      "...                       ...               ...                    ...   \n",
      "30939                       0                 0                      0   \n",
      "11343                       0                 0                      0   \n",
      "784                         0                 0                      0   \n",
      "12905                       1                 0                      0   \n",
      "1818                        0                 0                      0   \n",
      "\n",
      "       subcategory_Short Film  subcategory_Technology  subcategory_Theater  \\\n",
      "27082                       0                       0                    0   \n",
      "17216                       0                       0                    0   \n",
      "27629                       1                       0                    0   \n",
      "33528                       0                       0                    0   \n",
      "16605                       1                       0                    0   \n",
      "...                       ...                     ...                  ...   \n",
      "30939                       0                       0                    0   \n",
      "11343                       0                       0                    0   \n",
      "784                         0                       0                    0   \n",
      "12905                       0                       0                    0   \n",
      "1818                        0                       0                    0   \n",
      "\n",
      "       subcategory_Video Games  subcategory_Webseries  subcategory_World Music  \n",
      "27082                        0                      0                        0  \n",
      "17216                        0                      0                        0  \n",
      "27629                        0                      0                        0  \n",
      "33528                        0                      0                        0  \n",
      "16605                        0                      0                        0  \n",
      "...                        ...                    ...                      ...  \n",
      "30939                        0                      1                        0  \n",
      "11343                        0                      0                        0  \n",
      "784                          0                      0                        0  \n",
      "12905                        0                      0                        0  \n",
      "1818                         0                      0                        0  \n",
      "\n",
      "[32480 rows x 54 columns]\n"
     ]
    }
   ],
   "source": [
    "print(X_train.shape)\n",
    "print(X_train)\n"
   ]
  },
  {
   "cell_type": "code",
   "execution_count": 211,
   "metadata": {
    "scrolled": true
   },
   "outputs": [
    {
     "name": "stdout",
     "output_type": "stream",
     "text": [
      "(32480,)\n",
      "27082    1\n",
      "17216    0\n",
      "27629    0\n",
      "33528    0\n",
      "16605    1\n",
      "        ..\n",
      "30939    0\n",
      "11343    0\n",
      "784      1\n",
      "12905    1\n",
      "1818     1\n",
      "Name: status_successful, Length: 32480, dtype: uint8\n"
     ]
    }
   ],
   "source": [
    "print(y_train.shape)\n",
    "print(y_train)"
   ]
  },
  {
   "cell_type": "code",
   "execution_count": 212,
   "metadata": {},
   "outputs": [],
   "source": [
    "##Apply feature scaling to the model\n",
    "from sklearn.preprocessing import StandardScaler\n",
    "sc = StandardScaler()\n",
    "X_train = sc.fit_transform(X_train)\n",
    "X_test = sc.transform(X_test)"
   ]
  },
  {
   "cell_type": "code",
   "execution_count": 213,
   "metadata": {},
   "outputs": [
    {
     "data": {
      "text/plain": "LogisticRegression(solver='liblinear')"
     },
     "execution_count": 213,
     "metadata": {},
     "output_type": "execute_result"
    }
   ],
   "source": [
    "#Look up what these functions do\n",
    "LogReg = LogisticRegression(solver='liblinear')\n",
    "LogReg.fit(X_train, y_train)"
   ]
  },
  {
   "cell_type": "code",
   "execution_count": 214,
   "metadata": {},
   "outputs": [],
   "source": [
    "#Look up what these functions do\n",
    "y_pred = LogReg.predict(X_test)"
   ]
  },
  {
   "cell_type": "code",
   "execution_count": null,
   "metadata": {},
   "outputs": [],
   "source": [
    "\n",
    "\n"
   ]
  },
  {
   "cell_type": "code",
   "execution_count": 215,
   "metadata": {
    "scrolled": true
   },
   "outputs": [
    {
     "name": "stdout",
     "output_type": "stream",
     "text": [
      "              precision    recall  f1-score   support\n",
      "\n",
      "           0       0.89      0.90      0.90      3696\n",
      "           1       0.92      0.91      0.91      4424\n",
      "\n",
      "    accuracy                           0.91      8120\n",
      "   macro avg       0.90      0.91      0.91      8120\n",
      "weighted avg       0.91      0.91      0.91      8120\n",
      "\n"
     ]
    }
   ],
   "source": [
    "## Model Evaluation\n",
    "### Classification report without cross-validation\n",
    "print(classification_report(y_test, y_pred))"
   ]
  },
  {
   "cell_type": "code",
   "execution_count": null,
   "metadata": {},
   "outputs": [],
   "source": []
  },
  {
   "cell_type": "code",
   "execution_count": 216,
   "metadata": {},
   "outputs": [
    {
     "data": {
      "text/plain": "array([[13091,  1491],\n       [ 1538, 16360]], dtype=int64)"
     },
     "execution_count": 216,
     "metadata": {},
     "output_type": "execute_result"
    }
   ],
   "source": [
    "### K-fold cross-validation & confusion matrices\n",
    "#calculate the prediction score for your training set\n",
    "y_train_pred = cross_val_predict(LogReg, X_train, y_train, cv=5)\n",
    "confusion_matrix(y_train, y_train_pred)"
   ]
  },
  {
   "cell_type": "code",
   "execution_count": 217,
   "metadata": {},
   "outputs": [
    {
     "data": {
      "text/plain": "0.9164752674920172"
     },
     "execution_count": 217,
     "metadata": {},
     "output_type": "execute_result"
    }
   ],
   "source": [
    "precision_score(y_train, y_train_pred)"
   ]
  },
  {
   "cell_type": "code",
   "execution_count": 218,
   "metadata": {},
   "outputs": [
    {
     "name": "stdout",
     "output_type": "stream",
     "text": [
      "Coefficient Matrix\n",
      "[[-3.25906256e+01  3.81987023e+01 -1.11002696e-01  1.20652422e+00\n",
      "   4.09198664e+00 -2.83617906e-01  7.60684967e-02  7.10303416e-03\n",
      "  -1.62238914e-01 -9.02983310e-02  1.29544957e-01 -4.26040709e-02\n",
      "   4.77002396e-02  1.41952928e-01 -3.44548504e-03  1.74100523e-01\n",
      "  -4.04489440e-03  1.65790246e-02  1.04898673e-01  3.90156065e-02\n",
      "  -4.58993171e-02 -5.51663485e-02  1.33356415e-01  6.96467373e-03\n",
      "  -3.06550801e-02  5.62797118e-04 -4.22406592e-03  2.58944524e-02\n",
      "   2.28546098e-01  1.00360170e-01  2.41957713e-02  2.63810602e-02\n",
      "   1.96918932e-01  1.21855002e-01 -4.27643985e-02 -4.88163580e-02\n",
      "  -5.65496444e-02  4.15052172e-02  7.06554728e-02  2.64210537e-02\n",
      "   1.49675682e-02  1.06524803e-02  1.00618204e-01 -1.81391496e-01\n",
      "   6.96891119e-02 -1.71397784e-02  2.03373391e-01  3.79907156e-02\n",
      "   2.73068122e-01 -8.97198473e-02  2.77417844e-01 -1.88906607e-01\n",
      "   1.70364796e-02  4.93069209e-02]]\n",
      "\n",
      "Training Data column names\n",
      "Index(['goal', 'backers', 'levels', 'updates', 'comments', 'duration',\n",
      "       'subcategory_Art', 'subcategory_Art Book',\n",
      "       'subcategory_Board & Card Games', 'subcategory_Children's Book',\n",
      "       'subcategory_Classical Music', 'subcategory_Comics',\n",
      "       'subcategory_Conceptual Art', 'subcategory_Country & Folk',\n",
      "       'subcategory_Crafts', 'subcategory_Dance', 'subcategory_Design',\n",
      "       'subcategory_Digital Art', 'subcategory_Documentary',\n",
      "       'subcategory_Electronic Music', 'subcategory_Fashion',\n",
      "       'subcategory_Fiction', 'subcategory_Film & Video', 'subcategory_Food',\n",
      "       'subcategory_Games', 'subcategory_Graphic Design',\n",
      "       'subcategory_Hip-Hop', 'subcategory_Illustration',\n",
      "       'subcategory_Indie Rock', 'subcategory_Jazz', 'subcategory_Journalism',\n",
      "       'subcategory_Mixed Media', 'subcategory_Music',\n",
      "       'subcategory_Narrative Film', 'subcategory_Nonfiction',\n",
      "       'subcategory_Open Hardware', 'subcategory_Open Software',\n",
      "       'subcategory_Painting', 'subcategory_Performance Art',\n",
      "       'subcategory_Periodical', 'subcategory_Photography',\n",
      "       'subcategory_Poetry', 'subcategory_Pop', 'subcategory_Product Design',\n",
      "       'subcategory_Public Art', 'subcategory_Publishing', 'subcategory_Rock',\n",
      "       'subcategory_Sculpture', 'subcategory_Short Film',\n",
      "       'subcategory_Technology', 'subcategory_Theater',\n",
      "       'subcategory_Video Games', 'subcategory_Webseries',\n",
      "       'subcategory_World Music', 'status_successful'],\n",
      "      dtype='object')\n"
     ]
    }
   ],
   "source": [
    "print('Coefficient Matrix')\r\n",
    "print(LogReg.coef_)\r\n",
    "# coefficients = pd.Dataframe\r\n",
    "print('')\r\n",
    "print('Training Data column names')\r\n",
    "print(dummy_data.columns)\r\n"
   ]
  },
  {
   "cell_type": "code",
   "execution_count": null,
   "metadata": {},
   "outputs": [],
   "source": [
    "#The coefficient dataframe from the logistic regression model does not have column names associated with it, \r\n",
    "# which makes it hard to quickly identify which variable corresponds to which weight.\r\n",
    "# \r\n",
    "# Fortunately, the coefficients are created in the order in which the logistic regression model received them, \r\n",
    "# which our dummy_data data frame was used to determine.\r\n",
    "# So we can combine the coefficent matrix and use the column names from dummy_data to create a dataframe of variable weights.\r\n",
    "\r\n",
    "column_names = dummy_data.drop('status_successful', axis=1).columns #we have to drop the 'status_successful' column because it was originally included in the dummy_data data frame. there is no weight assigned to \"status_successful\" becasue that's the variable we are trying to calculate.\r\n",
    "\r\n",
    "coeff_df = pd.DataFrame(LogReg.coef_, columns = column_names)\r\n",
    "coeff_df.head()"
   ]
  },
  {
   "cell_type": "code",
   "execution_count": 219,
   "metadata": {},
   "outputs": [
    {
     "name": "stdout",
     "output_type": "stream",
     "text": [
      "                                Weights with Backers\n",
      "goal                                      -32.590626\n",
      "backers                                    38.198702\n",
      "levels                                     -0.111003\n",
      "updates                                     1.206524\n",
      "comments                                    4.091987\n",
      "duration                                   -0.283618\n",
      "subcategory_Art                             0.076068\n",
      "subcategory_Art Book                        0.007103\n",
      "subcategory_Board & Card Games             -0.162239\n",
      "subcategory_Children's Book                -0.090298\n",
      "subcategory_Classical Music                 0.129545\n",
      "subcategory_Comics                         -0.042604\n",
      "subcategory_Conceptual Art                  0.047700\n",
      "subcategory_Country & Folk                  0.141953\n",
      "subcategory_Crafts                         -0.003445\n",
      "subcategory_Dance                           0.174101\n",
      "subcategory_Design                         -0.004045\n",
      "subcategory_Digital Art                     0.016579\n",
      "subcategory_Documentary                     0.104899\n",
      "subcategory_Electronic Music                0.039016\n",
      "subcategory_Fashion                        -0.045899\n",
      "subcategory_Fiction                        -0.055166\n",
      "subcategory_Film & Video                    0.133356\n",
      "subcategory_Food                            0.006965\n",
      "subcategory_Games                          -0.030655\n",
      "subcategory_Graphic Design                  0.000563\n",
      "subcategory_Hip-Hop                        -0.004224\n",
      "subcategory_Illustration                    0.025894\n",
      "subcategory_Indie Rock                      0.228546\n",
      "subcategory_Jazz                            0.100360\n",
      "subcategory_Journalism                      0.024196\n",
      "subcategory_Mixed Media                     0.026381\n",
      "subcategory_Music                           0.196919\n",
      "subcategory_Narrative Film                  0.121855\n",
      "subcategory_Nonfiction                     -0.042764\n",
      "subcategory_Open Hardware                  -0.048816\n",
      "subcategory_Open Software                  -0.056550\n",
      "subcategory_Painting                        0.041505\n",
      "subcategory_Performance Art                 0.070655\n",
      "subcategory_Periodical                      0.026421\n",
      "subcategory_Photography                     0.014968\n",
      "subcategory_Poetry                          0.010652\n",
      "subcategory_Pop                             0.100618\n",
      "subcategory_Product Design                 -0.181391\n",
      "subcategory_Public Art                      0.069689\n",
      "subcategory_Publishing                     -0.017140\n",
      "subcategory_Rock                            0.203373\n",
      "subcategory_Sculpture                       0.037991\n",
      "subcategory_Short Film                      0.273068\n",
      "subcategory_Technology                     -0.089720\n",
      "subcategory_Theater                         0.277418\n",
      "subcategory_Video Games                    -0.188907\n",
      "subcategory_Webseries                       0.017036\n",
      "subcategory_World Music                     0.049307\n"
     ]
    }
   ],
   "source": [
    "#Lets reshape the matrix so that it's one column and multiple rows.\r\n",
    "coeff_df_transpose= coeff_df.transpose().rename(columns={0:\"Weights with Backers\"}, errors=\"raise\")\r\n",
    "print(coeff_df_transpose)\r\n",
    "#next step, let's sort the rows by their value"
   ]
  },
  {
   "cell_type": "code",
   "execution_count": 220,
   "metadata": {},
   "outputs": [],
   "source": [
    "# coeff_df_transpose= coeff_df_transpose.rename(columns={0:\"Weights with Backers\"}, errors=\"raise\")\r\n",
    "# print(coeff_df_transpose)"
   ]
  },
  {
   "cell_type": "code",
   "execution_count": 221,
   "metadata": {},
   "outputs": [
    {
     "data": {
      "text/html": "<div>\n<style scoped>\n    .dataframe tbody tr th:only-of-type {\n        vertical-align: middle;\n    }\n\n    .dataframe tbody tr th {\n        vertical-align: top;\n    }\n\n    .dataframe thead th {\n        text-align: right;\n    }\n</style>\n<table border=\"1\" class=\"dataframe\">\n  <thead>\n    <tr style=\"text-align: right;\">\n      <th></th>\n      <th>Weights with Backers</th>\n    </tr>\n  </thead>\n  <tbody>\n    <tr>\n      <th>goal</th>\n      <td>-32.590626</td>\n    </tr>\n    <tr>\n      <th>duration</th>\n      <td>-0.283618</td>\n    </tr>\n    <tr>\n      <th>subcategory_Video Games</th>\n      <td>-0.188907</td>\n    </tr>\n    <tr>\n      <th>subcategory_Product Design</th>\n      <td>-0.181391</td>\n    </tr>\n    <tr>\n      <th>subcategory_Board &amp; Card Games</th>\n      <td>-0.162239</td>\n    </tr>\n    <tr>\n      <th>levels</th>\n      <td>-0.111003</td>\n    </tr>\n    <tr>\n      <th>subcategory_Children's Book</th>\n      <td>-0.090298</td>\n    </tr>\n    <tr>\n      <th>subcategory_Technology</th>\n      <td>-0.089720</td>\n    </tr>\n    <tr>\n      <th>subcategory_Open Software</th>\n      <td>-0.056550</td>\n    </tr>\n    <tr>\n      <th>subcategory_Fiction</th>\n      <td>-0.055166</td>\n    </tr>\n    <tr>\n      <th>subcategory_Open Hardware</th>\n      <td>-0.048816</td>\n    </tr>\n    <tr>\n      <th>subcategory_Fashion</th>\n      <td>-0.045899</td>\n    </tr>\n    <tr>\n      <th>subcategory_Nonfiction</th>\n      <td>-0.042764</td>\n    </tr>\n    <tr>\n      <th>subcategory_Comics</th>\n      <td>-0.042604</td>\n    </tr>\n    <tr>\n      <th>subcategory_Games</th>\n      <td>-0.030655</td>\n    </tr>\n    <tr>\n      <th>subcategory_Publishing</th>\n      <td>-0.017140</td>\n    </tr>\n    <tr>\n      <th>subcategory_Hip-Hop</th>\n      <td>-0.004224</td>\n    </tr>\n    <tr>\n      <th>subcategory_Design</th>\n      <td>-0.004045</td>\n    </tr>\n    <tr>\n      <th>subcategory_Crafts</th>\n      <td>-0.003445</td>\n    </tr>\n    <tr>\n      <th>subcategory_Graphic Design</th>\n      <td>0.000563</td>\n    </tr>\n    <tr>\n      <th>subcategory_Food</th>\n      <td>0.006965</td>\n    </tr>\n    <tr>\n      <th>subcategory_Art Book</th>\n      <td>0.007103</td>\n    </tr>\n    <tr>\n      <th>subcategory_Poetry</th>\n      <td>0.010652</td>\n    </tr>\n    <tr>\n      <th>subcategory_Photography</th>\n      <td>0.014968</td>\n    </tr>\n    <tr>\n      <th>subcategory_Digital Art</th>\n      <td>0.016579</td>\n    </tr>\n    <tr>\n      <th>subcategory_Webseries</th>\n      <td>0.017036</td>\n    </tr>\n    <tr>\n      <th>subcategory_Journalism</th>\n      <td>0.024196</td>\n    </tr>\n    <tr>\n      <th>subcategory_Illustration</th>\n      <td>0.025894</td>\n    </tr>\n    <tr>\n      <th>subcategory_Mixed Media</th>\n      <td>0.026381</td>\n    </tr>\n    <tr>\n      <th>subcategory_Periodical</th>\n      <td>0.026421</td>\n    </tr>\n    <tr>\n      <th>subcategory_Sculpture</th>\n      <td>0.037991</td>\n    </tr>\n    <tr>\n      <th>subcategory_Electronic Music</th>\n      <td>0.039016</td>\n    </tr>\n    <tr>\n      <th>subcategory_Painting</th>\n      <td>0.041505</td>\n    </tr>\n    <tr>\n      <th>subcategory_Conceptual Art</th>\n      <td>0.047700</td>\n    </tr>\n    <tr>\n      <th>subcategory_World Music</th>\n      <td>0.049307</td>\n    </tr>\n    <tr>\n      <th>subcategory_Public Art</th>\n      <td>0.069689</td>\n    </tr>\n    <tr>\n      <th>subcategory_Performance Art</th>\n      <td>0.070655</td>\n    </tr>\n    <tr>\n      <th>subcategory_Art</th>\n      <td>0.076068</td>\n    </tr>\n    <tr>\n      <th>subcategory_Jazz</th>\n      <td>0.100360</td>\n    </tr>\n    <tr>\n      <th>subcategory_Pop</th>\n      <td>0.100618</td>\n    </tr>\n    <tr>\n      <th>subcategory_Documentary</th>\n      <td>0.104899</td>\n    </tr>\n    <tr>\n      <th>subcategory_Narrative Film</th>\n      <td>0.121855</td>\n    </tr>\n    <tr>\n      <th>subcategory_Classical Music</th>\n      <td>0.129545</td>\n    </tr>\n    <tr>\n      <th>subcategory_Film &amp; Video</th>\n      <td>0.133356</td>\n    </tr>\n    <tr>\n      <th>subcategory_Country &amp; Folk</th>\n      <td>0.141953</td>\n    </tr>\n    <tr>\n      <th>subcategory_Dance</th>\n      <td>0.174101</td>\n    </tr>\n    <tr>\n      <th>subcategory_Music</th>\n      <td>0.196919</td>\n    </tr>\n    <tr>\n      <th>subcategory_Rock</th>\n      <td>0.203373</td>\n    </tr>\n    <tr>\n      <th>subcategory_Indie Rock</th>\n      <td>0.228546</td>\n    </tr>\n    <tr>\n      <th>subcategory_Short Film</th>\n      <td>0.273068</td>\n    </tr>\n    <tr>\n      <th>subcategory_Theater</th>\n      <td>0.277418</td>\n    </tr>\n    <tr>\n      <th>updates</th>\n      <td>1.206524</td>\n    </tr>\n    <tr>\n      <th>comments</th>\n      <td>4.091987</td>\n    </tr>\n    <tr>\n      <th>backers</th>\n      <td>38.198702</td>\n    </tr>\n  </tbody>\n</table>\n</div>",
      "text/plain": "                                Weights with Backers\ngoal                                      -32.590626\nduration                                   -0.283618\nsubcategory_Video Games                    -0.188907\nsubcategory_Product Design                 -0.181391\nsubcategory_Board & Card Games             -0.162239\nlevels                                     -0.111003\nsubcategory_Children's Book                -0.090298\nsubcategory_Technology                     -0.089720\nsubcategory_Open Software                  -0.056550\nsubcategory_Fiction                        -0.055166\nsubcategory_Open Hardware                  -0.048816\nsubcategory_Fashion                        -0.045899\nsubcategory_Nonfiction                     -0.042764\nsubcategory_Comics                         -0.042604\nsubcategory_Games                          -0.030655\nsubcategory_Publishing                     -0.017140\nsubcategory_Hip-Hop                        -0.004224\nsubcategory_Design                         -0.004045\nsubcategory_Crafts                         -0.003445\nsubcategory_Graphic Design                  0.000563\nsubcategory_Food                            0.006965\nsubcategory_Art Book                        0.007103\nsubcategory_Poetry                          0.010652\nsubcategory_Photography                     0.014968\nsubcategory_Digital Art                     0.016579\nsubcategory_Webseries                       0.017036\nsubcategory_Journalism                      0.024196\nsubcategory_Illustration                    0.025894\nsubcategory_Mixed Media                     0.026381\nsubcategory_Periodical                      0.026421\nsubcategory_Sculpture                       0.037991\nsubcategory_Electronic Music                0.039016\nsubcategory_Painting                        0.041505\nsubcategory_Conceptual Art                  0.047700\nsubcategory_World Music                     0.049307\nsubcategory_Public Art                      0.069689\nsubcategory_Performance Art                 0.070655\nsubcategory_Art                             0.076068\nsubcategory_Jazz                            0.100360\nsubcategory_Pop                             0.100618\nsubcategory_Documentary                     0.104899\nsubcategory_Narrative Film                  0.121855\nsubcategory_Classical Music                 0.129545\nsubcategory_Film & Video                    0.133356\nsubcategory_Country & Folk                  0.141953\nsubcategory_Dance                           0.174101\nsubcategory_Music                           0.196919\nsubcategory_Rock                            0.203373\nsubcategory_Indie Rock                      0.228546\nsubcategory_Short Film                      0.273068\nsubcategory_Theater                         0.277418\nupdates                                     1.206524\ncomments                                    4.091987\nbackers                                    38.198702"
     },
     "execution_count": 221,
     "metadata": {},
     "output_type": "execute_result"
    }
   ],
   "source": [
    "coeff_df_transpose.sort_values('Weights with Backers')\n",
    "#backers has the highest positive weight of 38,\n",
    "#Comments had the positive wieght of 4,\n",
    "#updates had a positive weight of 1.207\n",
    "#Goal amount had a negative weight of -32.5, followed by duration at -0.2863\n"
   ]
  },
  {
   "cell_type": "code",
   "execution_count": 222,
   "metadata": {},
   "outputs": [],
   "source": [
    "#Pull out category weights\r\n",
    "# category_weights = coeff_df_transpose.filter(regex = \"^category\", axis=0)\r\n",
    "# category_weights.sort_values('Weights with Backers', ascending = False)\r\n",
    "# #Having the category of either Music, theater, or dance had a net positive effect,\r\n",
    "# #while everything else had a negative effect on the ability to succeed.\r\n"
   ]
  },
  {
   "cell_type": "code",
   "execution_count": null,
   "metadata": {},
   "outputs": [],
   "source": []
  },
  {
   "cell_type": "code",
   "execution_count": 223,
   "metadata": {},
   "outputs": [
    {
     "data": {
      "text/html": "<div>\n<style scoped>\n    .dataframe tbody tr th:only-of-type {\n        vertical-align: middle;\n    }\n\n    .dataframe tbody tr th {\n        vertical-align: top;\n    }\n\n    .dataframe thead th {\n        text-align: right;\n    }\n</style>\n<table border=\"1\" class=\"dataframe\">\n  <thead>\n    <tr style=\"text-align: right;\">\n      <th></th>\n      <th>Weights with Backers</th>\n    </tr>\n  </thead>\n  <tbody>\n    <tr>\n      <th>subcategory_Theater</th>\n      <td>0.277418</td>\n    </tr>\n    <tr>\n      <th>subcategory_Short Film</th>\n      <td>0.273068</td>\n    </tr>\n    <tr>\n      <th>subcategory_Indie Rock</th>\n      <td>0.228546</td>\n    </tr>\n    <tr>\n      <th>subcategory_Rock</th>\n      <td>0.203373</td>\n    </tr>\n    <tr>\n      <th>subcategory_Music</th>\n      <td>0.196919</td>\n    </tr>\n    <tr>\n      <th>subcategory_Dance</th>\n      <td>0.174101</td>\n    </tr>\n    <tr>\n      <th>subcategory_Country &amp; Folk</th>\n      <td>0.141953</td>\n    </tr>\n    <tr>\n      <th>subcategory_Film &amp; Video</th>\n      <td>0.133356</td>\n    </tr>\n    <tr>\n      <th>subcategory_Classical Music</th>\n      <td>0.129545</td>\n    </tr>\n    <tr>\n      <th>subcategory_Narrative Film</th>\n      <td>0.121855</td>\n    </tr>\n    <tr>\n      <th>subcategory_Documentary</th>\n      <td>0.104899</td>\n    </tr>\n    <tr>\n      <th>subcategory_Pop</th>\n      <td>0.100618</td>\n    </tr>\n    <tr>\n      <th>subcategory_Jazz</th>\n      <td>0.100360</td>\n    </tr>\n    <tr>\n      <th>subcategory_Art</th>\n      <td>0.076068</td>\n    </tr>\n    <tr>\n      <th>subcategory_Performance Art</th>\n      <td>0.070655</td>\n    </tr>\n    <tr>\n      <th>subcategory_Public Art</th>\n      <td>0.069689</td>\n    </tr>\n    <tr>\n      <th>subcategory_World Music</th>\n      <td>0.049307</td>\n    </tr>\n    <tr>\n      <th>subcategory_Conceptual Art</th>\n      <td>0.047700</td>\n    </tr>\n    <tr>\n      <th>subcategory_Painting</th>\n      <td>0.041505</td>\n    </tr>\n    <tr>\n      <th>subcategory_Electronic Music</th>\n      <td>0.039016</td>\n    </tr>\n    <tr>\n      <th>subcategory_Sculpture</th>\n      <td>0.037991</td>\n    </tr>\n    <tr>\n      <th>subcategory_Periodical</th>\n      <td>0.026421</td>\n    </tr>\n    <tr>\n      <th>subcategory_Mixed Media</th>\n      <td>0.026381</td>\n    </tr>\n    <tr>\n      <th>subcategory_Illustration</th>\n      <td>0.025894</td>\n    </tr>\n    <tr>\n      <th>subcategory_Journalism</th>\n      <td>0.024196</td>\n    </tr>\n    <tr>\n      <th>subcategory_Webseries</th>\n      <td>0.017036</td>\n    </tr>\n    <tr>\n      <th>subcategory_Digital Art</th>\n      <td>0.016579</td>\n    </tr>\n    <tr>\n      <th>subcategory_Photography</th>\n      <td>0.014968</td>\n    </tr>\n    <tr>\n      <th>subcategory_Poetry</th>\n      <td>0.010652</td>\n    </tr>\n    <tr>\n      <th>subcategory_Art Book</th>\n      <td>0.007103</td>\n    </tr>\n    <tr>\n      <th>subcategory_Food</th>\n      <td>0.006965</td>\n    </tr>\n    <tr>\n      <th>subcategory_Graphic Design</th>\n      <td>0.000563</td>\n    </tr>\n    <tr>\n      <th>subcategory_Crafts</th>\n      <td>-0.003445</td>\n    </tr>\n    <tr>\n      <th>subcategory_Design</th>\n      <td>-0.004045</td>\n    </tr>\n    <tr>\n      <th>subcategory_Hip-Hop</th>\n      <td>-0.004224</td>\n    </tr>\n    <tr>\n      <th>subcategory_Publishing</th>\n      <td>-0.017140</td>\n    </tr>\n    <tr>\n      <th>subcategory_Games</th>\n      <td>-0.030655</td>\n    </tr>\n    <tr>\n      <th>subcategory_Comics</th>\n      <td>-0.042604</td>\n    </tr>\n    <tr>\n      <th>subcategory_Nonfiction</th>\n      <td>-0.042764</td>\n    </tr>\n    <tr>\n      <th>subcategory_Fashion</th>\n      <td>-0.045899</td>\n    </tr>\n    <tr>\n      <th>subcategory_Open Hardware</th>\n      <td>-0.048816</td>\n    </tr>\n    <tr>\n      <th>subcategory_Fiction</th>\n      <td>-0.055166</td>\n    </tr>\n    <tr>\n      <th>subcategory_Open Software</th>\n      <td>-0.056550</td>\n    </tr>\n    <tr>\n      <th>subcategory_Technology</th>\n      <td>-0.089720</td>\n    </tr>\n    <tr>\n      <th>subcategory_Children's Book</th>\n      <td>-0.090298</td>\n    </tr>\n    <tr>\n      <th>subcategory_Board &amp; Card Games</th>\n      <td>-0.162239</td>\n    </tr>\n    <tr>\n      <th>subcategory_Product Design</th>\n      <td>-0.181391</td>\n    </tr>\n    <tr>\n      <th>subcategory_Video Games</th>\n      <td>-0.188907</td>\n    </tr>\n  </tbody>\n</table>\n</div>",
      "text/plain": "                                Weights with Backers\nsubcategory_Theater                         0.277418\nsubcategory_Short Film                      0.273068\nsubcategory_Indie Rock                      0.228546\nsubcategory_Rock                            0.203373\nsubcategory_Music                           0.196919\nsubcategory_Dance                           0.174101\nsubcategory_Country & Folk                  0.141953\nsubcategory_Film & Video                    0.133356\nsubcategory_Classical Music                 0.129545\nsubcategory_Narrative Film                  0.121855\nsubcategory_Documentary                     0.104899\nsubcategory_Pop                             0.100618\nsubcategory_Jazz                            0.100360\nsubcategory_Art                             0.076068\nsubcategory_Performance Art                 0.070655\nsubcategory_Public Art                      0.069689\nsubcategory_World Music                     0.049307\nsubcategory_Conceptual Art                  0.047700\nsubcategory_Painting                        0.041505\nsubcategory_Electronic Music                0.039016\nsubcategory_Sculpture                       0.037991\nsubcategory_Periodical                      0.026421\nsubcategory_Mixed Media                     0.026381\nsubcategory_Illustration                    0.025894\nsubcategory_Journalism                      0.024196\nsubcategory_Webseries                       0.017036\nsubcategory_Digital Art                     0.016579\nsubcategory_Photography                     0.014968\nsubcategory_Poetry                          0.010652\nsubcategory_Art Book                        0.007103\nsubcategory_Food                            0.006965\nsubcategory_Graphic Design                  0.000563\nsubcategory_Crafts                         -0.003445\nsubcategory_Design                         -0.004045\nsubcategory_Hip-Hop                        -0.004224\nsubcategory_Publishing                     -0.017140\nsubcategory_Games                          -0.030655\nsubcategory_Comics                         -0.042604\nsubcategory_Nonfiction                     -0.042764\nsubcategory_Fashion                        -0.045899\nsubcategory_Open Hardware                  -0.048816\nsubcategory_Fiction                        -0.055166\nsubcategory_Open Software                  -0.056550\nsubcategory_Technology                     -0.089720\nsubcategory_Children's Book                -0.090298\nsubcategory_Board & Card Games             -0.162239\nsubcategory_Product Design                 -0.181391\nsubcategory_Video Games                    -0.188907"
     },
     "execution_count": 223,
     "metadata": {},
     "output_type": "execute_result"
    }
   ],
   "source": [
    "#Pull out subcategory weights\n",
    "subcategory_weights = coeff_df_transpose.filter(regex = \"^subcategory\", axis=0)\n",
    "subcategory_weights.sort_values('Weights with Backers', ascending = False)\n",
    "#Short film had the most postiive effect"
   ]
  },
  {
   "cell_type": "code",
   "execution_count": 224,
   "metadata": {},
   "outputs": [],
   "source": [
    "#Lets see what we get when you pull-out category and the number of backers from our model"
   ]
  },
  {
   "cell_type": "code",
   "execution_count": 225,
   "metadata": {},
   "outputs": [],
   "source": [
    "#Get dummies is function built into pandas that will create binary columns for us for categorical variables.\n",
    "\n",
    "dummy_data = pd.get_dummies(logreg_data,columns=['subcategory','status'],drop_first = True)\n",
    "#Let's drop time of day and funded date because I don't know how to account for these things yet\n",
    "#let's also get rid of backers because of how strong of an impact it had on everything. \n",
    "#Let's get rid of category to see just how important subcategory is for this analysis\n",
    "dummy_data= dummy_data.drop(columns= [\"backers\",'category'])"
   ]
  },
  {
   "cell_type": "code",
   "execution_count": 226,
   "metadata": {},
   "outputs": [
    {
     "name": "stdout",
     "output_type": "stream",
     "text": [
      "(32480, 53)\n",
      "          goal  levels  updates  comments  duration  subcategory_Art  \\\n",
      "27082   2000.0      10        4         7     30.00                0   \n",
      "17216  11000.0      18        6         1     42.91                0   \n",
      "27629   8600.0       7        0         0     21.00                0   \n",
      "33528    400.0       4        0         0      6.96                0   \n",
      "16605    300.0       1        0         2     19.25                0   \n",
      "...        ...     ...      ...       ...       ...              ...   \n",
      "30939   5000.0       2        0         0     60.04                0   \n",
      "11343   8000.0       7        0         0     28.00                0   \n",
      "784     2500.0       9        0         4     58.03                0   \n",
      "12905   1200.0       5        7         1     45.04                0   \n",
      "1818    1500.0       5        5         2     28.03                0   \n",
      "\n",
      "       subcategory_Art Book  subcategory_Board & Card Games  \\\n",
      "27082                     0                               0   \n",
      "17216                     0                               0   \n",
      "27629                     0                               0   \n",
      "33528                     0                               0   \n",
      "16605                     0                               0   \n",
      "...                     ...                             ...   \n",
      "30939                     0                               0   \n",
      "11343                     0                               0   \n",
      "784                       0                               0   \n",
      "12905                     0                               0   \n",
      "1818                      0                               0   \n",
      "\n",
      "       subcategory_Children's Book  subcategory_Classical Music  ...  \\\n",
      "27082                            0                            0  ...   \n",
      "17216                            0                            0  ...   \n",
      "27629                            0                            0  ...   \n",
      "33528                            0                            1  ...   \n",
      "16605                            0                            0  ...   \n",
      "...                            ...                          ...  ...   \n",
      "30939                            0                            0  ...   \n",
      "11343                            0                            0  ...   \n",
      "784                              0                            0  ...   \n",
      "12905                            0                            0  ...   \n",
      "1818                             0                            0  ...   \n",
      "\n",
      "       subcategory_Public Art  subcategory_Publishing  subcategory_Rock  \\\n",
      "27082                       0                       0                 0   \n",
      "17216                       0                       0                 0   \n",
      "27629                       0                       0                 0   \n",
      "33528                       0                       0                 0   \n",
      "16605                       0                       0                 0   \n",
      "...                       ...                     ...               ...   \n",
      "30939                       0                       0                 0   \n",
      "11343                       0                       0                 0   \n",
      "784                         0                       0                 0   \n",
      "12905                       0                       1                 0   \n",
      "1818                        0                       0                 0   \n",
      "\n",
      "       subcategory_Sculpture  subcategory_Short Film  subcategory_Technology  \\\n",
      "27082                      0                       0                       0   \n",
      "17216                      0                       0                       0   \n",
      "27629                      0                       1                       0   \n",
      "33528                      0                       0                       0   \n",
      "16605                      0                       1                       0   \n",
      "...                      ...                     ...                     ...   \n",
      "30939                      0                       0                       0   \n",
      "11343                      0                       0                       0   \n",
      "784                        0                       0                       0   \n",
      "12905                      0                       0                       0   \n",
      "1818                       0                       0                       0   \n",
      "\n",
      "       subcategory_Theater  subcategory_Video Games  subcategory_Webseries  \\\n",
      "27082                    0                        0                      0   \n",
      "17216                    0                        0                      0   \n",
      "27629                    0                        0                      0   \n",
      "33528                    0                        0                      0   \n",
      "16605                    0                        0                      0   \n",
      "...                    ...                      ...                    ...   \n",
      "30939                    0                        0                      1   \n",
      "11343                    0                        0                      0   \n",
      "784                      0                        0                      0   \n",
      "12905                    0                        0                      0   \n",
      "1818                     0                        0                      0   \n",
      "\n",
      "       subcategory_World Music  \n",
      "27082                        0  \n",
      "17216                        0  \n",
      "27629                        0  \n",
      "33528                        0  \n",
      "16605                        0  \n",
      "...                        ...  \n",
      "30939                        0  \n",
      "11343                        0  \n",
      "784                          0  \n",
      "12905                        0  \n",
      "1818                         0  \n",
      "\n",
      "[32480 rows x 53 columns]\n"
     ]
    }
   ],
   "source": [
    "X_train, X_test, y_train, y_test = train_test_split(dummy_data.drop('status_successful', axis=1),\n",
    "                                                   dummy_data['status_successful'], test_size=0.2,\n",
    "                                                   random_state=200)\n",
    "print(X_train.shape)\n",
    "print(X_train)\n"
   ]
  },
  {
   "cell_type": "code",
   "execution_count": 227,
   "metadata": {},
   "outputs": [
    {
     "name": "stdout",
     "output_type": "stream",
     "text": [
      "(32480,)\n",
      "27082    1\n",
      "17216    0\n",
      "27629    0\n",
      "33528    0\n",
      "16605    1\n",
      "        ..\n",
      "30939    0\n",
      "11343    0\n",
      "784      1\n",
      "12905    1\n",
      "1818     1\n",
      "Name: status_successful, Length: 32480, dtype: uint8\n"
     ]
    }
   ],
   "source": [
    "print(y_train.shape)\n",
    "print(y_train)"
   ]
  },
  {
   "cell_type": "code",
   "execution_count": 228,
   "metadata": {},
   "outputs": [],
   "source": [
    "sc = StandardScaler()\n",
    "X_train = sc.fit_transform(X_train)\n",
    "X_test = sc.transform(X_test)\n",
    "LogReg = LogisticRegression(solver='liblinear')\n",
    "LogReg.fit(X_train, y_train)\n",
    "y_pred = LogReg.predict(X_test)"
   ]
  },
  {
   "cell_type": "code",
   "execution_count": 229,
   "metadata": {},
   "outputs": [
    {
     "name": "stdout",
     "output_type": "stream",
     "text": [
      "              precision    recall  f1-score   support\n",
      "\n",
      "           0       0.81      0.79      0.80      3696\n",
      "           1       0.83      0.84      0.84      4424\n",
      "\n",
      "    accuracy                           0.82      8120\n",
      "   macro avg       0.82      0.82      0.82      8120\n",
      "weighted avg       0.82      0.82      0.82      8120\n",
      "\n"
     ]
    }
   ],
   "source": [
    "## Model Evaluation\n",
    "### Classification report without cross-validation\n",
    "print(classification_report(y_test, y_pred))"
   ]
  },
  {
   "cell_type": "code",
   "execution_count": 230,
   "metadata": {},
   "outputs": [
    {
     "data": {
      "text/plain": "array([[11638,  2944],\n       [ 2767, 15131]], dtype=int64)"
     },
     "execution_count": 230,
     "metadata": {},
     "output_type": "execute_result"
    }
   ],
   "source": [
    "### K-fold cross-validation & confusion matrices\n",
    "#calculate the prediction score for your training set\n",
    "y_train_pred = cross_val_predict(LogReg, X_train, y_train, cv=5)\n",
    "confusion_matrix(y_train, y_train_pred)"
   ]
  },
  {
   "cell_type": "code",
   "execution_count": 231,
   "metadata": {},
   "outputs": [
    {
     "data": {
      "text/plain": "0.8371230982019364"
     },
     "execution_count": 231,
     "metadata": {},
     "output_type": "execute_result"
    }
   ],
   "source": [
    "precision_score(y_train, y_train_pred)"
   ]
  },
  {
   "cell_type": "code",
   "execution_count": 232,
   "metadata": {},
   "outputs": [
    {
     "name": "stdout",
     "output_type": "stream",
     "text": [
      "              precision    recall  f1-score   support\n",
      "\n",
      "           0       0.81      0.80      0.80     14582\n",
      "           1       0.84      0.85      0.84     17898\n",
      "\n",
      "    accuracy                           0.82     32480\n",
      "   macro avg       0.82      0.82      0.82     32480\n",
      "weighted avg       0.82      0.82      0.82     32480\n",
      "\n"
     ]
    }
   ],
   "source": [
    "print(classification_report(y_train, y_train_pred))"
   ]
  },
  {
   "cell_type": "code",
   "execution_count": 233,
   "metadata": {},
   "outputs": [
    {
     "data": {
      "text/html": "<div>\n<style scoped>\n    .dataframe tbody tr th:only-of-type {\n        vertical-align: middle;\n    }\n\n    .dataframe tbody tr th {\n        vertical-align: top;\n    }\n\n    .dataframe thead th {\n        text-align: right;\n    }\n</style>\n<table border=\"1\" class=\"dataframe\">\n  <thead>\n    <tr style=\"text-align: right;\">\n      <th></th>\n      <th>goal</th>\n      <th>levels</th>\n      <th>updates</th>\n      <th>comments</th>\n      <th>duration</th>\n      <th>subcategory_Art</th>\n      <th>subcategory_Art Book</th>\n      <th>subcategory_Board &amp; Card Games</th>\n      <th>subcategory_Children's Book</th>\n      <th>subcategory_Classical Music</th>\n      <th>...</th>\n      <th>subcategory_Public Art</th>\n      <th>subcategory_Publishing</th>\n      <th>subcategory_Rock</th>\n      <th>subcategory_Sculpture</th>\n      <th>subcategory_Short Film</th>\n      <th>subcategory_Technology</th>\n      <th>subcategory_Theater</th>\n      <th>subcategory_Video Games</th>\n      <th>subcategory_Webseries</th>\n      <th>subcategory_World Music</th>\n    </tr>\n  </thead>\n  <tbody>\n    <tr>\n      <th>0</th>\n      <td>-18.924517</td>\n      <td>0.131845</td>\n      <td>2.205087</td>\n      <td>22.964868</td>\n      <td>-0.349559</td>\n      <td>0.107874</td>\n      <td>0.012101</td>\n      <td>-0.153101</td>\n      <td>-0.08108</td>\n      <td>0.161008</td>\n      <td>...</td>\n      <td>0.101386</td>\n      <td>-0.015151</td>\n      <td>0.230741</td>\n      <td>0.035377</td>\n      <td>0.26403</td>\n      <td>-0.06437</td>\n      <td>0.371746</td>\n      <td>-0.254753</td>\n      <td>0.021736</td>\n      <td>0.09171</td>\n    </tr>\n  </tbody>\n</table>\n<p>1 rows × 53 columns</p>\n</div>",
      "text/plain": "        goal    levels   updates   comments  duration  subcategory_Art  \\\n0 -18.924517  0.131845  2.205087  22.964868 -0.349559         0.107874   \n\n   subcategory_Art Book  subcategory_Board & Card Games  \\\n0              0.012101                       -0.153101   \n\n   subcategory_Children's Book  subcategory_Classical Music  ...  \\\n0                     -0.08108                     0.161008  ...   \n\n   subcategory_Public Art  subcategory_Publishing  subcategory_Rock  \\\n0                0.101386               -0.015151          0.230741   \n\n   subcategory_Sculpture  subcategory_Short Film  subcategory_Technology  \\\n0               0.035377                 0.26403                -0.06437   \n\n   subcategory_Theater  subcategory_Video Games  subcategory_Webseries  \\\n0             0.371746                -0.254753               0.021736   \n\n   subcategory_World Music  \n0                  0.09171  \n\n[1 rows x 53 columns]"
     },
     "execution_count": 233,
     "metadata": {},
     "output_type": "execute_result"
    }
   ],
   "source": [
    "#Save my coefficients into a pretty dataframe\n",
    "column_names = dummy_data.drop('status_successful', axis=1).columns\n",
    "no_backers_coeff_df = pd.DataFrame(LogReg.coef_, columns = column_names)\n",
    "no_backers_coeff_df.head()"
   ]
  },
  {
   "cell_type": "code",
   "execution_count": 234,
   "metadata": {},
   "outputs": [],
   "source": [
    "df2 = {'backers': 'NA'}\n",
    "no_backers_coeff_df = no_backers_coeff_df.append(df2,ignore_index=True)"
   ]
  },
  {
   "cell_type": "code",
   "execution_count": 235,
   "metadata": {},
   "outputs": [
    {
     "data": {
      "text/html": "<div>\n<style scoped>\n    .dataframe tbody tr th:only-of-type {\n        vertical-align: middle;\n    }\n\n    .dataframe tbody tr th {\n        vertical-align: top;\n    }\n\n    .dataframe thead th {\n        text-align: right;\n    }\n</style>\n<table border=\"1\" class=\"dataframe\">\n  <thead>\n    <tr style=\"text-align: right;\">\n      <th></th>\n      <th>Weights with No Backers</th>\n    </tr>\n  </thead>\n  <tbody>\n    <tr>\n      <th>goal</th>\n      <td>-18.924517</td>\n    </tr>\n    <tr>\n      <th>duration</th>\n      <td>-0.349559</td>\n    </tr>\n    <tr>\n      <th>subcategory_Video Games</th>\n      <td>-0.254753</td>\n    </tr>\n    <tr>\n      <th>subcategory_Board &amp; Card Games</th>\n      <td>-0.153101</td>\n    </tr>\n    <tr>\n      <th>subcategory_Product Design</th>\n      <td>-0.142339</td>\n    </tr>\n    <tr>\n      <th>subcategory_Fiction</th>\n      <td>-0.083561</td>\n    </tr>\n    <tr>\n      <th>subcategory_Children's Book</th>\n      <td>-0.08108</td>\n    </tr>\n    <tr>\n      <th>subcategory_Fashion</th>\n      <td>-0.071313</td>\n    </tr>\n    <tr>\n      <th>subcategory_Technology</th>\n      <td>-0.06437</td>\n    </tr>\n    <tr>\n      <th>subcategory_Comics</th>\n      <td>-0.063869</td>\n    </tr>\n    <tr>\n      <th>subcategory_Open Hardware</th>\n      <td>-0.05373</td>\n    </tr>\n    <tr>\n      <th>subcategory_Games</th>\n      <td>-0.051395</td>\n    </tr>\n    <tr>\n      <th>subcategory_Open Software</th>\n      <td>-0.028591</td>\n    </tr>\n    <tr>\n      <th>subcategory_Nonfiction</th>\n      <td>-0.024652</td>\n    </tr>\n    <tr>\n      <th>subcategory_Publishing</th>\n      <td>-0.015151</td>\n    </tr>\n    <tr>\n      <th>subcategory_Crafts</th>\n      <td>-0.012183</td>\n    </tr>\n    <tr>\n      <th>subcategory_Hip-Hop</th>\n      <td>-0.009811</td>\n    </tr>\n    <tr>\n      <th>subcategory_Digital Art</th>\n      <td>0.006094</td>\n    </tr>\n    <tr>\n      <th>subcategory_Graphic Design</th>\n      <td>0.008691</td>\n    </tr>\n    <tr>\n      <th>subcategory_Art Book</th>\n      <td>0.012101</td>\n    </tr>\n    <tr>\n      <th>subcategory_Illustration</th>\n      <td>0.015403</td>\n    </tr>\n    <tr>\n      <th>subcategory_Photography</th>\n      <td>0.016985</td>\n    </tr>\n    <tr>\n      <th>subcategory_Painting</th>\n      <td>0.01938</td>\n    </tr>\n    <tr>\n      <th>subcategory_Design</th>\n      <td>0.019538</td>\n    </tr>\n    <tr>\n      <th>subcategory_Webseries</th>\n      <td>0.021736</td>\n    </tr>\n    <tr>\n      <th>subcategory_Poetry</th>\n      <td>0.02348</td>\n    </tr>\n    <tr>\n      <th>subcategory_Mixed Media</th>\n      <td>0.033721</td>\n    </tr>\n    <tr>\n      <th>subcategory_Sculpture</th>\n      <td>0.035377</td>\n    </tr>\n    <tr>\n      <th>subcategory_Journalism</th>\n      <td>0.040201</td>\n    </tr>\n    <tr>\n      <th>subcategory_Electronic Music</th>\n      <td>0.043476</td>\n    </tr>\n    <tr>\n      <th>subcategory_Conceptual Art</th>\n      <td>0.045872</td>\n    </tr>\n    <tr>\n      <th>subcategory_Periodical</th>\n      <td>0.055011</td>\n    </tr>\n    <tr>\n      <th>subcategory_Food</th>\n      <td>0.062898</td>\n    </tr>\n    <tr>\n      <th>subcategory_World Music</th>\n      <td>0.09171</td>\n    </tr>\n    <tr>\n      <th>subcategory_Performance Art</th>\n      <td>0.095326</td>\n    </tr>\n    <tr>\n      <th>subcategory_Public Art</th>\n      <td>0.101386</td>\n    </tr>\n    <tr>\n      <th>subcategory_Art</th>\n      <td>0.107874</td>\n    </tr>\n    <tr>\n      <th>subcategory_Jazz</th>\n      <td>0.115589</td>\n    </tr>\n    <tr>\n      <th>subcategory_Narrative Film</th>\n      <td>0.12008</td>\n    </tr>\n    <tr>\n      <th>subcategory_Film &amp; Video</th>\n      <td>0.120617</td>\n    </tr>\n    <tr>\n      <th>subcategory_Pop</th>\n      <td>0.126072</td>\n    </tr>\n    <tr>\n      <th>levels</th>\n      <td>0.131845</td>\n    </tr>\n    <tr>\n      <th>subcategory_Classical Music</th>\n      <td>0.161008</td>\n    </tr>\n    <tr>\n      <th>subcategory_Documentary</th>\n      <td>0.170198</td>\n    </tr>\n    <tr>\n      <th>subcategory_Country &amp; Folk</th>\n      <td>0.195414</td>\n    </tr>\n    <tr>\n      <th>subcategory_Dance</th>\n      <td>0.222003</td>\n    </tr>\n    <tr>\n      <th>subcategory_Rock</th>\n      <td>0.230741</td>\n    </tr>\n    <tr>\n      <th>subcategory_Music</th>\n      <td>0.254477</td>\n    </tr>\n    <tr>\n      <th>subcategory_Short Film</th>\n      <td>0.26403</td>\n    </tr>\n    <tr>\n      <th>subcategory_Indie Rock</th>\n      <td>0.273183</td>\n    </tr>\n    <tr>\n      <th>subcategory_Theater</th>\n      <td>0.371746</td>\n    </tr>\n    <tr>\n      <th>updates</th>\n      <td>2.205087</td>\n    </tr>\n    <tr>\n      <th>comments</th>\n      <td>22.964868</td>\n    </tr>\n    <tr>\n      <th>backers</th>\n      <td>NaN</td>\n    </tr>\n  </tbody>\n</table>\n</div>",
      "text/plain": "                               Weights with No Backers\ngoal                                        -18.924517\nduration                                     -0.349559\nsubcategory_Video Games                      -0.254753\nsubcategory_Board & Card Games               -0.153101\nsubcategory_Product Design                   -0.142339\nsubcategory_Fiction                          -0.083561\nsubcategory_Children's Book                   -0.08108\nsubcategory_Fashion                          -0.071313\nsubcategory_Technology                        -0.06437\nsubcategory_Comics                           -0.063869\nsubcategory_Open Hardware                     -0.05373\nsubcategory_Games                            -0.051395\nsubcategory_Open Software                    -0.028591\nsubcategory_Nonfiction                       -0.024652\nsubcategory_Publishing                       -0.015151\nsubcategory_Crafts                           -0.012183\nsubcategory_Hip-Hop                          -0.009811\nsubcategory_Digital Art                       0.006094\nsubcategory_Graphic Design                    0.008691\nsubcategory_Art Book                          0.012101\nsubcategory_Illustration                      0.015403\nsubcategory_Photography                       0.016985\nsubcategory_Painting                           0.01938\nsubcategory_Design                            0.019538\nsubcategory_Webseries                         0.021736\nsubcategory_Poetry                             0.02348\nsubcategory_Mixed Media                       0.033721\nsubcategory_Sculpture                         0.035377\nsubcategory_Journalism                        0.040201\nsubcategory_Electronic Music                  0.043476\nsubcategory_Conceptual Art                    0.045872\nsubcategory_Periodical                        0.055011\nsubcategory_Food                              0.062898\nsubcategory_World Music                        0.09171\nsubcategory_Performance Art                   0.095326\nsubcategory_Public Art                        0.101386\nsubcategory_Art                               0.107874\nsubcategory_Jazz                              0.115589\nsubcategory_Narrative Film                     0.12008\nsubcategory_Film & Video                      0.120617\nsubcategory_Pop                               0.126072\nlevels                                        0.131845\nsubcategory_Classical Music                   0.161008\nsubcategory_Documentary                       0.170198\nsubcategory_Country & Folk                    0.195414\nsubcategory_Dance                             0.222003\nsubcategory_Rock                              0.230741\nsubcategory_Music                             0.254477\nsubcategory_Short Film                         0.26403\nsubcategory_Indie Rock                        0.273183\nsubcategory_Theater                           0.371746\nupdates                                       2.205087\ncomments                                     22.964868\nbackers                                            NaN"
     },
     "execution_count": 235,
     "metadata": {},
     "output_type": "execute_result"
    }
   ],
   "source": [
    "#Transpose the dataframe to make it easier to read\n",
    "\n",
    "\n",
    "no_backers_coeff_df_transpose= no_backers_coeff_df.transpose()\n",
    "\n",
    "no_backers_coeff_df_transpose.drop(columns = [1],inplace=True)\n",
    "\n",
    "\n",
    "no_backers_coeff_df_transpose= no_backers_coeff_df_transpose.rename(columns={0:\"Weights with No Backers\"}, errors=\"raise\")\n",
    "no_backers_coeff_df_transpose.sort_values('Weights with No Backers')"
   ]
  },
  {
   "cell_type": "code",
   "execution_count": 236,
   "metadata": {},
   "outputs": [
    {
     "data": {
      "text/html": "<div>\n<style scoped>\n    .dataframe tbody tr th:only-of-type {\n        vertical-align: middle;\n    }\n\n    .dataframe tbody tr th {\n        vertical-align: top;\n    }\n\n    .dataframe thead th {\n        text-align: right;\n    }\n</style>\n<table border=\"1\" class=\"dataframe\">\n  <thead>\n    <tr style=\"text-align: right;\">\n      <th></th>\n      <th>Weights with Backers</th>\n      <th>Weights with No Backers</th>\n    </tr>\n  </thead>\n  <tbody>\n    <tr>\n      <th>goal</th>\n      <td>-32.590626</td>\n      <td>-18.924517</td>\n    </tr>\n    <tr>\n      <th>duration</th>\n      <td>-0.283618</td>\n      <td>-0.349559</td>\n    </tr>\n    <tr>\n      <th>subcategory_Video Games</th>\n      <td>-0.188907</td>\n      <td>-0.254753</td>\n    </tr>\n    <tr>\n      <th>subcategory_Product Design</th>\n      <td>-0.181391</td>\n      <td>-0.142339</td>\n    </tr>\n    <tr>\n      <th>subcategory_Board &amp; Card Games</th>\n      <td>-0.162239</td>\n      <td>-0.153101</td>\n    </tr>\n    <tr>\n      <th>levels</th>\n      <td>-0.111003</td>\n      <td>0.131845</td>\n    </tr>\n    <tr>\n      <th>subcategory_Children's Book</th>\n      <td>-0.090298</td>\n      <td>-0.08108</td>\n    </tr>\n    <tr>\n      <th>subcategory_Technology</th>\n      <td>-0.089720</td>\n      <td>-0.06437</td>\n    </tr>\n    <tr>\n      <th>subcategory_Open Software</th>\n      <td>-0.056550</td>\n      <td>-0.028591</td>\n    </tr>\n    <tr>\n      <th>subcategory_Fiction</th>\n      <td>-0.055166</td>\n      <td>-0.083561</td>\n    </tr>\n    <tr>\n      <th>subcategory_Open Hardware</th>\n      <td>-0.048816</td>\n      <td>-0.05373</td>\n    </tr>\n    <tr>\n      <th>subcategory_Fashion</th>\n      <td>-0.045899</td>\n      <td>-0.071313</td>\n    </tr>\n    <tr>\n      <th>subcategory_Nonfiction</th>\n      <td>-0.042764</td>\n      <td>-0.024652</td>\n    </tr>\n    <tr>\n      <th>subcategory_Comics</th>\n      <td>-0.042604</td>\n      <td>-0.063869</td>\n    </tr>\n    <tr>\n      <th>subcategory_Games</th>\n      <td>-0.030655</td>\n      <td>-0.051395</td>\n    </tr>\n    <tr>\n      <th>subcategory_Publishing</th>\n      <td>-0.017140</td>\n      <td>-0.015151</td>\n    </tr>\n    <tr>\n      <th>subcategory_Hip-Hop</th>\n      <td>-0.004224</td>\n      <td>-0.009811</td>\n    </tr>\n    <tr>\n      <th>subcategory_Design</th>\n      <td>-0.004045</td>\n      <td>0.019538</td>\n    </tr>\n    <tr>\n      <th>subcategory_Crafts</th>\n      <td>-0.003445</td>\n      <td>-0.012183</td>\n    </tr>\n    <tr>\n      <th>subcategory_Graphic Design</th>\n      <td>0.000563</td>\n      <td>0.008691</td>\n    </tr>\n    <tr>\n      <th>subcategory_Food</th>\n      <td>0.006965</td>\n      <td>0.062898</td>\n    </tr>\n    <tr>\n      <th>subcategory_Art Book</th>\n      <td>0.007103</td>\n      <td>0.012101</td>\n    </tr>\n    <tr>\n      <th>subcategory_Poetry</th>\n      <td>0.010652</td>\n      <td>0.02348</td>\n    </tr>\n    <tr>\n      <th>subcategory_Photography</th>\n      <td>0.014968</td>\n      <td>0.016985</td>\n    </tr>\n    <tr>\n      <th>subcategory_Digital Art</th>\n      <td>0.016579</td>\n      <td>0.006094</td>\n    </tr>\n    <tr>\n      <th>subcategory_Webseries</th>\n      <td>0.017036</td>\n      <td>0.021736</td>\n    </tr>\n    <tr>\n      <th>subcategory_Journalism</th>\n      <td>0.024196</td>\n      <td>0.040201</td>\n    </tr>\n    <tr>\n      <th>subcategory_Illustration</th>\n      <td>0.025894</td>\n      <td>0.015403</td>\n    </tr>\n    <tr>\n      <th>subcategory_Mixed Media</th>\n      <td>0.026381</td>\n      <td>0.033721</td>\n    </tr>\n    <tr>\n      <th>subcategory_Periodical</th>\n      <td>0.026421</td>\n      <td>0.055011</td>\n    </tr>\n    <tr>\n      <th>subcategory_Sculpture</th>\n      <td>0.037991</td>\n      <td>0.035377</td>\n    </tr>\n    <tr>\n      <th>subcategory_Electronic Music</th>\n      <td>0.039016</td>\n      <td>0.043476</td>\n    </tr>\n    <tr>\n      <th>subcategory_Painting</th>\n      <td>0.041505</td>\n      <td>0.01938</td>\n    </tr>\n    <tr>\n      <th>subcategory_Conceptual Art</th>\n      <td>0.047700</td>\n      <td>0.045872</td>\n    </tr>\n    <tr>\n      <th>subcategory_World Music</th>\n      <td>0.049307</td>\n      <td>0.09171</td>\n    </tr>\n    <tr>\n      <th>subcategory_Public Art</th>\n      <td>0.069689</td>\n      <td>0.101386</td>\n    </tr>\n    <tr>\n      <th>subcategory_Performance Art</th>\n      <td>0.070655</td>\n      <td>0.095326</td>\n    </tr>\n    <tr>\n      <th>subcategory_Art</th>\n      <td>0.076068</td>\n      <td>0.107874</td>\n    </tr>\n    <tr>\n      <th>subcategory_Jazz</th>\n      <td>0.100360</td>\n      <td>0.115589</td>\n    </tr>\n    <tr>\n      <th>subcategory_Pop</th>\n      <td>0.100618</td>\n      <td>0.126072</td>\n    </tr>\n    <tr>\n      <th>subcategory_Documentary</th>\n      <td>0.104899</td>\n      <td>0.170198</td>\n    </tr>\n    <tr>\n      <th>subcategory_Narrative Film</th>\n      <td>0.121855</td>\n      <td>0.12008</td>\n    </tr>\n    <tr>\n      <th>subcategory_Classical Music</th>\n      <td>0.129545</td>\n      <td>0.161008</td>\n    </tr>\n    <tr>\n      <th>subcategory_Film &amp; Video</th>\n      <td>0.133356</td>\n      <td>0.120617</td>\n    </tr>\n    <tr>\n      <th>subcategory_Country &amp; Folk</th>\n      <td>0.141953</td>\n      <td>0.195414</td>\n    </tr>\n    <tr>\n      <th>subcategory_Dance</th>\n      <td>0.174101</td>\n      <td>0.222003</td>\n    </tr>\n    <tr>\n      <th>subcategory_Music</th>\n      <td>0.196919</td>\n      <td>0.254477</td>\n    </tr>\n    <tr>\n      <th>subcategory_Rock</th>\n      <td>0.203373</td>\n      <td>0.230741</td>\n    </tr>\n    <tr>\n      <th>subcategory_Indie Rock</th>\n      <td>0.228546</td>\n      <td>0.273183</td>\n    </tr>\n    <tr>\n      <th>subcategory_Short Film</th>\n      <td>0.273068</td>\n      <td>0.26403</td>\n    </tr>\n    <tr>\n      <th>subcategory_Theater</th>\n      <td>0.277418</td>\n      <td>0.371746</td>\n    </tr>\n    <tr>\n      <th>updates</th>\n      <td>1.206524</td>\n      <td>2.205087</td>\n    </tr>\n    <tr>\n      <th>comments</th>\n      <td>4.091987</td>\n      <td>22.964868</td>\n    </tr>\n    <tr>\n      <th>backers</th>\n      <td>38.198702</td>\n      <td>NaN</td>\n    </tr>\n  </tbody>\n</table>\n</div>",
      "text/plain": "                                Weights with Backers Weights with No Backers\ngoal                                      -32.590626              -18.924517\nduration                                   -0.283618               -0.349559\nsubcategory_Video Games                    -0.188907               -0.254753\nsubcategory_Product Design                 -0.181391               -0.142339\nsubcategory_Board & Card Games             -0.162239               -0.153101\nlevels                                     -0.111003                0.131845\nsubcategory_Children's Book                -0.090298                -0.08108\nsubcategory_Technology                     -0.089720                -0.06437\nsubcategory_Open Software                  -0.056550               -0.028591\nsubcategory_Fiction                        -0.055166               -0.083561\nsubcategory_Open Hardware                  -0.048816                -0.05373\nsubcategory_Fashion                        -0.045899               -0.071313\nsubcategory_Nonfiction                     -0.042764               -0.024652\nsubcategory_Comics                         -0.042604               -0.063869\nsubcategory_Games                          -0.030655               -0.051395\nsubcategory_Publishing                     -0.017140               -0.015151\nsubcategory_Hip-Hop                        -0.004224               -0.009811\nsubcategory_Design                         -0.004045                0.019538\nsubcategory_Crafts                         -0.003445               -0.012183\nsubcategory_Graphic Design                  0.000563                0.008691\nsubcategory_Food                            0.006965                0.062898\nsubcategory_Art Book                        0.007103                0.012101\nsubcategory_Poetry                          0.010652                 0.02348\nsubcategory_Photography                     0.014968                0.016985\nsubcategory_Digital Art                     0.016579                0.006094\nsubcategory_Webseries                       0.017036                0.021736\nsubcategory_Journalism                      0.024196                0.040201\nsubcategory_Illustration                    0.025894                0.015403\nsubcategory_Mixed Media                     0.026381                0.033721\nsubcategory_Periodical                      0.026421                0.055011\nsubcategory_Sculpture                       0.037991                0.035377\nsubcategory_Electronic Music                0.039016                0.043476\nsubcategory_Painting                        0.041505                 0.01938\nsubcategory_Conceptual Art                  0.047700                0.045872\nsubcategory_World Music                     0.049307                 0.09171\nsubcategory_Public Art                      0.069689                0.101386\nsubcategory_Performance Art                 0.070655                0.095326\nsubcategory_Art                             0.076068                0.107874\nsubcategory_Jazz                            0.100360                0.115589\nsubcategory_Pop                             0.100618                0.126072\nsubcategory_Documentary                     0.104899                0.170198\nsubcategory_Narrative Film                  0.121855                 0.12008\nsubcategory_Classical Music                 0.129545                0.161008\nsubcategory_Film & Video                    0.133356                0.120617\nsubcategory_Country & Folk                  0.141953                0.195414\nsubcategory_Dance                           0.174101                0.222003\nsubcategory_Music                           0.196919                0.254477\nsubcategory_Rock                            0.203373                0.230741\nsubcategory_Indie Rock                      0.228546                0.273183\nsubcategory_Short Film                      0.273068                 0.26403\nsubcategory_Theater                         0.277418                0.371746\nupdates                                     1.206524                2.205087\ncomments                                    4.091987               22.964868\nbackers                                    38.198702                     NaN"
     },
     "execution_count": 236,
     "metadata": {},
     "output_type": "execute_result"
    }
   ],
   "source": [
    "#Let's take the weights from the training model before and after we removed # of backers and categories from the equation\n",
    "#Let's see how it differs.\n",
    "weight_comparison = pd.merge(coeff_df_transpose, no_backers_coeff_df_transpose, left_index= True, right_index=True)\n",
    "weight_comparison.sort_values('Weights with Backers')\n"
   ]
  },
  {
   "cell_type": "code",
   "execution_count": null,
   "metadata": {},
   "outputs": [],
   "source": []
  }
 ],
 "metadata": {
  "kernelspec": {
   "display_name": "Python 3.8.5 64-bit (conda)",
   "name": "python385jvsc74a57bd0eeda52a798dd57b2ef8e13888075653d22071a8bc304d44073bbf5a37bcf9649"
  },
  "language_info": {
   "codemirror_mode": {
    "name": "ipython",
    "version": 3
   },
   "file_extension": ".py",
   "mimetype": "text/x-python",
   "name": "python",
   "nbconvert_exporter": "python",
   "pygments_lexer": "ipython3",
   "version": "3.8.5"
  }
 },
 "nbformat": 4,
 "nbformat_minor": 4
}